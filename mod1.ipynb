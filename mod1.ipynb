{
 "cells": [
  {
   "cell_type": "markdown",
   "id": "57d976e5",
   "metadata": {},
   "source": [
    "# Описание проекта"
   ]
  },
  {
   "cell_type": "markdown",
   "id": "3bd00635",
   "metadata": {},
   "source": [
    "Вы работаете в интернет-магазине «Стримчик», который продаёт по всему миру компьютерные игры. Из открытых источников доступны исторические данные о продажах игр, оценки пользователей и экспертов, жанры и платформы (например, Xbox или PlayStation). Вам нужно выявить определяющие успешность игры закономерности. Это позволит сделать ставку на потенциально популярный продукт и спланировать рекламные кампании.\n",
    "\n",
    "Перед вами данные до 2016 года. Представим, что сейчас декабрь 2016 г., и вы планируете кампанию на 2017-й. Нужно отработать принцип работы с данными. Неважно, прогнозируете ли вы продажи на 2017 год по данным 2016-го или же 2027-й — по данным 2026 года.\n",
    "\n",
    "В наборе данных попадается аббревиатура ESRB (Entertainment Software Rating Board) — это ассоциация, определяющая возрастной рейтинг компьютерных игр. ESRB оценивает игровой контент и присваивает ему подходящую возрастную категорию, например, «Для взрослых», «Для детей младшего возраста» или «Для подростков»."
   ]
  },
  {
   "cell_type": "markdown",
   "id": "ecec9e0c",
   "metadata": {},
   "source": [
    "# Этап 1"
   ]
  },
  {
   "cell_type": "markdown",
   "id": "0ff82dec",
   "metadata": {},
   "source": [
    "Откройте файл с данными и изучите общую информацию"
   ]
  },
  {
   "cell_type": "code",
   "execution_count": 1,
   "id": "fc2768b4",
   "metadata": {},
   "outputs": [],
   "source": [
    "import pandas as pd"
   ]
  },
  {
   "cell_type": "code",
   "execution_count": 2,
   "id": "c1570069",
   "metadata": {},
   "outputs": [
    {
     "data": {
      "text/html": [
       "<div>\n",
       "<style scoped>\n",
       "    .dataframe tbody tr th:only-of-type {\n",
       "        vertical-align: middle;\n",
       "    }\n",
       "\n",
       "    .dataframe tbody tr th {\n",
       "        vertical-align: top;\n",
       "    }\n",
       "\n",
       "    .dataframe thead th {\n",
       "        text-align: right;\n",
       "    }\n",
       "</style>\n",
       "<table border=\"1\" class=\"dataframe\">\n",
       "  <thead>\n",
       "    <tr style=\"text-align: right;\">\n",
       "      <th></th>\n",
       "      <th>Name</th>\n",
       "      <th>Platform</th>\n",
       "      <th>Year_of_Release</th>\n",
       "      <th>Genre</th>\n",
       "      <th>NA_sales</th>\n",
       "      <th>EU_sales</th>\n",
       "      <th>JP_sales</th>\n",
       "      <th>Other_sales</th>\n",
       "      <th>Critic_Score</th>\n",
       "      <th>User_Score</th>\n",
       "      <th>Rating</th>\n",
       "    </tr>\n",
       "  </thead>\n",
       "  <tbody>\n",
       "    <tr>\n",
       "      <th>0</th>\n",
       "      <td>Wii Sports</td>\n",
       "      <td>Wii</td>\n",
       "      <td>2006.0</td>\n",
       "      <td>Sports</td>\n",
       "      <td>41.36</td>\n",
       "      <td>28.96</td>\n",
       "      <td>3.77</td>\n",
       "      <td>8.45</td>\n",
       "      <td>76.0</td>\n",
       "      <td>8</td>\n",
       "      <td>E</td>\n",
       "    </tr>\n",
       "    <tr>\n",
       "      <th>1</th>\n",
       "      <td>Super Mario Bros.</td>\n",
       "      <td>NES</td>\n",
       "      <td>1985.0</td>\n",
       "      <td>Platform</td>\n",
       "      <td>29.08</td>\n",
       "      <td>3.58</td>\n",
       "      <td>6.81</td>\n",
       "      <td>0.77</td>\n",
       "      <td>NaN</td>\n",
       "      <td>NaN</td>\n",
       "      <td>NaN</td>\n",
       "    </tr>\n",
       "    <tr>\n",
       "      <th>2</th>\n",
       "      <td>Mario Kart Wii</td>\n",
       "      <td>Wii</td>\n",
       "      <td>2008.0</td>\n",
       "      <td>Racing</td>\n",
       "      <td>15.68</td>\n",
       "      <td>12.76</td>\n",
       "      <td>3.79</td>\n",
       "      <td>3.29</td>\n",
       "      <td>82.0</td>\n",
       "      <td>8.3</td>\n",
       "      <td>E</td>\n",
       "    </tr>\n",
       "    <tr>\n",
       "      <th>3</th>\n",
       "      <td>Wii Sports Resort</td>\n",
       "      <td>Wii</td>\n",
       "      <td>2009.0</td>\n",
       "      <td>Sports</td>\n",
       "      <td>15.61</td>\n",
       "      <td>10.93</td>\n",
       "      <td>3.28</td>\n",
       "      <td>2.95</td>\n",
       "      <td>80.0</td>\n",
       "      <td>8</td>\n",
       "      <td>E</td>\n",
       "    </tr>\n",
       "    <tr>\n",
       "      <th>4</th>\n",
       "      <td>Pokemon Red/Pokemon Blue</td>\n",
       "      <td>GB</td>\n",
       "      <td>1996.0</td>\n",
       "      <td>Role-Playing</td>\n",
       "      <td>11.27</td>\n",
       "      <td>8.89</td>\n",
       "      <td>10.22</td>\n",
       "      <td>1.00</td>\n",
       "      <td>NaN</td>\n",
       "      <td>NaN</td>\n",
       "      <td>NaN</td>\n",
       "    </tr>\n",
       "    <tr>\n",
       "      <th>5</th>\n",
       "      <td>Tetris</td>\n",
       "      <td>GB</td>\n",
       "      <td>1989.0</td>\n",
       "      <td>Puzzle</td>\n",
       "      <td>23.20</td>\n",
       "      <td>2.26</td>\n",
       "      <td>4.22</td>\n",
       "      <td>0.58</td>\n",
       "      <td>NaN</td>\n",
       "      <td>NaN</td>\n",
       "      <td>NaN</td>\n",
       "    </tr>\n",
       "    <tr>\n",
       "      <th>6</th>\n",
       "      <td>New Super Mario Bros.</td>\n",
       "      <td>DS</td>\n",
       "      <td>2006.0</td>\n",
       "      <td>Platform</td>\n",
       "      <td>11.28</td>\n",
       "      <td>9.14</td>\n",
       "      <td>6.50</td>\n",
       "      <td>2.88</td>\n",
       "      <td>89.0</td>\n",
       "      <td>8.5</td>\n",
       "      <td>E</td>\n",
       "    </tr>\n",
       "    <tr>\n",
       "      <th>7</th>\n",
       "      <td>Wii Play</td>\n",
       "      <td>Wii</td>\n",
       "      <td>2006.0</td>\n",
       "      <td>Misc</td>\n",
       "      <td>13.96</td>\n",
       "      <td>9.18</td>\n",
       "      <td>2.93</td>\n",
       "      <td>2.84</td>\n",
       "      <td>58.0</td>\n",
       "      <td>6.6</td>\n",
       "      <td>E</td>\n",
       "    </tr>\n",
       "    <tr>\n",
       "      <th>8</th>\n",
       "      <td>New Super Mario Bros. Wii</td>\n",
       "      <td>Wii</td>\n",
       "      <td>2009.0</td>\n",
       "      <td>Platform</td>\n",
       "      <td>14.44</td>\n",
       "      <td>6.94</td>\n",
       "      <td>4.70</td>\n",
       "      <td>2.24</td>\n",
       "      <td>87.0</td>\n",
       "      <td>8.4</td>\n",
       "      <td>E</td>\n",
       "    </tr>\n",
       "    <tr>\n",
       "      <th>9</th>\n",
       "      <td>Duck Hunt</td>\n",
       "      <td>NES</td>\n",
       "      <td>1984.0</td>\n",
       "      <td>Shooter</td>\n",
       "      <td>26.93</td>\n",
       "      <td>0.63</td>\n",
       "      <td>0.28</td>\n",
       "      <td>0.47</td>\n",
       "      <td>NaN</td>\n",
       "      <td>NaN</td>\n",
       "      <td>NaN</td>\n",
       "    </tr>\n",
       "  </tbody>\n",
       "</table>\n",
       "</div>"
      ],
      "text/plain": [
       "                        Name Platform  Year_of_Release         Genre  \\\n",
       "0                 Wii Sports      Wii           2006.0        Sports   \n",
       "1          Super Mario Bros.      NES           1985.0      Platform   \n",
       "2             Mario Kart Wii      Wii           2008.0        Racing   \n",
       "3          Wii Sports Resort      Wii           2009.0        Sports   \n",
       "4   Pokemon Red/Pokemon Blue       GB           1996.0  Role-Playing   \n",
       "5                     Tetris       GB           1989.0        Puzzle   \n",
       "6      New Super Mario Bros.       DS           2006.0      Platform   \n",
       "7                   Wii Play      Wii           2006.0          Misc   \n",
       "8  New Super Mario Bros. Wii      Wii           2009.0      Platform   \n",
       "9                  Duck Hunt      NES           1984.0       Shooter   \n",
       "\n",
       "   NA_sales  EU_sales  JP_sales  Other_sales  Critic_Score User_Score Rating  \n",
       "0     41.36     28.96      3.77         8.45          76.0          8      E  \n",
       "1     29.08      3.58      6.81         0.77           NaN        NaN    NaN  \n",
       "2     15.68     12.76      3.79         3.29          82.0        8.3      E  \n",
       "3     15.61     10.93      3.28         2.95          80.0          8      E  \n",
       "4     11.27      8.89     10.22         1.00           NaN        NaN    NaN  \n",
       "5     23.20      2.26      4.22         0.58           NaN        NaN    NaN  \n",
       "6     11.28      9.14      6.50         2.88          89.0        8.5      E  \n",
       "7     13.96      9.18      2.93         2.84          58.0        6.6      E  \n",
       "8     14.44      6.94      4.70         2.24          87.0        8.4      E  \n",
       "9     26.93      0.63      0.28         0.47           NaN        NaN    NaN  "
      ]
     },
     "execution_count": 2,
     "metadata": {},
     "output_type": "execute_result"
    }
   ],
   "source": [
    "data_games = pd.read_csv('games.csv')\n",
    "data_games.head(10)"
   ]
  },
  {
   "cell_type": "code",
   "execution_count": 3,
   "id": "1e2c2c8a",
   "metadata": {},
   "outputs": [
    {
     "data": {
      "text/plain": [
       "(16715, 11)"
      ]
     },
     "execution_count": 3,
     "metadata": {},
     "output_type": "execute_result"
    }
   ],
   "source": [
    "data_games.shape"
   ]
  },
  {
   "cell_type": "code",
   "execution_count": 4,
   "id": "4badf123",
   "metadata": {},
   "outputs": [
    {
     "name": "stdout",
     "output_type": "stream",
     "text": [
      "<class 'pandas.core.frame.DataFrame'>\n",
      "RangeIndex: 16715 entries, 0 to 16714\n",
      "Data columns (total 11 columns):\n",
      " #   Column           Non-Null Count  Dtype  \n",
      "---  ------           --------------  -----  \n",
      " 0   Name             16713 non-null  object \n",
      " 1   Platform         16715 non-null  object \n",
      " 2   Year_of_Release  16446 non-null  float64\n",
      " 3   Genre            16713 non-null  object \n",
      " 4   NA_sales         16715 non-null  float64\n",
      " 5   EU_sales         16715 non-null  float64\n",
      " 6   JP_sales         16715 non-null  float64\n",
      " 7   Other_sales      16715 non-null  float64\n",
      " 8   Critic_Score     8137 non-null   float64\n",
      " 9   User_Score       10014 non-null  object \n",
      " 10  Rating           9949 non-null   object \n",
      "dtypes: float64(6), object(5)\n",
      "memory usage: 1.4+ MB\n"
     ]
    }
   ],
   "source": [
    "data_games.info()"
   ]
  },
  {
   "cell_type": "markdown",
   "id": "7e7d93ba",
   "metadata": {},
   "source": [
    "### Описание данных\n",
    "\n",
    "\n",
    "* **Name** — название игры\n",
    "* **Platform** — платформа\n",
    "* **Year_of_Release** — год выпуска\n",
    "* **Genre** — жанр игры\n",
    "* **NA_sales** — продажи в Северной Америке (миллионы проданных копий)\n",
    "* **EU_sales** — продажи в Европе (миллионы проданных копий)\n",
    "* **JP_sales** — продажи в Японии (миллионы проданных копий)\n",
    "* **Other_sales** — продажи в других странах (миллионы проданных копий)\n",
    "* **Critic_Score** — оценка критиков (максимум 100)\n",
    "* **User_Score** — оценка пользователей (максимум 10)\n",
    "* **Rating** — рейтинг от организации ESRB (англ. Entertainment Software Rating Board). Эта ассоциация определяет рейтинг компьютерных игр и присваивает им подходящую возрастную категорию.\n",
    "\n",
    "Данные за 2016 год могут быть неполными."
   ]
  },
  {
   "cell_type": "markdown",
   "id": "66f89ba5",
   "metadata": {},
   "source": [
    "### Вывод\n",
    "\n",
    "Мы рассматриваем датафрейме 16715 записей, c 6 столбцами **dtypes** типа **float** и 5 столбцами типа **object**.\n",
    "\n",
    "* Среди столбцов есть столбец с датами, также есть пропуски и здесь требуется предобработка данных;\n",
    "* Далее следуют 4 столбца с данными продаж по регионам, рейтинг критикаов, рейтинг пользователей (требуется преобразование в **float**, так как тип данных этого столбца - **object**, что не позволит выполнять математические операции с этими данными);\n",
    "* В последних трёх столбцах, также есть пропуски и тоже требуется предобработка;\n",
    "* Все столбцы имеют названия, которые требуется привести к нижнему регистру."
   ]
  },
  {
   "cell_type": "markdown",
   "id": "76ad7d86",
   "metadata": {},
   "source": [
    "# Этап 2"
   ]
  },
  {
   "cell_type": "markdown",
   "id": "2202ae7d",
   "metadata": {},
   "source": [
    " ### Подготовьте данные\n",
    " \n",
    "* Замените названия столбцов (приведите к нижнему регистру);\n",
    "* Преобразуйте данные в нужные типы. Опишите, в каких столбцах заменили тип данных и почему;\n",
    "* Обработайте пропуски при необходимости:\n",
    "    * Объясните, почему заполнили пропуски определённым образом или почему не стали это делать;\n",
    "    * Опишите причины, которые могли привести к пропускам;\n",
    "    * Обратите внимание на аббревиатуру 'tbd' в столбце с оценкой пользователей. Отдельно разберите это значение и опишите, как его обработать;\n",
    "* Посчитайте суммарные продажи во всех регионах и запишите их в отдельный столбец."
   ]
  },
  {
   "cell_type": "markdown",
   "id": "8e5d49dc",
   "metadata": {},
   "source": [
    "Проверим на дубликаты:"
   ]
  },
  {
   "cell_type": "code",
   "execution_count": 5,
   "id": "29744317",
   "metadata": {},
   "outputs": [
    {
     "data": {
      "text/plain": [
       "0"
      ]
     },
     "execution_count": 5,
     "metadata": {},
     "output_type": "execute_result"
    }
   ],
   "source": [
    "data_games.duplicated().sum()"
   ]
  },
  {
   "cell_type": "markdown",
   "id": "61629d37",
   "metadata": {},
   "source": [
    "Приведём все названия столбцов к нижнему регистру:"
   ]
  },
  {
   "cell_type": "code",
   "execution_count": 6,
   "id": "2e8995b3",
   "metadata": {},
   "outputs": [
    {
     "data": {
      "text/plain": [
       "Index(['name', 'platform', 'year_of_release', 'genre', 'na_sales', 'eu_sales',\n",
       "       'jp_sales', 'other_sales', 'critic_score', 'user_score', 'rating'],\n",
       "      dtype='object')"
      ]
     },
     "execution_count": 6,
     "metadata": {},
     "output_type": "execute_result"
    }
   ],
   "source": [
    "new_col = []\n",
    "for i in data_games.columns:\n",
    "    new_col.append(i.lower())\n",
    "    \n",
    "data_games.columns=new_col\n",
    "data_games.columns"
   ]
  },
  {
   "cell_type": "code",
   "execution_count": 7,
   "id": "0a76be6a",
   "metadata": {},
   "outputs": [],
   "source": [
    "#data_games.columns = map(str.lower, data_games.columns)\n",
    "#data_games.columns"
   ]
  },
  {
   "cell_type": "markdown",
   "id": "0362b0ef",
   "metadata": {},
   "source": [
    "В столбце **name** есть пропуски. Продажи этих игр должны быть учтены, возможно, остальные параметры тоже."
   ]
  },
  {
   "cell_type": "code",
   "execution_count": 8,
   "id": "6e2534b4",
   "metadata": {},
   "outputs": [
    {
     "data": {
      "text/html": [
       "<div>\n",
       "<style scoped>\n",
       "    .dataframe tbody tr th:only-of-type {\n",
       "        vertical-align: middle;\n",
       "    }\n",
       "\n",
       "    .dataframe tbody tr th {\n",
       "        vertical-align: top;\n",
       "    }\n",
       "\n",
       "    .dataframe thead th {\n",
       "        text-align: right;\n",
       "    }\n",
       "</style>\n",
       "<table border=\"1\" class=\"dataframe\">\n",
       "  <thead>\n",
       "    <tr style=\"text-align: right;\">\n",
       "      <th></th>\n",
       "      <th>name</th>\n",
       "      <th>platform</th>\n",
       "      <th>year_of_release</th>\n",
       "      <th>genre</th>\n",
       "      <th>na_sales</th>\n",
       "      <th>eu_sales</th>\n",
       "      <th>jp_sales</th>\n",
       "      <th>other_sales</th>\n",
       "      <th>critic_score</th>\n",
       "      <th>user_score</th>\n",
       "      <th>rating</th>\n",
       "    </tr>\n",
       "  </thead>\n",
       "  <tbody>\n",
       "    <tr>\n",
       "      <th>659</th>\n",
       "      <td>NaN</td>\n",
       "      <td>GEN</td>\n",
       "      <td>1993.0</td>\n",
       "      <td>NaN</td>\n",
       "      <td>1.78</td>\n",
       "      <td>0.53</td>\n",
       "      <td>0.00</td>\n",
       "      <td>0.08</td>\n",
       "      <td>NaN</td>\n",
       "      <td>NaN</td>\n",
       "      <td>NaN</td>\n",
       "    </tr>\n",
       "    <tr>\n",
       "      <th>14244</th>\n",
       "      <td>NaN</td>\n",
       "      <td>GEN</td>\n",
       "      <td>1993.0</td>\n",
       "      <td>NaN</td>\n",
       "      <td>0.00</td>\n",
       "      <td>0.00</td>\n",
       "      <td>0.03</td>\n",
       "      <td>0.00</td>\n",
       "      <td>NaN</td>\n",
       "      <td>NaN</td>\n",
       "      <td>NaN</td>\n",
       "    </tr>\n",
       "  </tbody>\n",
       "</table>\n",
       "</div>"
      ],
      "text/plain": [
       "      name platform  year_of_release genre  na_sales  eu_sales  jp_sales  \\\n",
       "659    NaN      GEN           1993.0   NaN      1.78      0.53      0.00   \n",
       "14244  NaN      GEN           1993.0   NaN      0.00      0.00      0.03   \n",
       "\n",
       "       other_sales  critic_score user_score rating  \n",
       "659           0.08           NaN        NaN    NaN  \n",
       "14244         0.00           NaN        NaN    NaN  "
      ]
     },
     "execution_count": 8,
     "metadata": {},
     "output_type": "execute_result"
    }
   ],
   "source": [
    "data_games[data_games['name'].isna()]"
   ]
  },
  {
   "cell_type": "code",
   "execution_count": 9,
   "id": "a79a3ae6",
   "metadata": {},
   "outputs": [
    {
     "data": {
      "text/plain": [
       "0"
      ]
     },
     "execution_count": 9,
     "metadata": {},
     "output_type": "execute_result"
    }
   ],
   "source": [
    "data_games['name'] = data_games['name'].fillna('undefined')\n",
    "\n",
    "data_games['name'].isna().sum()\n",
    "#data_games[data_games['name'].isna()]['name'].count()"
   ]
  },
  {
   "cell_type": "markdown",
   "id": "b52c2e94",
   "metadata": {},
   "source": [
    "### Обработка year_of_release"
   ]
  },
  {
   "cell_type": "markdown",
   "id": "03b84cf3",
   "metadata": {},
   "source": [
    "Заполним пропуски текстом \"0\", а затем преобразуем **year_of_release** из **float** в **int**, а не в **datetime**, так как преобразование года в дату даст формат 01-01-YYYY, что может ввести в заблуждение при последующем чтении данных и привести к ложному заключению, что дата релиза - 1 января, хотя, это просто отсутствующие данные."
   ]
  },
  {
   "cell_type": "code",
   "execution_count": 10,
   "id": "5bed6345",
   "metadata": {},
   "outputs": [
    {
     "data": {
      "text/plain": [
       "269"
      ]
     },
     "execution_count": 10,
     "metadata": {},
     "output_type": "execute_result"
    }
   ],
   "source": [
    "data_games['year_of_release'].isna().sum()"
   ]
  },
  {
   "cell_type": "code",
   "execution_count": 11,
   "id": "8656d07a",
   "metadata": {},
   "outputs": [
    {
     "name": "stdout",
     "output_type": "stream",
     "text": [
      "0\n"
     ]
    },
    {
     "data": {
      "text/plain": [
       "dtype('int64')"
      ]
     },
     "execution_count": 11,
     "metadata": {},
     "output_type": "execute_result"
    }
   ],
   "source": [
    "data_games['year_of_release'] = data_games['year_of_release'].fillna(0)\n",
    "data_games['year_of_release'] = data_games['year_of_release'].apply(int)\n",
    "print(data_games['year_of_release'].isna().sum())\n",
    "data_games['year_of_release'].dtypes"
   ]
  },
  {
   "cell_type": "code",
   "execution_count": 12,
   "id": "11d31954",
   "metadata": {},
   "outputs": [
    {
     "name": "stdout",
     "output_type": "stream",
     "text": [
      "<class 'pandas.core.frame.DataFrame'>\n",
      "RangeIndex: 16715 entries, 0 to 16714\n",
      "Data columns (total 11 columns):\n",
      " #   Column           Non-Null Count  Dtype  \n",
      "---  ------           --------------  -----  \n",
      " 0   name             16715 non-null  object \n",
      " 1   platform         16715 non-null  object \n",
      " 2   year_of_release  16715 non-null  int64  \n",
      " 3   genre            16713 non-null  object \n",
      " 4   na_sales         16715 non-null  float64\n",
      " 5   eu_sales         16715 non-null  float64\n",
      " 6   jp_sales         16715 non-null  float64\n",
      " 7   other_sales      16715 non-null  float64\n",
      " 8   critic_score     8137 non-null   float64\n",
      " 9   user_score       10014 non-null  object \n",
      " 10  rating           9949 non-null   object \n",
      "dtypes: float64(5), int64(1), object(5)\n",
      "memory usage: 1.4+ MB\n"
     ]
    }
   ],
   "source": [
    "data_games.info()"
   ]
  },
  {
   "cell_type": "markdown",
   "id": "19bd9e95",
   "metadata": {},
   "source": [
    "Посмотрим какие жанры есть в списке, есть ли жанры которые не указали. Также есть 2 пропуска в этой колонке."
   ]
  },
  {
   "cell_type": "code",
   "execution_count": 13,
   "id": "8ebd9b82",
   "metadata": {},
   "outputs": [
    {
     "data": {
      "text/plain": [
       "array(['Sports', 'Platform', 'Racing', 'Role-Playing', 'Puzzle', 'Misc',\n",
       "       'Shooter', 'Simulation', 'Action', 'Fighting', 'Adventure',\n",
       "       'Strategy', nan], dtype=object)"
      ]
     },
     "execution_count": 13,
     "metadata": {},
     "output_type": "execute_result"
    }
   ],
   "source": [
    "data_games['genre'].unique()"
   ]
  },
  {
   "cell_type": "markdown",
   "id": "17632bc8",
   "metadata": {},
   "source": [
    "Поступим как и со столбцом **name**, заменим пропуски на **undefined**:"
   ]
  },
  {
   "cell_type": "code",
   "execution_count": 14,
   "id": "72581563",
   "metadata": {},
   "outputs": [
    {
     "data": {
      "text/plain": [
       "array(['Sports', 'Platform', 'Racing', 'Role-Playing', 'Puzzle', 'Misc',\n",
       "       'Shooter', 'Simulation', 'Action', 'Fighting', 'Adventure',\n",
       "       'Strategy', 'undefined'], dtype=object)"
      ]
     },
     "execution_count": 14,
     "metadata": {},
     "output_type": "execute_result"
    }
   ],
   "source": [
    "data_games['genre'] = data_games['genre'].fillna('undefined')\n",
    "data_games['genre'].unique()"
   ]
  },
  {
   "cell_type": "markdown",
   "id": "57783a9c",
   "metadata": {},
   "source": [
    "Разберёмся с оценками критиков и игроков. Тут есть пропуски, заменим их на 0.0\n",
    "\n",
    "Прежде ещё обратим внимание на тип данных. Оценки игроков имеют тип **object**, что следует изменить его на **float**."
   ]
  },
  {
   "cell_type": "code",
   "execution_count": 15,
   "id": "dc5a75e8",
   "metadata": {},
   "outputs": [
    {
     "data": {
      "text/plain": [
       "0        76.0\n",
       "1         0.0\n",
       "2        82.0\n",
       "3        80.0\n",
       "4         0.0\n",
       "         ... \n",
       "16710     0.0\n",
       "16711     0.0\n",
       "16712     0.0\n",
       "16713     0.0\n",
       "16714     0.0\n",
       "Name: critic_score, Length: 16715, dtype: float64"
      ]
     },
     "execution_count": 15,
     "metadata": {},
     "output_type": "execute_result"
    }
   ],
   "source": [
    "data_games['critic_score'] = data_games['critic_score'].fillna(0.0)\n",
    "data_games['critic_score']"
   ]
  },
  {
   "cell_type": "markdown",
   "id": "1a46d95f",
   "metadata": {},
   "source": [
    "Интересно, получается **'user_score'** имеет тип **object** не просто так, существуют ячейки содержащие значение 'tbd'.\n",
    "\n",
    "Поскольку tbd - to be determined (discussed) означает, что оценки пока что нет, но  то можно заменить на 0:"
   ]
  },
  {
   "cell_type": "code",
   "execution_count": 16,
   "id": "bac02ad0",
   "metadata": {},
   "outputs": [
    {
     "data": {
      "text/plain": [
       "0        8.0\n",
       "1        0.0\n",
       "2        8.3\n",
       "3        8.0\n",
       "4        0.0\n",
       "        ... \n",
       "16710    0.0\n",
       "16711    0.0\n",
       "16712    0.0\n",
       "16713    0.0\n",
       "16714    0.0\n",
       "Name: user_score, Length: 16715, dtype: float64"
      ]
     },
     "execution_count": 16,
     "metadata": {},
     "output_type": "execute_result"
    }
   ],
   "source": [
    "data_games['user_score'] = data_games['user_score'].apply(lambda x: 0 if x=='tbd' else x)\n",
    "# data_games['user_score'] = data_games.apply(lambda x: 0 if x['user_score']=='tbd' else x['user_score'], axis =1)\n",
    "data_games['user_score'] = data_games['user_score'].fillna('0.0').apply(float)\n",
    "data_games['user_score']"
   ]
  },
  {
   "cell_type": "markdown",
   "id": "dcdb9cb4",
   "metadata": {},
   "source": [
    "Теперь обработаем данные в столбце **rating**. Неправильно было бы делать предположения по поводу игр в категории игр без рейтинга.\n",
    "Заполним пропуски значением no rating:"
   ]
  },
  {
   "cell_type": "code",
   "execution_count": 17,
   "id": "de216950",
   "metadata": {},
   "outputs": [
    {
     "data": {
      "text/plain": [
       "array(['E', 'No rating', 'M', 'T', 'E10+', 'K-A', 'AO', 'EC', 'RP'],\n",
       "      dtype=object)"
      ]
     },
     "execution_count": 17,
     "metadata": {},
     "output_type": "execute_result"
    }
   ],
   "source": [
    "data_games['rating'] = data_games['rating'].fillna('No rating')\n",
    "data_games['rating'].unique()"
   ]
  },
  {
   "cell_type": "markdown",
   "id": "56d06f47",
   "metadata": {},
   "source": [
    "Посмотрим что получилось:"
   ]
  },
  {
   "cell_type": "code",
   "execution_count": 18,
   "id": "a71fb02c",
   "metadata": {},
   "outputs": [
    {
     "name": "stdout",
     "output_type": "stream",
     "text": [
      "<class 'pandas.core.frame.DataFrame'>\n",
      "RangeIndex: 16715 entries, 0 to 16714\n",
      "Data columns (total 11 columns):\n",
      " #   Column           Non-Null Count  Dtype  \n",
      "---  ------           --------------  -----  \n",
      " 0   name             16715 non-null  object \n",
      " 1   platform         16715 non-null  object \n",
      " 2   year_of_release  16715 non-null  int64  \n",
      " 3   genre            16715 non-null  object \n",
      " 4   na_sales         16715 non-null  float64\n",
      " 5   eu_sales         16715 non-null  float64\n",
      " 6   jp_sales         16715 non-null  float64\n",
      " 7   other_sales      16715 non-null  float64\n",
      " 8   critic_score     16715 non-null  float64\n",
      " 9   user_score       16715 non-null  float64\n",
      " 10  rating           16715 non-null  object \n",
      "dtypes: float64(6), int64(1), object(4)\n",
      "memory usage: 1.4+ MB\n"
     ]
    },
    {
     "data": {
      "text/html": [
       "<div>\n",
       "<style scoped>\n",
       "    .dataframe tbody tr th:only-of-type {\n",
       "        vertical-align: middle;\n",
       "    }\n",
       "\n",
       "    .dataframe tbody tr th {\n",
       "        vertical-align: top;\n",
       "    }\n",
       "\n",
       "    .dataframe thead th {\n",
       "        text-align: right;\n",
       "    }\n",
       "</style>\n",
       "<table border=\"1\" class=\"dataframe\">\n",
       "  <thead>\n",
       "    <tr style=\"text-align: right;\">\n",
       "      <th></th>\n",
       "      <th>name</th>\n",
       "      <th>platform</th>\n",
       "      <th>year_of_release</th>\n",
       "      <th>genre</th>\n",
       "      <th>na_sales</th>\n",
       "      <th>eu_sales</th>\n",
       "      <th>jp_sales</th>\n",
       "      <th>other_sales</th>\n",
       "      <th>critic_score</th>\n",
       "      <th>user_score</th>\n",
       "      <th>rating</th>\n",
       "    </tr>\n",
       "  </thead>\n",
       "  <tbody>\n",
       "    <tr>\n",
       "      <th>0</th>\n",
       "      <td>Wii Sports</td>\n",
       "      <td>Wii</td>\n",
       "      <td>2006</td>\n",
       "      <td>Sports</td>\n",
       "      <td>41.36</td>\n",
       "      <td>28.96</td>\n",
       "      <td>3.77</td>\n",
       "      <td>8.45</td>\n",
       "      <td>76.0</td>\n",
       "      <td>8.0</td>\n",
       "      <td>E</td>\n",
       "    </tr>\n",
       "    <tr>\n",
       "      <th>1</th>\n",
       "      <td>Super Mario Bros.</td>\n",
       "      <td>NES</td>\n",
       "      <td>1985</td>\n",
       "      <td>Platform</td>\n",
       "      <td>29.08</td>\n",
       "      <td>3.58</td>\n",
       "      <td>6.81</td>\n",
       "      <td>0.77</td>\n",
       "      <td>0.0</td>\n",
       "      <td>0.0</td>\n",
       "      <td>No rating</td>\n",
       "    </tr>\n",
       "    <tr>\n",
       "      <th>2</th>\n",
       "      <td>Mario Kart Wii</td>\n",
       "      <td>Wii</td>\n",
       "      <td>2008</td>\n",
       "      <td>Racing</td>\n",
       "      <td>15.68</td>\n",
       "      <td>12.76</td>\n",
       "      <td>3.79</td>\n",
       "      <td>3.29</td>\n",
       "      <td>82.0</td>\n",
       "      <td>8.3</td>\n",
       "      <td>E</td>\n",
       "    </tr>\n",
       "    <tr>\n",
       "      <th>3</th>\n",
       "      <td>Wii Sports Resort</td>\n",
       "      <td>Wii</td>\n",
       "      <td>2009</td>\n",
       "      <td>Sports</td>\n",
       "      <td>15.61</td>\n",
       "      <td>10.93</td>\n",
       "      <td>3.28</td>\n",
       "      <td>2.95</td>\n",
       "      <td>80.0</td>\n",
       "      <td>8.0</td>\n",
       "      <td>E</td>\n",
       "    </tr>\n",
       "    <tr>\n",
       "      <th>4</th>\n",
       "      <td>Pokemon Red/Pokemon Blue</td>\n",
       "      <td>GB</td>\n",
       "      <td>1996</td>\n",
       "      <td>Role-Playing</td>\n",
       "      <td>11.27</td>\n",
       "      <td>8.89</td>\n",
       "      <td>10.22</td>\n",
       "      <td>1.00</td>\n",
       "      <td>0.0</td>\n",
       "      <td>0.0</td>\n",
       "      <td>No rating</td>\n",
       "    </tr>\n",
       "    <tr>\n",
       "      <th>...</th>\n",
       "      <td>...</td>\n",
       "      <td>...</td>\n",
       "      <td>...</td>\n",
       "      <td>...</td>\n",
       "      <td>...</td>\n",
       "      <td>...</td>\n",
       "      <td>...</td>\n",
       "      <td>...</td>\n",
       "      <td>...</td>\n",
       "      <td>...</td>\n",
       "      <td>...</td>\n",
       "    </tr>\n",
       "    <tr>\n",
       "      <th>16710</th>\n",
       "      <td>Samurai Warriors: Sanada Maru</td>\n",
       "      <td>PS3</td>\n",
       "      <td>2016</td>\n",
       "      <td>Action</td>\n",
       "      <td>0.00</td>\n",
       "      <td>0.00</td>\n",
       "      <td>0.01</td>\n",
       "      <td>0.00</td>\n",
       "      <td>0.0</td>\n",
       "      <td>0.0</td>\n",
       "      <td>No rating</td>\n",
       "    </tr>\n",
       "    <tr>\n",
       "      <th>16711</th>\n",
       "      <td>LMA Manager 2007</td>\n",
       "      <td>X360</td>\n",
       "      <td>2006</td>\n",
       "      <td>Sports</td>\n",
       "      <td>0.00</td>\n",
       "      <td>0.01</td>\n",
       "      <td>0.00</td>\n",
       "      <td>0.00</td>\n",
       "      <td>0.0</td>\n",
       "      <td>0.0</td>\n",
       "      <td>No rating</td>\n",
       "    </tr>\n",
       "    <tr>\n",
       "      <th>16712</th>\n",
       "      <td>Haitaka no Psychedelica</td>\n",
       "      <td>PSV</td>\n",
       "      <td>2016</td>\n",
       "      <td>Adventure</td>\n",
       "      <td>0.00</td>\n",
       "      <td>0.00</td>\n",
       "      <td>0.01</td>\n",
       "      <td>0.00</td>\n",
       "      <td>0.0</td>\n",
       "      <td>0.0</td>\n",
       "      <td>No rating</td>\n",
       "    </tr>\n",
       "    <tr>\n",
       "      <th>16713</th>\n",
       "      <td>Spirits &amp; Spells</td>\n",
       "      <td>GBA</td>\n",
       "      <td>2003</td>\n",
       "      <td>Platform</td>\n",
       "      <td>0.01</td>\n",
       "      <td>0.00</td>\n",
       "      <td>0.00</td>\n",
       "      <td>0.00</td>\n",
       "      <td>0.0</td>\n",
       "      <td>0.0</td>\n",
       "      <td>No rating</td>\n",
       "    </tr>\n",
       "    <tr>\n",
       "      <th>16714</th>\n",
       "      <td>Winning Post 8 2016</td>\n",
       "      <td>PSV</td>\n",
       "      <td>2016</td>\n",
       "      <td>Simulation</td>\n",
       "      <td>0.00</td>\n",
       "      <td>0.00</td>\n",
       "      <td>0.01</td>\n",
       "      <td>0.00</td>\n",
       "      <td>0.0</td>\n",
       "      <td>0.0</td>\n",
       "      <td>No rating</td>\n",
       "    </tr>\n",
       "  </tbody>\n",
       "</table>\n",
       "<p>16715 rows × 11 columns</p>\n",
       "</div>"
      ],
      "text/plain": [
       "                                name platform  year_of_release         genre  \\\n",
       "0                         Wii Sports      Wii             2006        Sports   \n",
       "1                  Super Mario Bros.      NES             1985      Platform   \n",
       "2                     Mario Kart Wii      Wii             2008        Racing   \n",
       "3                  Wii Sports Resort      Wii             2009        Sports   \n",
       "4           Pokemon Red/Pokemon Blue       GB             1996  Role-Playing   \n",
       "...                              ...      ...              ...           ...   \n",
       "16710  Samurai Warriors: Sanada Maru      PS3             2016        Action   \n",
       "16711               LMA Manager 2007     X360             2006        Sports   \n",
       "16712        Haitaka no Psychedelica      PSV             2016     Adventure   \n",
       "16713               Spirits & Spells      GBA             2003      Platform   \n",
       "16714            Winning Post 8 2016      PSV             2016    Simulation   \n",
       "\n",
       "       na_sales  eu_sales  jp_sales  other_sales  critic_score  user_score  \\\n",
       "0         41.36     28.96      3.77         8.45          76.0         8.0   \n",
       "1         29.08      3.58      6.81         0.77           0.0         0.0   \n",
       "2         15.68     12.76      3.79         3.29          82.0         8.3   \n",
       "3         15.61     10.93      3.28         2.95          80.0         8.0   \n",
       "4         11.27      8.89     10.22         1.00           0.0         0.0   \n",
       "...         ...       ...       ...          ...           ...         ...   \n",
       "16710      0.00      0.00      0.01         0.00           0.0         0.0   \n",
       "16711      0.00      0.01      0.00         0.00           0.0         0.0   \n",
       "16712      0.00      0.00      0.01         0.00           0.0         0.0   \n",
       "16713      0.01      0.00      0.00         0.00           0.0         0.0   \n",
       "16714      0.00      0.00      0.01         0.00           0.0         0.0   \n",
       "\n",
       "          rating  \n",
       "0              E  \n",
       "1      No rating  \n",
       "2              E  \n",
       "3              E  \n",
       "4      No rating  \n",
       "...          ...  \n",
       "16710  No rating  \n",
       "16711  No rating  \n",
       "16712  No rating  \n",
       "16713  No rating  \n",
       "16714  No rating  \n",
       "\n",
       "[16715 rows x 11 columns]"
      ]
     },
     "metadata": {},
     "output_type": "display_data"
    },
    {
     "name": "stdout",
     "output_type": "stream",
     "text": [
      "None\n"
     ]
    }
   ],
   "source": [
    "data_games.info()\n",
    "print(display(data_games))"
   ]
  },
  {
   "cell_type": "code",
   "execution_count": 19,
   "id": "981c54cd",
   "metadata": {},
   "outputs": [
    {
     "data": {
      "image/png": "[encoded data removed]",
      "text/plain": [
       "<Figure size 432x288 with 1 Axes>"
      ]
     },
     "metadata": {
      "needs_background": "light"
     },
     "output_type": "display_data"
    }
   ],
   "source": [
    "data_games[data_games['year_of_release'] != 0]['year_of_release'].hist(bins = 30, alpha=0.5);\n",
    "data_games[(data_games['year_of_release'] != 0) & (data_games['rating'] == 'No rating')]['year_of_release'].hist(bins=30, alpha=0.6);"
   ]
  },
  {
   "cell_type": "markdown",
   "id": "14bb2914",
   "metadata": {},
   "source": [
    "Интересно, что до 2000ых рейтинг игр практически полностью отсутствует. Возможно это связано с бурным развитием игровой индустрии, когда игры стали очень популярны и требовали наличие рейтинга на дисках и рекламах, так как они стали доступны для разных категорий игроков, от детей до взрослых, и их спрос, как и популярность, сильно возрос.\n"
   ]
  },
  {
   "cell_type": "code",
   "execution_count": 20,
   "id": "eab1aba9",
   "metadata": {},
   "outputs": [
    {
     "name": "stdout",
     "output_type": "stream",
     "text": [
      "Игр без рейтинга, выпущенных до 2003 года: 2390\n",
      "Игр без рейтинга, выпущенных после 2003 года: 4288\n",
      "----------------------\n",
      "Всего игр выпущенных до 2003 года: 3637\n",
      "Всего игр выпущенных после 2003 года: 12809\n",
      "----------------------\n",
      "Доля игр без рейтинга до 2003 года: 65.7%\n",
      "Доля игр без рейтинга до 2003 года: 33.5%\n"
     ]
    }
   ],
   "source": [
    "before2003_norating = data_games[ (data_games['year_of_release'] != 0) & (data_games['year_of_release'] < 2003) & (data_games['rating'] == 'No rating') ]['year_of_release'].count()\n",
    "after2003_norating = data_games[ (data_games['year_of_release'] != 0) & (data_games['year_of_release'] >= 2003) & (data_games['rating'] == 'No rating') ]['year_of_release'].count()\n",
    "print('Игр без рейтинга, выпущенных до 2003 года:', before2003_norating)\n",
    "print('Игр без рейтинга, выпущенных после 2003 года:', after2003_norating)\n",
    "print('----------------------')\n",
    "before2003_all = data_games[(data_games['year_of_release'] != 0) & (data_games['year_of_release'] < 2003)]['year_of_release'].count()\n",
    "after2003_all = data_games[(data_games['year_of_release'] != 0) & (data_games['year_of_release'] >= 2003)]['year_of_release'].count()\n",
    "\n",
    "print('Всего игр выпущенных до 2003 года:', before2003_all)\n",
    "print('Всего игр выпущенных после 2003 года:', after2003_all)\n",
    "print('----------------------')\n",
    "print('Доля игр без рейтинга до 2003 года: {:.1%}'.format(before2003_norating / before2003_all) )\n",
    "print('Доля игр без рейтинга до 2003 года: {:.1%}'.format(after2003_norating / after2003_all) )"
   ]
  },
  {
   "cell_type": "markdown",
   "id": "ab848dcf",
   "metadata": {},
   "source": [
    "Возможные причины появления такого распределения:\n",
    "\n",
    "- Возросшее количество ресурсов для оценки у ESRB ([в 2003 году](https://ru.wikipedia.org/wiki/Entertainment_Software_Rating_Board) ESRB оценила 8000 игр). Исходя из выборки, возможно, внимание к контролю за видеоиграми сильно возросло после 2000 года у организации во много раз прибавилось ресурсов и количество оценённых игр выросло.\n",
    "- ESRB - это американская организация (США), однако, очень много игр популярны и разработаны вне США. Существуют другие организации, такие, как PEGI в Европе, или IARC по всему миру.\n",
    "- Рейтинговым организациям стали уделять больше внимания и к рейтингу стали относиться гораздо более серьёзно как сами организации, так и разработчики видеоигр."
   ]
  },
  {
   "cell_type": "markdown",
   "id": "2e034085",
   "metadata": {},
   "source": [
    "Добавим столбец с подсчётом общих продаж:"
   ]
  },
  {
   "cell_type": "code",
   "execution_count": 21,
   "id": "f3f1107d",
   "metadata": {},
   "outputs": [
    {
     "name": "stdout",
     "output_type": "stream",
     "text": [
      "<class 'pandas.core.frame.DataFrame'>\n",
      "RangeIndex: 16715 entries, 0 to 16714\n",
      "Data columns (total 12 columns):\n",
      " #   Column           Non-Null Count  Dtype  \n",
      "---  ------           --------------  -----  \n",
      " 0   name             16715 non-null  object \n",
      " 1   platform         16715 non-null  object \n",
      " 2   year_of_release  16715 non-null  int64  \n",
      " 3   genre            16715 non-null  object \n",
      " 4   na_sales         16715 non-null  float64\n",
      " 5   eu_sales         16715 non-null  float64\n",
      " 6   jp_sales         16715 non-null  float64\n",
      " 7   other_sales      16715 non-null  float64\n",
      " 8   critic_score     16715 non-null  float64\n",
      " 9   user_score       16715 non-null  float64\n",
      " 10  rating           16715 non-null  object \n",
      " 11  total_sales      16715 non-null  float64\n",
      "dtypes: float64(7), int64(1), object(4)\n",
      "memory usage: 1.5+ MB\n"
     ]
    },
    {
     "data": {
      "text/html": [
       "<div>\n",
       "<style scoped>\n",
       "    .dataframe tbody tr th:only-of-type {\n",
       "        vertical-align: middle;\n",
       "    }\n",
       "\n",
       "    .dataframe tbody tr th {\n",
       "        vertical-align: top;\n",
       "    }\n",
       "\n",
       "    .dataframe thead th {\n",
       "        text-align: right;\n",
       "    }\n",
       "</style>\n",
       "<table border=\"1\" class=\"dataframe\">\n",
       "  <thead>\n",
       "    <tr style=\"text-align: right;\">\n",
       "      <th></th>\n",
       "      <th>name</th>\n",
       "      <th>platform</th>\n",
       "      <th>year_of_release</th>\n",
       "      <th>genre</th>\n",
       "      <th>na_sales</th>\n",
       "      <th>eu_sales</th>\n",
       "      <th>jp_sales</th>\n",
       "      <th>other_sales</th>\n",
       "      <th>critic_score</th>\n",
       "      <th>user_score</th>\n",
       "      <th>rating</th>\n",
       "      <th>total_sales</th>\n",
       "    </tr>\n",
       "  </thead>\n",
       "  <tbody>\n",
       "    <tr>\n",
       "      <th>0</th>\n",
       "      <td>Wii Sports</td>\n",
       "      <td>Wii</td>\n",
       "      <td>2006</td>\n",
       "      <td>Sports</td>\n",
       "      <td>41.36</td>\n",
       "      <td>28.96</td>\n",
       "      <td>3.77</td>\n",
       "      <td>8.45</td>\n",
       "      <td>76.0</td>\n",
       "      <td>8.0</td>\n",
       "      <td>E</td>\n",
       "      <td>82.54</td>\n",
       "    </tr>\n",
       "    <tr>\n",
       "      <th>1</th>\n",
       "      <td>Super Mario Bros.</td>\n",
       "      <td>NES</td>\n",
       "      <td>1985</td>\n",
       "      <td>Platform</td>\n",
       "      <td>29.08</td>\n",
       "      <td>3.58</td>\n",
       "      <td>6.81</td>\n",
       "      <td>0.77</td>\n",
       "      <td>0.0</td>\n",
       "      <td>0.0</td>\n",
       "      <td>No rating</td>\n",
       "      <td>40.24</td>\n",
       "    </tr>\n",
       "    <tr>\n",
       "      <th>2</th>\n",
       "      <td>Mario Kart Wii</td>\n",
       "      <td>Wii</td>\n",
       "      <td>2008</td>\n",
       "      <td>Racing</td>\n",
       "      <td>15.68</td>\n",
       "      <td>12.76</td>\n",
       "      <td>3.79</td>\n",
       "      <td>3.29</td>\n",
       "      <td>82.0</td>\n",
       "      <td>8.3</td>\n",
       "      <td>E</td>\n",
       "      <td>35.52</td>\n",
       "    </tr>\n",
       "    <tr>\n",
       "      <th>3</th>\n",
       "      <td>Wii Sports Resort</td>\n",
       "      <td>Wii</td>\n",
       "      <td>2009</td>\n",
       "      <td>Sports</td>\n",
       "      <td>15.61</td>\n",
       "      <td>10.93</td>\n",
       "      <td>3.28</td>\n",
       "      <td>2.95</td>\n",
       "      <td>80.0</td>\n",
       "      <td>8.0</td>\n",
       "      <td>E</td>\n",
       "      <td>32.77</td>\n",
       "    </tr>\n",
       "    <tr>\n",
       "      <th>4</th>\n",
       "      <td>Pokemon Red/Pokemon Blue</td>\n",
       "      <td>GB</td>\n",
       "      <td>1996</td>\n",
       "      <td>Role-Playing</td>\n",
       "      <td>11.27</td>\n",
       "      <td>8.89</td>\n",
       "      <td>10.22</td>\n",
       "      <td>1.00</td>\n",
       "      <td>0.0</td>\n",
       "      <td>0.0</td>\n",
       "      <td>No rating</td>\n",
       "      <td>31.38</td>\n",
       "    </tr>\n",
       "    <tr>\n",
       "      <th>...</th>\n",
       "      <td>...</td>\n",
       "      <td>...</td>\n",
       "      <td>...</td>\n",
       "      <td>...</td>\n",
       "      <td>...</td>\n",
       "      <td>...</td>\n",
       "      <td>...</td>\n",
       "      <td>...</td>\n",
       "      <td>...</td>\n",
       "      <td>...</td>\n",
       "      <td>...</td>\n",
       "      <td>...</td>\n",
       "    </tr>\n",
       "    <tr>\n",
       "      <th>16710</th>\n",
       "      <td>Samurai Warriors: Sanada Maru</td>\n",
       "      <td>PS3</td>\n",
       "      <td>2016</td>\n",
       "      <td>Action</td>\n",
       "      <td>0.00</td>\n",
       "      <td>0.00</td>\n",
       "      <td>0.01</td>\n",
       "      <td>0.00</td>\n",
       "      <td>0.0</td>\n",
       "      <td>0.0</td>\n",
       "      <td>No rating</td>\n",
       "      <td>0.01</td>\n",
       "    </tr>\n",
       "    <tr>\n",
       "      <th>16711</th>\n",
       "      <td>LMA Manager 2007</td>\n",
       "      <td>X360</td>\n",
       "      <td>2006</td>\n",
       "      <td>Sports</td>\n",
       "      <td>0.00</td>\n",
       "      <td>0.01</td>\n",
       "      <td>0.00</td>\n",
       "      <td>0.00</td>\n",
       "      <td>0.0</td>\n",
       "      <td>0.0</td>\n",
       "      <td>No rating</td>\n",
       "      <td>0.01</td>\n",
       "    </tr>\n",
       "    <tr>\n",
       "      <th>16712</th>\n",
       "      <td>Haitaka no Psychedelica</td>\n",
       "      <td>PSV</td>\n",
       "      <td>2016</td>\n",
       "      <td>Adventure</td>\n",
       "      <td>0.00</td>\n",
       "      <td>0.00</td>\n",
       "      <td>0.01</td>\n",
       "      <td>0.00</td>\n",
       "      <td>0.0</td>\n",
       "      <td>0.0</td>\n",
       "      <td>No rating</td>\n",
       "      <td>0.01</td>\n",
       "    </tr>\n",
       "    <tr>\n",
       "      <th>16713</th>\n",
       "      <td>Spirits &amp; Spells</td>\n",
       "      <td>GBA</td>\n",
       "      <td>2003</td>\n",
       "      <td>Platform</td>\n",
       "      <td>0.01</td>\n",
       "      <td>0.00</td>\n",
       "      <td>0.00</td>\n",
       "      <td>0.00</td>\n",
       "      <td>0.0</td>\n",
       "      <td>0.0</td>\n",
       "      <td>No rating</td>\n",
       "      <td>0.01</td>\n",
       "    </tr>\n",
       "    <tr>\n",
       "      <th>16714</th>\n",
       "      <td>Winning Post 8 2016</td>\n",
       "      <td>PSV</td>\n",
       "      <td>2016</td>\n",
       "      <td>Simulation</td>\n",
       "      <td>0.00</td>\n",
       "      <td>0.00</td>\n",
       "      <td>0.01</td>\n",
       "      <td>0.00</td>\n",
       "      <td>0.0</td>\n",
       "      <td>0.0</td>\n",
       "      <td>No rating</td>\n",
       "      <td>0.01</td>\n",
       "    </tr>\n",
       "  </tbody>\n",
       "</table>\n",
       "<p>16715 rows × 12 columns</p>\n",
       "</div>"
      ],
      "text/plain": [
       "                                name platform  year_of_release         genre  \\\n",
       "0                         Wii Sports      Wii             2006        Sports   \n",
       "1                  Super Mario Bros.      NES             1985      Platform   \n",
       "2                     Mario Kart Wii      Wii             2008        Racing   \n",
       "3                  Wii Sports Resort      Wii             2009        Sports   \n",
       "4           Pokemon Red/Pokemon Blue       GB             1996  Role-Playing   \n",
       "...                              ...      ...              ...           ...   \n",
       "16710  Samurai Warriors: Sanada Maru      PS3             2016        Action   \n",
       "16711               LMA Manager 2007     X360             2006        Sports   \n",
       "16712        Haitaka no Psychedelica      PSV             2016     Adventure   \n",
       "16713               Spirits & Spells      GBA             2003      Platform   \n",
       "16714            Winning Post 8 2016      PSV             2016    Simulation   \n",
       "\n",
       "       na_sales  eu_sales  jp_sales  other_sales  critic_score  user_score  \\\n",
       "0         41.36     28.96      3.77         8.45          76.0         8.0   \n",
       "1         29.08      3.58      6.81         0.77           0.0         0.0   \n",
       "2         15.68     12.76      3.79         3.29          82.0         8.3   \n",
       "3         15.61     10.93      3.28         2.95          80.0         8.0   \n",
       "4         11.27      8.89     10.22         1.00           0.0         0.0   \n",
       "...         ...       ...       ...          ...           ...         ...   \n",
       "16710      0.00      0.00      0.01         0.00           0.0         0.0   \n",
       "16711      0.00      0.01      0.00         0.00           0.0         0.0   \n",
       "16712      0.00      0.00      0.01         0.00           0.0         0.0   \n",
       "16713      0.01      0.00      0.00         0.00           0.0         0.0   \n",
       "16714      0.00      0.00      0.01         0.00           0.0         0.0   \n",
       "\n",
       "          rating  total_sales  \n",
       "0              E        82.54  \n",
       "1      No rating        40.24  \n",
       "2              E        35.52  \n",
       "3              E        32.77  \n",
       "4      No rating        31.38  \n",
       "...          ...          ...  \n",
       "16710  No rating         0.01  \n",
       "16711  No rating         0.01  \n",
       "16712  No rating         0.01  \n",
       "16713  No rating         0.01  \n",
       "16714  No rating         0.01  \n",
       "\n",
       "[16715 rows x 12 columns]"
      ]
     },
     "metadata": {},
     "output_type": "display_data"
    },
    {
     "name": "stdout",
     "output_type": "stream",
     "text": [
      "None\n"
     ]
    }
   ],
   "source": [
    "data_games['total_sales'] = data_games['na_sales'] + data_games['eu_sales'] + data_games['jp_sales'] + data_games['other_sales']\n",
    "data_games.info()\n",
    "print(display(data_games))"
   ]
  },
  {
   "cell_type": "markdown",
   "id": "d2ca5739",
   "metadata": {},
   "source": [
    "### Вывод\n",
    "\n",
    "Мы завершили первичную предобработку таблицы, далее нужно будет понять какой формат данных нужно будет преобразовать далее, либо изменить, чтобы выработать методологию создания подобных таблиц в будущем для удобства прогнозирования данных."
   ]
  },
  {
   "cell_type": "markdown",
   "id": "4cd1db66",
   "metadata": {},
   "source": [
    "# Этап 3"
   ]
  },
  {
   "cell_type": "markdown",
   "id": "a99865df",
   "metadata": {},
   "source": [
    "### Проведите исследовательский анализ данных\n",
    "\n",
    "* Посмотрите, сколько игр выпускалось в разные годы. Важны ли данные за все периоды?\n",
    "* Посмотрите, как менялись продажи по платформам. Выберите платформы с наибольшими суммарными продажами и постройте распределение по годам. За какой характерный срок появляются новые и исчезают старые платформы?\n",
    "* Возьмите данные за соответствующий актуальный период. Актуальный период определите самостоятельно в результате исследования предыдущих вопросов. Основной фактор — эти данные помогут построить прогноз на 2017 год.\n",
    "* Не учитывайте в работе данные за предыдущие годы.\n",
    "* Какие платформы лидируют по продажам, растут или падают? Выберите несколько потенциально прибыльных платформ.\n",
    "* Постройте график «ящик с усами» по глобальным продажам игр в разбивке по платформам. Опишите результат.\n",
    "* Посмотрите, как влияют на продажи внутри одной популярной платформы отзывы пользователей и критиков. Постройте диаграмму рассеяния и посчитайте корреляцию между отзывами и продажами. Сформулируйте выводы.\n",
    "* Соотнесите выводы с продажами игр на других платформах.\n",
    "* Посмотрите на общее распределение игр по жанрам. Что можно сказать о самых прибыльных жанрах? Выделяются ли жанры с высокими и низкими продажами?"
   ]
  },
  {
   "cell_type": "markdown",
   "id": "6bca14a4",
   "metadata": {},
   "source": [
    "#### Cколько игр выпускалось в разные годы и важность за весь доступный период\n",
    "\n",
    "Посмотрим сколько всего игр было выпущено за все годы исходя из предоставленной выборки:"
   ]
  },
  {
   "cell_type": "code",
   "execution_count": 22,
   "id": "ab0f7a19",
   "metadata": {},
   "outputs": [
    {
     "data": {
      "text/plain": [
       "11560"
      ]
     },
     "execution_count": 22,
     "metadata": {},
     "output_type": "execute_result"
    }
   ],
   "source": [
    "len(data_games['name'].unique())"
   ]
  },
  {
   "cell_type": "markdown",
   "id": "ddf528af",
   "metadata": {},
   "source": [
    "Получим описание данных:"
   ]
  },
  {
   "cell_type": "code",
   "execution_count": 23,
   "id": "6c669c76",
   "metadata": {},
   "outputs": [
    {
     "data": {
      "text/plain": [
       "count    16446.00\n",
       "mean      2006.48\n",
       "std          5.88\n",
       "min       1980.00\n",
       "25%       2003.00\n",
       "50%       2007.00\n",
       "75%       2010.00\n",
       "max       2016.00\n",
       "Name: year_of_release, dtype: float64"
      ]
     },
     "execution_count": 23,
     "metadata": {},
     "output_type": "execute_result"
    }
   ],
   "source": [
    "data_games[data_games['year_of_release'] != 0]['year_of_release'].describe().round(2)"
   ]
  },
  {
   "cell_type": "code",
   "execution_count": 24,
   "id": "195abf1c",
   "metadata": {},
   "outputs": [
    {
     "data": {
      "text/plain": [
       "<AxesSubplot:>"
      ]
     },
     "execution_count": 24,
     "metadata": {},
     "output_type": "execute_result"
    },
    {
     "data": {
      "image/png": "[encoded data removed]",
      "text/plain": [
       "<Figure size 432x288 with 1 Axes>"
      ]
     },
     "metadata": {
      "needs_background": "light"
     },
     "output_type": "display_data"
    }
   ],
   "source": [
    "import matplotlib.pyplot as plt\n",
    "data_games[data_games['year_of_release'] != 0].boxplot(['year_of_release'])"
   ]
  },
  {
   "cell_type": "markdown",
   "id": "2ac9ca63",
   "metadata": {},
   "source": [
    "Само понятие квартили даёт понять, что 75% всех значений лежит после 2003 года, то есть за 13 последующих лет было создано\n",
    "(в 3 раза) больше игр, чем за предыдущие 10 (с 1993)."
   ]
  },
  {
   "cell_type": "code",
   "execution_count": 25,
   "id": "c1cf41c5",
   "metadata": {},
   "outputs": [
    {
     "name": "stdout",
     "output_type": "stream",
     "text": [
      "Всего игр выпущенных до 2003 года: 3906\n",
      "Всего игр выпущенных до 2003 года: 12809\n"
     ]
    }
   ],
   "source": [
    "print('Всего игр выпущенных до 2003 года:', data_games[(data_games['year_of_release'] < 2003)]['rating'].count())\n",
    "print('Всего игр выпущенных до 2003 года:', data_games[(data_games['year_of_release'] >= 2003)]['rating'].count())"
   ]
  },
  {
   "cell_type": "markdown",
   "id": "7ada3edc",
   "metadata": {},
   "source": [
    "Во время предобработки мы выяснили, что 2003 - определённый рубеж для индустрии видеоигр. Важность индустрии можно также понять по прибыли, которая она приносят.\n",
    "\n",
    "Построим гистограмму по годам:\n"
   ]
  },
  {
   "cell_type": "code",
   "execution_count": 26,
   "id": "cb62a859",
   "metadata": {},
   "outputs": [
    {
     "data": {
      "image/png": "[encoded data removed]",
      "text/plain": [
       "<Figure size 432x288 with 1 Axes>"
      ]
     },
     "metadata": {
      "needs_background": "light"
     },
     "output_type": "display_data"
    }
   ],
   "source": [
    "data_games[data_games['year_of_release'] != 0]['year_of_release'].hist(bins = 30, alpha=0.5);"
   ]
  },
  {
   "cell_type": "markdown",
   "id": "a5698fb2",
   "metadata": {},
   "source": [
    "Судя по графику, пики по количеству разработанных игр пришлись на 2004, 2010 и 2015 год. С упрощением разработки и появлением новых устройств выходит больше игр, а на \"заре\" индустрии примерно до 1994 года играть было почти не во что."
   ]
  },
  {
   "cell_type": "code",
   "execution_count": 27,
   "id": "4c627c88",
   "metadata": {},
   "outputs": [],
   "source": [
    "data_games_no_zero_years = data_games.query('year_of_release !=0').copy()"
   ]
  },
  {
   "cell_type": "markdown",
   "id": "1d640bd5",
   "metadata": {},
   "source": [
    "Чтобы построить график создадим таблицу по продажам. Исходя из таблицы, все столбцы, в которых есть слово sales - это продажи.\n",
    "Соберём таблицу:"
   ]
  },
  {
   "cell_type": "code",
   "execution_count": 28,
   "id": "2ca7f1d7",
   "metadata": {},
   "outputs": [
    {
     "data": {
      "text/html": [
       "<div>\n",
       "<style scoped>\n",
       "    .dataframe tbody tr th:only-of-type {\n",
       "        vertical-align: middle;\n",
       "    }\n",
       "\n",
       "    .dataframe tbody tr th {\n",
       "        vertical-align: top;\n",
       "    }\n",
       "\n",
       "    .dataframe thead th {\n",
       "        text-align: right;\n",
       "    }\n",
       "</style>\n",
       "<table border=\"1\" class=\"dataframe\">\n",
       "  <thead>\n",
       "    <tr style=\"text-align: right;\">\n",
       "      <th></th>\n",
       "      <th>na_sales</th>\n",
       "      <th>eu_sales</th>\n",
       "      <th>jp_sales</th>\n",
       "      <th>other_sales</th>\n",
       "      <th>total_sales</th>\n",
       "      <th>year_of_release</th>\n",
       "    </tr>\n",
       "  </thead>\n",
       "  <tbody>\n",
       "    <tr>\n",
       "      <th>0</th>\n",
       "      <td>41.36</td>\n",
       "      <td>28.96</td>\n",
       "      <td>3.77</td>\n",
       "      <td>8.45</td>\n",
       "      <td>82.54</td>\n",
       "      <td>2006</td>\n",
       "    </tr>\n",
       "    <tr>\n",
       "      <th>1</th>\n",
       "      <td>29.08</td>\n",
       "      <td>3.58</td>\n",
       "      <td>6.81</td>\n",
       "      <td>0.77</td>\n",
       "      <td>40.24</td>\n",
       "      <td>1985</td>\n",
       "    </tr>\n",
       "    <tr>\n",
       "      <th>2</th>\n",
       "      <td>15.68</td>\n",
       "      <td>12.76</td>\n",
       "      <td>3.79</td>\n",
       "      <td>3.29</td>\n",
       "      <td>35.52</td>\n",
       "      <td>2008</td>\n",
       "    </tr>\n",
       "    <tr>\n",
       "      <th>3</th>\n",
       "      <td>15.61</td>\n",
       "      <td>10.93</td>\n",
       "      <td>3.28</td>\n",
       "      <td>2.95</td>\n",
       "      <td>32.77</td>\n",
       "      <td>2009</td>\n",
       "    </tr>\n",
       "    <tr>\n",
       "      <th>4</th>\n",
       "      <td>11.27</td>\n",
       "      <td>8.89</td>\n",
       "      <td>10.22</td>\n",
       "      <td>1.00</td>\n",
       "      <td>31.38</td>\n",
       "      <td>1996</td>\n",
       "    </tr>\n",
       "    <tr>\n",
       "      <th>...</th>\n",
       "      <td>...</td>\n",
       "      <td>...</td>\n",
       "      <td>...</td>\n",
       "      <td>...</td>\n",
       "      <td>...</td>\n",
       "      <td>...</td>\n",
       "    </tr>\n",
       "    <tr>\n",
       "      <th>16441</th>\n",
       "      <td>0.00</td>\n",
       "      <td>0.00</td>\n",
       "      <td>0.01</td>\n",
       "      <td>0.00</td>\n",
       "      <td>0.01</td>\n",
       "      <td>2016</td>\n",
       "    </tr>\n",
       "    <tr>\n",
       "      <th>16442</th>\n",
       "      <td>0.00</td>\n",
       "      <td>0.01</td>\n",
       "      <td>0.00</td>\n",
       "      <td>0.00</td>\n",
       "      <td>0.01</td>\n",
       "      <td>2006</td>\n",
       "    </tr>\n",
       "    <tr>\n",
       "      <th>16443</th>\n",
       "      <td>0.00</td>\n",
       "      <td>0.00</td>\n",
       "      <td>0.01</td>\n",
       "      <td>0.00</td>\n",
       "      <td>0.01</td>\n",
       "      <td>2016</td>\n",
       "    </tr>\n",
       "    <tr>\n",
       "      <th>16444</th>\n",
       "      <td>0.01</td>\n",
       "      <td>0.00</td>\n",
       "      <td>0.00</td>\n",
       "      <td>0.00</td>\n",
       "      <td>0.01</td>\n",
       "      <td>2003</td>\n",
       "    </tr>\n",
       "    <tr>\n",
       "      <th>16445</th>\n",
       "      <td>0.00</td>\n",
       "      <td>0.00</td>\n",
       "      <td>0.01</td>\n",
       "      <td>0.00</td>\n",
       "      <td>0.01</td>\n",
       "      <td>2016</td>\n",
       "    </tr>\n",
       "  </tbody>\n",
       "</table>\n",
       "<p>16446 rows × 6 columns</p>\n",
       "</div>"
      ],
      "text/plain": [
       "       na_sales  eu_sales  jp_sales  other_sales  total_sales  year_of_release\n",
       "0         41.36     28.96      3.77         8.45        82.54             2006\n",
       "1         29.08      3.58      6.81         0.77        40.24             1985\n",
       "2         15.68     12.76      3.79         3.29        35.52             2008\n",
       "3         15.61     10.93      3.28         2.95        32.77             2009\n",
       "4         11.27      8.89     10.22         1.00        31.38             1996\n",
       "...         ...       ...       ...          ...          ...              ...\n",
       "16441      0.00      0.00      0.01         0.00         0.01             2016\n",
       "16442      0.00      0.01      0.00         0.00         0.01             2006\n",
       "16443      0.00      0.00      0.01         0.00         0.01             2016\n",
       "16444      0.01      0.00      0.00         0.00         0.01             2003\n",
       "16445      0.00      0.00      0.01         0.00         0.01             2016\n",
       "\n",
       "[16446 rows x 6 columns]"
      ]
     },
     "execution_count": 28,
     "metadata": {},
     "output_type": "execute_result"
    }
   ],
   "source": [
    "sales_total = data_games_no_zero_years[[x for x in data_games_no_zero_years.columns if 'sales' in x] + ['year_of_release']]\n",
    "sales_total = sales_total.reset_index(drop = True)\n",
    "sales_total"
   ]
  },
  {
   "cell_type": "code",
   "execution_count": 29,
   "id": "4ea04528",
   "metadata": {},
   "outputs": [
    {
     "data": {
      "text/plain": [
       "(37, 5)"
      ]
     },
     "execution_count": 29,
     "metadata": {},
     "output_type": "execute_result"
    }
   ],
   "source": [
    "sales_total.groupby('year_of_release').sum().shape"
   ]
  },
  {
   "cell_type": "code",
   "execution_count": 30,
   "id": "f240627d",
   "metadata": {},
   "outputs": [
    {
     "data": {
      "image/png": "[encoded data removed]",
      "text/plain": [
       "<Figure size 1080x648 with 1 Axes>"
      ]
     },
     "metadata": {
      "needs_background": "light"
     },
     "output_type": "display_data"
    }
   ],
   "source": [
    "sales_total.groupby('year_of_release').sum().plot(rot=90, figsize=[15,9]);\n",
    "plt.locator_params(axis='x', nbins=36);\n",
    "plt.xlim(1980, 2016)\n",
    "plt.legend(loc=2);"
   ]
  },
  {
   "cell_type": "markdown",
   "id": "b49ddef6",
   "metadata": {},
   "source": [
    "<ul>\n",
    "    <li>Первая квартиль приходится на 2003 год, можно увидеть по графику выручки, что перелом тренда в total_sales произошёл в 1996 году, далее произошёл спад в 2000 и после этого происходил бурный рост вплоть до 2008 года.\n",
    "    <li>2004 год - последний год конца Доткомов и последний год когда видеоигры стали присутствовать в том виде, в котором мы знаем их сейчас - игровые консоли, игры для PC, мобильные игры и тд.\n",
    "</ul>\n",
    "Все последующие манипуляции с данными мы будем производить исходя из этого заключения.\n",
    "\n",
    "Хотя сложно утверждать достоверно, данная выборка визуально коррелирует с макроэкономическими трендами, такими, как Пузырь Доткомов или Финансовый кризис 2008 года, и, возможно, является репрезентативной для игровой индустрии. Спад после 2009 года в \"традиционном\" гейминге можно объяснить появлением мобильных игр и развитием сети LTE, что позволяет скачивать контент.\n",
    "\n",
    "#### Вывод по важности доступных данных\n",
    "<br>\n",
    "Отвечая на вопрос \"Важны ли данные за все периоды по играм?\", можно ответить - нет, на графиках отчётливо видно смещение вправо, и важны только данные после 2004 года включительно.\n"
   ]
  },
  {
   "cell_type": "markdown",
   "id": "e51d1431",
   "metadata": {},
   "source": [
    "#### Продажи по платформам\n",
    "\n",
    "Посмотрите, как менялись продажи по платформам. Выберите платформы с наибольшими суммарными продажами и постройте распределение по годам. За какой характерный срок появляются новые и исчезают старые платформы?"
   ]
  },
  {
   "cell_type": "markdown",
   "id": "7f38a0ca",
   "metadata": {},
   "source": [
    "Создадим таблицу с платформами, продажами и годами:"
   ]
  },
  {
   "cell_type": "code",
   "execution_count": 31,
   "id": "8369fa8c",
   "metadata": {},
   "outputs": [
    {
     "data": {
      "text/html": [
       "<div>\n",
       "<style scoped>\n",
       "    .dataframe tbody tr th:only-of-type {\n",
       "        vertical-align: middle;\n",
       "    }\n",
       "\n",
       "    .dataframe tbody tr th {\n",
       "        vertical-align: top;\n",
       "    }\n",
       "\n",
       "    .dataframe thead th {\n",
       "        text-align: right;\n",
       "    }\n",
       "</style>\n",
       "<table border=\"1\" class=\"dataframe\">\n",
       "  <thead>\n",
       "    <tr style=\"text-align: right;\">\n",
       "      <th></th>\n",
       "      <th></th>\n",
       "      <th>total_sales</th>\n",
       "    </tr>\n",
       "    <tr>\n",
       "      <th>platform</th>\n",
       "      <th>year_of_release</th>\n",
       "      <th></th>\n",
       "    </tr>\n",
       "  </thead>\n",
       "  <tbody>\n",
       "    <tr>\n",
       "      <th rowspan=\"5\" valign=\"top\">3DS</th>\n",
       "      <th>2011</th>\n",
       "      <td>63.20</td>\n",
       "    </tr>\n",
       "    <tr>\n",
       "      <th>2012</th>\n",
       "      <td>51.36</td>\n",
       "    </tr>\n",
       "    <tr>\n",
       "      <th>2013</th>\n",
       "      <td>56.57</td>\n",
       "    </tr>\n",
       "    <tr>\n",
       "      <th>2014</th>\n",
       "      <td>43.76</td>\n",
       "    </tr>\n",
       "    <tr>\n",
       "      <th>2015</th>\n",
       "      <td>27.78</td>\n",
       "    </tr>\n",
       "    <tr>\n",
       "      <th>...</th>\n",
       "      <th>...</th>\n",
       "      <td>...</td>\n",
       "    </tr>\n",
       "    <tr>\n",
       "      <th>XB</th>\n",
       "      <th>2008</th>\n",
       "      <td>0.18</td>\n",
       "    </tr>\n",
       "    <tr>\n",
       "      <th rowspan=\"4\" valign=\"top\">XOne</th>\n",
       "      <th>2013</th>\n",
       "      <td>18.96</td>\n",
       "    </tr>\n",
       "    <tr>\n",
       "      <th>2014</th>\n",
       "      <td>54.07</td>\n",
       "    </tr>\n",
       "    <tr>\n",
       "      <th>2015</th>\n",
       "      <td>60.14</td>\n",
       "    </tr>\n",
       "    <tr>\n",
       "      <th>2016</th>\n",
       "      <td>26.15</td>\n",
       "    </tr>\n",
       "  </tbody>\n",
       "</table>\n",
       "<p>117 rows × 1 columns</p>\n",
       "</div>"
      ],
      "text/plain": [
       "                          total_sales\n",
       "platform year_of_release             \n",
       "3DS      2011                   63.20\n",
       "         2012                   51.36\n",
       "         2013                   56.57\n",
       "         2014                   43.76\n",
       "         2015                   27.78\n",
       "...                               ...\n",
       "XB       2008                    0.18\n",
       "XOne     2013                   18.96\n",
       "         2014                   54.07\n",
       "         2015                   60.14\n",
       "         2016                   26.15\n",
       "\n",
       "[117 rows x 1 columns]"
      ]
     },
     "execution_count": 31,
     "metadata": {},
     "output_type": "execute_result"
    }
   ],
   "source": [
    "games_platforms = data_games_no_zero_years[['platform', 'total_sales', 'year_of_release']].query('year_of_release > 2003')\n",
    "data_games_platforms_grouped = games_platforms.groupby(['platform','year_of_release']).sum()\n",
    "data_games_platforms_grouped"
   ]
  },
  {
   "cell_type": "code",
   "execution_count": 32,
   "id": "6349d3e3",
   "metadata": {},
   "outputs": [
    {
     "data": {
      "text/html": [
       "<div>\n",
       "<style scoped>\n",
       "    .dataframe tbody tr th:only-of-type {\n",
       "        vertical-align: middle;\n",
       "    }\n",
       "\n",
       "    .dataframe tbody tr th {\n",
       "        vertical-align: top;\n",
       "    }\n",
       "\n",
       "    .dataframe thead th {\n",
       "        text-align: right;\n",
       "    }\n",
       "</style>\n",
       "<table border=\"1\" class=\"dataframe\">\n",
       "  <thead>\n",
       "    <tr style=\"text-align: right;\">\n",
       "      <th></th>\n",
       "      <th></th>\n",
       "      <th>total_sales</th>\n",
       "    </tr>\n",
       "    <tr>\n",
       "      <th>platform</th>\n",
       "      <th>year_of_release</th>\n",
       "      <th></th>\n",
       "    </tr>\n",
       "  </thead>\n",
       "  <tbody>\n",
       "    <tr>\n",
       "      <th>PS4</th>\n",
       "      <th>2016</th>\n",
       "      <td>69.25</td>\n",
       "    </tr>\n",
       "    <tr>\n",
       "      <th>XOne</th>\n",
       "      <th>2016</th>\n",
       "      <td>26.15</td>\n",
       "    </tr>\n",
       "    <tr>\n",
       "      <th>3DS</th>\n",
       "      <th>2016</th>\n",
       "      <td>15.14</td>\n",
       "    </tr>\n",
       "    <tr>\n",
       "      <th>PC</th>\n",
       "      <th>2016</th>\n",
       "      <td>5.25</td>\n",
       "    </tr>\n",
       "    <tr>\n",
       "      <th>WiiU</th>\n",
       "      <th>2016</th>\n",
       "      <td>4.60</td>\n",
       "    </tr>\n",
       "    <tr>\n",
       "      <th>...</th>\n",
       "      <th>...</th>\n",
       "      <td>...</td>\n",
       "    </tr>\n",
       "    <tr>\n",
       "      <th>XB</th>\n",
       "      <th>2004</th>\n",
       "      <td>65.42</td>\n",
       "    </tr>\n",
       "    <tr>\n",
       "      <th>GC</th>\n",
       "      <th>2004</th>\n",
       "      <td>28.82</td>\n",
       "    </tr>\n",
       "    <tr>\n",
       "      <th>DS</th>\n",
       "      <th>2004</th>\n",
       "      <td>17.27</td>\n",
       "    </tr>\n",
       "    <tr>\n",
       "      <th>PC</th>\n",
       "      <th>2004</th>\n",
       "      <td>10.39</td>\n",
       "    </tr>\n",
       "    <tr>\n",
       "      <th>PSP</th>\n",
       "      <th>2004</th>\n",
       "      <td>7.06</td>\n",
       "    </tr>\n",
       "  </tbody>\n",
       "</table>\n",
       "<p>117 rows × 1 columns</p>\n",
       "</div>"
      ],
      "text/plain": [
       "                          total_sales\n",
       "platform year_of_release             \n",
       "PS4      2016                   69.25\n",
       "XOne     2016                   26.15\n",
       "3DS      2016                   15.14\n",
       "PC       2016                    5.25\n",
       "WiiU     2016                    4.60\n",
       "...                               ...\n",
       "XB       2004                   65.42\n",
       "GC       2004                   28.82\n",
       "DS       2004                   17.27\n",
       "PC       2004                   10.39\n",
       "PSP      2004                    7.06\n",
       "\n",
       "[117 rows x 1 columns]"
      ]
     },
     "execution_count": 32,
     "metadata": {},
     "output_type": "execute_result"
    }
   ],
   "source": [
    "games_platforms_grouped = data_games_platforms_grouped.sort_values(['year_of_release', 'total_sales'], ascending=False)\n",
    "games_platforms_grouped"
   ]
  },
  {
   "cell_type": "code",
   "execution_count": 33,
   "id": "9dd08657",
   "metadata": {},
   "outputs": [
    {
     "data": {
      "text/html": [
       "<div>\n",
       "<style scoped>\n",
       "    .dataframe tbody tr th:only-of-type {\n",
       "        vertical-align: middle;\n",
       "    }\n",
       "\n",
       "    .dataframe tbody tr th {\n",
       "        vertical-align: top;\n",
       "    }\n",
       "\n",
       "    .dataframe thead th {\n",
       "        text-align: right;\n",
       "    }\n",
       "</style>\n",
       "<table border=\"1\" class=\"dataframe\">\n",
       "  <thead>\n",
       "    <tr style=\"text-align: right;\">\n",
       "      <th></th>\n",
       "      <th>year_of_release</th>\n",
       "      <th>platform</th>\n",
       "      <th>total_sales</th>\n",
       "    </tr>\n",
       "  </thead>\n",
       "  <tbody>\n",
       "    <tr>\n",
       "      <th>0</th>\n",
       "      <td>2016</td>\n",
       "      <td>PS4</td>\n",
       "      <td>69.25</td>\n",
       "    </tr>\n",
       "    <tr>\n",
       "      <th>1</th>\n",
       "      <td>2016</td>\n",
       "      <td>XOne</td>\n",
       "      <td>26.15</td>\n",
       "    </tr>\n",
       "    <tr>\n",
       "      <th>2</th>\n",
       "      <td>2016</td>\n",
       "      <td>3DS</td>\n",
       "      <td>15.14</td>\n",
       "    </tr>\n",
       "    <tr>\n",
       "      <th>3</th>\n",
       "      <td>2016</td>\n",
       "      <td>PC</td>\n",
       "      <td>5.25</td>\n",
       "    </tr>\n",
       "    <tr>\n",
       "      <th>4</th>\n",
       "      <td>2016</td>\n",
       "      <td>WiiU</td>\n",
       "      <td>4.60</td>\n",
       "    </tr>\n",
       "    <tr>\n",
       "      <th>...</th>\n",
       "      <td>...</td>\n",
       "      <td>...</td>\n",
       "      <td>...</td>\n",
       "    </tr>\n",
       "    <tr>\n",
       "      <th>112</th>\n",
       "      <td>2004</td>\n",
       "      <td>XB</td>\n",
       "      <td>65.42</td>\n",
       "    </tr>\n",
       "    <tr>\n",
       "      <th>113</th>\n",
       "      <td>2004</td>\n",
       "      <td>GC</td>\n",
       "      <td>28.82</td>\n",
       "    </tr>\n",
       "    <tr>\n",
       "      <th>114</th>\n",
       "      <td>2004</td>\n",
       "      <td>DS</td>\n",
       "      <td>17.27</td>\n",
       "    </tr>\n",
       "    <tr>\n",
       "      <th>115</th>\n",
       "      <td>2004</td>\n",
       "      <td>PC</td>\n",
       "      <td>10.39</td>\n",
       "    </tr>\n",
       "    <tr>\n",
       "      <th>116</th>\n",
       "      <td>2004</td>\n",
       "      <td>PSP</td>\n",
       "      <td>7.06</td>\n",
       "    </tr>\n",
       "  </tbody>\n",
       "</table>\n",
       "<p>117 rows × 3 columns</p>\n",
       "</div>"
      ],
      "text/plain": [
       "     year_of_release platform  total_sales\n",
       "0               2016      PS4        69.25\n",
       "1               2016     XOne        26.15\n",
       "2               2016      3DS        15.14\n",
       "3               2016       PC         5.25\n",
       "4               2016     WiiU         4.60\n",
       "..               ...      ...          ...\n",
       "112             2004       XB        65.42\n",
       "113             2004       GC        28.82\n",
       "114             2004       DS        17.27\n",
       "115             2004       PC        10.39\n",
       "116             2004      PSP         7.06\n",
       "\n",
       "[117 rows x 3 columns]"
      ]
     },
     "execution_count": 33,
     "metadata": {},
     "output_type": "execute_result"
    }
   ],
   "source": [
    "games_platforms_grouped =games_platforms_grouped.reset_index(0).reset_index(0)\n",
    "games_platforms_grouped"
   ]
  },
  {
   "cell_type": "markdown",
   "id": "d6eb0df9",
   "metadata": {},
   "source": [
    "Выведем график продаж по каждой платформе, сгруппированной по годам. Используем контрастирующую цветовую схему:"
   ]
  },
  {
   "cell_type": "code",
   "execution_count": 34,
   "id": "88edbff3",
   "metadata": {},
   "outputs": [],
   "source": [
    "import seaborn as sb"
   ]
  },
  {
   "cell_type": "code",
   "execution_count": 35,
   "id": "48b4e512",
   "metadata": {},
   "outputs": [
    {
     "data": {
      "image/png": "[encoded data removed]",
      "text/plain": [
       "<Figure size 1440x1080 with 1 Axes>"
      ]
     },
     "metadata": {
      "needs_background": "light"
     },
     "output_type": "display_data"
    }
   ],
   "source": [
    "plt.figure(figsize=((20,15)))\n",
    "sb.barplot(x='year_of_release', y='total_sales', hue='platform', data=games_platforms_grouped, palette='hls',dodge=False);"
   ]
  },
  {
   "cell_type": "markdown",
   "id": "4acb6642",
   "metadata": {},
   "source": [
    "Единственное что может держать ту или иную платформу - это продажи игр под эту платформу. Добавим \"продаваемость\" консолей.\n"
   ]
  },
  {
   "cell_type": "code",
   "execution_count": 36,
   "id": "c53efa52",
   "metadata": {},
   "outputs": [
    {
     "data": {
      "text/html": [
       "<div>\n",
       "<style scoped>\n",
       "    .dataframe tbody tr th:only-of-type {\n",
       "        vertical-align: middle;\n",
       "    }\n",
       "\n",
       "    .dataframe tbody tr th {\n",
       "        vertical-align: top;\n",
       "    }\n",
       "\n",
       "    .dataframe thead th {\n",
       "        text-align: right;\n",
       "    }\n",
       "</style>\n",
       "<table border=\"1\" class=\"dataframe\">\n",
       "  <thead>\n",
       "    <tr style=\"text-align: right;\">\n",
       "      <th></th>\n",
       "      <th></th>\n",
       "      <th>total_sales</th>\n",
       "    </tr>\n",
       "    <tr>\n",
       "      <th>platform</th>\n",
       "      <th>year_of_release</th>\n",
       "      <th></th>\n",
       "    </tr>\n",
       "  </thead>\n",
       "  <tbody>\n",
       "    <tr>\n",
       "      <th rowspan=\"5\" valign=\"top\">2600</th>\n",
       "      <th>1980</th>\n",
       "      <td>11.38</td>\n",
       "    </tr>\n",
       "    <tr>\n",
       "      <th>1981</th>\n",
       "      <td>35.68</td>\n",
       "    </tr>\n",
       "    <tr>\n",
       "      <th>1982</th>\n",
       "      <td>28.88</td>\n",
       "    </tr>\n",
       "    <tr>\n",
       "      <th>1983</th>\n",
       "      <td>5.84</td>\n",
       "    </tr>\n",
       "    <tr>\n",
       "      <th>1984</th>\n",
       "      <td>0.27</td>\n",
       "    </tr>\n",
       "    <tr>\n",
       "      <th>...</th>\n",
       "      <th>...</th>\n",
       "      <td>...</td>\n",
       "    </tr>\n",
       "    <tr>\n",
       "      <th>XB</th>\n",
       "      <th>2008</th>\n",
       "      <td>0.18</td>\n",
       "    </tr>\n",
       "    <tr>\n",
       "      <th rowspan=\"4\" valign=\"top\">XOne</th>\n",
       "      <th>2013</th>\n",
       "      <td>18.96</td>\n",
       "    </tr>\n",
       "    <tr>\n",
       "      <th>2014</th>\n",
       "      <td>54.07</td>\n",
       "    </tr>\n",
       "    <tr>\n",
       "      <th>2015</th>\n",
       "      <td>60.14</td>\n",
       "    </tr>\n",
       "    <tr>\n",
       "      <th>2016</th>\n",
       "      <td>26.15</td>\n",
       "    </tr>\n",
       "  </tbody>\n",
       "</table>\n",
       "<p>238 rows × 1 columns</p>\n",
       "</div>"
      ],
      "text/plain": [
       "                          total_sales\n",
       "platform year_of_release             \n",
       "2600     1980                   11.38\n",
       "         1981                   35.68\n",
       "         1982                   28.88\n",
       "         1983                    5.84\n",
       "         1984                    0.27\n",
       "...                               ...\n",
       "XB       2008                    0.18\n",
       "XOne     2013                   18.96\n",
       "         2014                   54.07\n",
       "         2015                   60.14\n",
       "         2016                   26.15\n",
       "\n",
       "[238 rows x 1 columns]"
      ]
     },
     "execution_count": 36,
     "metadata": {},
     "output_type": "execute_result"
    }
   ],
   "source": [
    "platform_lifespan = data_games_no_zero_years[['platform', 'total_sales', 'year_of_release']].query('year_of_release != 0').groupby(['platform', 'year_of_release']).sum()\n",
    "platform_lifespan"
   ]
  },
  {
   "cell_type": "code",
   "execution_count": 37,
   "id": "8c83a19d",
   "metadata": {},
   "outputs": [
    {
     "data": {
      "text/html": [
       "<div>\n",
       "<style scoped>\n",
       "    .dataframe tbody tr th:only-of-type {\n",
       "        vertical-align: middle;\n",
       "    }\n",
       "\n",
       "    .dataframe tbody tr th {\n",
       "        vertical-align: top;\n",
       "    }\n",
       "\n",
       "    .dataframe thead th {\n",
       "        text-align: right;\n",
       "    }\n",
       "</style>\n",
       "<table border=\"1\" class=\"dataframe\">\n",
       "  <thead>\n",
       "    <tr style=\"text-align: right;\">\n",
       "      <th></th>\n",
       "      <th>year_of_release</th>\n",
       "      <th>platform</th>\n",
       "      <th>total_sales</th>\n",
       "    </tr>\n",
       "  </thead>\n",
       "  <tbody>\n",
       "    <tr>\n",
       "      <th>0</th>\n",
       "      <td>1980</td>\n",
       "      <td>2600</td>\n",
       "      <td>11.38</td>\n",
       "    </tr>\n",
       "    <tr>\n",
       "      <th>1</th>\n",
       "      <td>1981</td>\n",
       "      <td>2600</td>\n",
       "      <td>35.68</td>\n",
       "    </tr>\n",
       "    <tr>\n",
       "      <th>2</th>\n",
       "      <td>1982</td>\n",
       "      <td>2600</td>\n",
       "      <td>28.88</td>\n",
       "    </tr>\n",
       "    <tr>\n",
       "      <th>3</th>\n",
       "      <td>1983</td>\n",
       "      <td>2600</td>\n",
       "      <td>5.84</td>\n",
       "    </tr>\n",
       "    <tr>\n",
       "      <th>4</th>\n",
       "      <td>1984</td>\n",
       "      <td>2600</td>\n",
       "      <td>0.27</td>\n",
       "    </tr>\n",
       "    <tr>\n",
       "      <th>...</th>\n",
       "      <td>...</td>\n",
       "      <td>...</td>\n",
       "      <td>...</td>\n",
       "    </tr>\n",
       "    <tr>\n",
       "      <th>233</th>\n",
       "      <td>2008</td>\n",
       "      <td>XB</td>\n",
       "      <td>0.18</td>\n",
       "    </tr>\n",
       "    <tr>\n",
       "      <th>234</th>\n",
       "      <td>2013</td>\n",
       "      <td>XOne</td>\n",
       "      <td>18.96</td>\n",
       "    </tr>\n",
       "    <tr>\n",
       "      <th>235</th>\n",
       "      <td>2014</td>\n",
       "      <td>XOne</td>\n",
       "      <td>54.07</td>\n",
       "    </tr>\n",
       "    <tr>\n",
       "      <th>236</th>\n",
       "      <td>2015</td>\n",
       "      <td>XOne</td>\n",
       "      <td>60.14</td>\n",
       "    </tr>\n",
       "    <tr>\n",
       "      <th>237</th>\n",
       "      <td>2016</td>\n",
       "      <td>XOne</td>\n",
       "      <td>26.15</td>\n",
       "    </tr>\n",
       "  </tbody>\n",
       "</table>\n",
       "<p>238 rows × 3 columns</p>\n",
       "</div>"
      ],
      "text/plain": [
       "     year_of_release platform  total_sales\n",
       "0               1980     2600        11.38\n",
       "1               1981     2600        35.68\n",
       "2               1982     2600        28.88\n",
       "3               1983     2600         5.84\n",
       "4               1984     2600         0.27\n",
       "..               ...      ...          ...\n",
       "233             2008       XB         0.18\n",
       "234             2013     XOne        18.96\n",
       "235             2014     XOne        54.07\n",
       "236             2015     XOne        60.14\n",
       "237             2016     XOne        26.15\n",
       "\n",
       "[238 rows x 3 columns]"
      ]
     },
     "execution_count": 37,
     "metadata": {},
     "output_type": "execute_result"
    }
   ],
   "source": [
    "platform_lifespan = platform_lifespan.reset_index(0).reset_index(0)\n",
    "platform_lifespan"
   ]
  },
  {
   "cell_type": "markdown",
   "id": "9ab74439",
   "metadata": {},
   "source": [
    "Для нас важно узнать исторические данные, поэтому в этом случае мы добавили ещё 10 лет (с 1994):"
   ]
  },
  {
   "cell_type": "code",
   "execution_count": 38,
   "id": "ef5c8707",
   "metadata": {},
   "outputs": [
    {
     "data": {
      "text/html": [
       "<div>\n",
       "<style scoped>\n",
       "    .dataframe tbody tr th:only-of-type {\n",
       "        vertical-align: middle;\n",
       "    }\n",
       "\n",
       "    .dataframe tbody tr th {\n",
       "        vertical-align: top;\n",
       "    }\n",
       "\n",
       "    .dataframe thead th {\n",
       "        text-align: right;\n",
       "    }\n",
       "</style>\n",
       "<table border=\"1\" class=\"dataframe\">\n",
       "  <thead>\n",
       "    <tr style=\"text-align: right;\">\n",
       "      <th></th>\n",
       "      <th>platform</th>\n",
       "      <th>year_of_release</th>\n",
       "    </tr>\n",
       "  </thead>\n",
       "  <tbody>\n",
       "    <tr>\n",
       "      <th>0</th>\n",
       "      <td>PC</td>\n",
       "      <td>26</td>\n",
       "    </tr>\n",
       "    <tr>\n",
       "      <th>1</th>\n",
       "      <td>GB</td>\n",
       "      <td>13</td>\n",
       "    </tr>\n",
       "    <tr>\n",
       "      <th>2</th>\n",
       "      <td>NES</td>\n",
       "      <td>12</td>\n",
       "    </tr>\n",
       "    <tr>\n",
       "      <th>3</th>\n",
       "      <td>X360</td>\n",
       "      <td>12</td>\n",
       "    </tr>\n",
       "    <tr>\n",
       "      <th>4</th>\n",
       "      <td>PSP</td>\n",
       "      <td>12</td>\n",
       "    </tr>\n",
       "    <tr>\n",
       "      <th>5</th>\n",
       "      <td>PS2</td>\n",
       "      <td>12</td>\n",
       "    </tr>\n",
       "    <tr>\n",
       "      <th>6</th>\n",
       "      <td>Wii</td>\n",
       "      <td>11</td>\n",
       "    </tr>\n",
       "    <tr>\n",
       "      <th>7</th>\n",
       "      <td>DS</td>\n",
       "      <td>11</td>\n",
       "    </tr>\n",
       "    <tr>\n",
       "      <th>8</th>\n",
       "      <td>PS3</td>\n",
       "      <td>11</td>\n",
       "    </tr>\n",
       "    <tr>\n",
       "      <th>9</th>\n",
       "      <td>2600</td>\n",
       "      <td>10</td>\n",
       "    </tr>\n",
       "  </tbody>\n",
       "</table>\n",
       "</div>"
      ],
      "text/plain": [
       "  platform  year_of_release\n",
       "0       PC               26\n",
       "1       GB               13\n",
       "2      NES               12\n",
       "3     X360               12\n",
       "4      PSP               12\n",
       "5      PS2               12\n",
       "6      Wii               11\n",
       "7       DS               11\n",
       "8      PS3               11\n",
       "9     2600               10"
      ]
     },
     "execution_count": 38,
     "metadata": {},
     "output_type": "execute_result"
    }
   ],
   "source": [
    "platform_lifespan_final = platform_lifespan.groupby('platform').count().sort_values('year_of_release', ascending = False)\n",
    "platform_lifespan_final = platform_lifespan_final.drop(columns = 'total_sales')\n",
    "platform_lifespan_final.reset_index(0).head(10)"
   ]
  },
  {
   "cell_type": "markdown",
   "id": "d47dc65f",
   "metadata": {},
   "source": [
    "После всех преобразований столбец с названием **year_of_release** потерял свой смысл. \n",
    "\n",
    "Добавим его новой таблице и переименуем все столбцы:"
   ]
  },
  {
   "cell_type": "code",
   "execution_count": 39,
   "id": "ac6a69a7",
   "metadata": {},
   "outputs": [
    {
     "data": {
      "text/html": [
       "<div>\n",
       "<style scoped>\n",
       "    .dataframe tbody tr th:only-of-type {\n",
       "        vertical-align: middle;\n",
       "    }\n",
       "\n",
       "    .dataframe tbody tr th {\n",
       "        vertical-align: top;\n",
       "    }\n",
       "\n",
       "    .dataframe thead th {\n",
       "        text-align: right;\n",
       "    }\n",
       "</style>\n",
       "<table border=\"1\" class=\"dataframe\">\n",
       "  <thead>\n",
       "    <tr style=\"text-align: right;\">\n",
       "      <th></th>\n",
       "      <th>platform</th>\n",
       "      <th>year_of_release</th>\n",
       "    </tr>\n",
       "  </thead>\n",
       "  <tbody>\n",
       "    <tr>\n",
       "      <th>0</th>\n",
       "      <td>Wii</td>\n",
       "      <td>2006</td>\n",
       "    </tr>\n",
       "    <tr>\n",
       "      <th>1</th>\n",
       "      <td>NES</td>\n",
       "      <td>1985</td>\n",
       "    </tr>\n",
       "    <tr>\n",
       "      <th>2</th>\n",
       "      <td>Wii</td>\n",
       "      <td>2008</td>\n",
       "    </tr>\n",
       "    <tr>\n",
       "      <th>3</th>\n",
       "      <td>Wii</td>\n",
       "      <td>2009</td>\n",
       "    </tr>\n",
       "    <tr>\n",
       "      <th>4</th>\n",
       "      <td>GB</td>\n",
       "      <td>1996</td>\n",
       "    </tr>\n",
       "    <tr>\n",
       "      <th>...</th>\n",
       "      <td>...</td>\n",
       "      <td>...</td>\n",
       "    </tr>\n",
       "    <tr>\n",
       "      <th>16710</th>\n",
       "      <td>PS3</td>\n",
       "      <td>2016</td>\n",
       "    </tr>\n",
       "    <tr>\n",
       "      <th>16711</th>\n",
       "      <td>X360</td>\n",
       "      <td>2006</td>\n",
       "    </tr>\n",
       "    <tr>\n",
       "      <th>16712</th>\n",
       "      <td>PSV</td>\n",
       "      <td>2016</td>\n",
       "    </tr>\n",
       "    <tr>\n",
       "      <th>16713</th>\n",
       "      <td>GBA</td>\n",
       "      <td>2003</td>\n",
       "    </tr>\n",
       "    <tr>\n",
       "      <th>16714</th>\n",
       "      <td>PSV</td>\n",
       "      <td>2016</td>\n",
       "    </tr>\n",
       "  </tbody>\n",
       "</table>\n",
       "<p>16446 rows × 2 columns</p>\n",
       "</div>"
      ],
      "text/plain": [
       "      platform  year_of_release\n",
       "0          Wii             2006\n",
       "1          NES             1985\n",
       "2          Wii             2008\n",
       "3          Wii             2009\n",
       "4           GB             1996\n",
       "...        ...              ...\n",
       "16710      PS3             2016\n",
       "16711     X360             2006\n",
       "16712      PSV             2016\n",
       "16713      GBA             2003\n",
       "16714      PSV             2016\n",
       "\n",
       "[16446 rows x 2 columns]"
      ]
     },
     "execution_count": 39,
     "metadata": {},
     "output_type": "execute_result"
    }
   ],
   "source": [
    "year_of_platform_rel = data_games_no_zero_years[['platform', 'year_of_release']]\n",
    "year_of_platform_rel"
   ]
  },
  {
   "cell_type": "markdown",
   "id": "b48538f7",
   "metadata": {},
   "source": [
    "Создадим список соответствия платформы и даты релиза первой игры на нужно консоли:"
   ]
  },
  {
   "cell_type": "code",
   "execution_count": 40,
   "id": "e5be8382",
   "metadata": {},
   "outputs": [
    {
     "data": {
      "text/html": [
       "<div>\n",
       "<style scoped>\n",
       "    .dataframe tbody tr th:only-of-type {\n",
       "        vertical-align: middle;\n",
       "    }\n",
       "\n",
       "    .dataframe tbody tr th {\n",
       "        vertical-align: top;\n",
       "    }\n",
       "\n",
       "    .dataframe thead th {\n",
       "        text-align: right;\n",
       "    }\n",
       "</style>\n",
       "<table border=\"1\" class=\"dataframe\">\n",
       "  <thead>\n",
       "    <tr style=\"text-align: right;\">\n",
       "      <th></th>\n",
       "      <th>year_of_release</th>\n",
       "    </tr>\n",
       "    <tr>\n",
       "      <th>platform</th>\n",
       "      <th></th>\n",
       "    </tr>\n",
       "  </thead>\n",
       "  <tbody>\n",
       "    <tr>\n",
       "      <th>2600</th>\n",
       "      <td>1980</td>\n",
       "    </tr>\n",
       "    <tr>\n",
       "      <th>3DO</th>\n",
       "      <td>1994</td>\n",
       "    </tr>\n",
       "    <tr>\n",
       "      <th>3DS</th>\n",
       "      <td>2011</td>\n",
       "    </tr>\n",
       "    <tr>\n",
       "      <th>DC</th>\n",
       "      <td>1998</td>\n",
       "    </tr>\n",
       "    <tr>\n",
       "      <th>DS</th>\n",
       "      <td>1985</td>\n",
       "    </tr>\n",
       "    <tr>\n",
       "      <th>GB</th>\n",
       "      <td>1988</td>\n",
       "    </tr>\n",
       "    <tr>\n",
       "      <th>GBA</th>\n",
       "      <td>2000</td>\n",
       "    </tr>\n",
       "    <tr>\n",
       "      <th>GC</th>\n",
       "      <td>2001</td>\n",
       "    </tr>\n",
       "    <tr>\n",
       "      <th>GEN</th>\n",
       "      <td>1990</td>\n",
       "    </tr>\n",
       "    <tr>\n",
       "      <th>GG</th>\n",
       "      <td>1992</td>\n",
       "    </tr>\n",
       "  </tbody>\n",
       "</table>\n",
       "</div>"
      ],
      "text/plain": [
       "          year_of_release\n",
       "platform                 \n",
       "2600                 1980\n",
       "3DO                  1994\n",
       "3DS                  2011\n",
       "DC                   1998\n",
       "DS                   1985\n",
       "GB                   1988\n",
       "GBA                  2000\n",
       "GC                   2001\n",
       "GEN                  1990\n",
       "GG                   1992"
      ]
     },
     "execution_count": 40,
     "metadata": {},
     "output_type": "execute_result"
    }
   ],
   "source": [
    "year_of_release_new = year_of_platform_rel.groupby('platform').min()\n",
    "year_of_release_new.head(10)"
   ]
  },
  {
   "cell_type": "code",
   "execution_count": 41,
   "id": "25788928",
   "metadata": {},
   "outputs": [
    {
     "data": {
      "text/html": [
       "<div>\n",
       "<style scoped>\n",
       "    .dataframe tbody tr th:only-of-type {\n",
       "        vertical-align: middle;\n",
       "    }\n",
       "\n",
       "    .dataframe tbody tr th {\n",
       "        vertical-align: top;\n",
       "    }\n",
       "\n",
       "    .dataframe thead th {\n",
       "        text-align: right;\n",
       "    }\n",
       "</style>\n",
       "<table border=\"1\" class=\"dataframe\">\n",
       "  <thead>\n",
       "    <tr style=\"text-align: right;\">\n",
       "      <th></th>\n",
       "      <th>platform</th>\n",
       "      <th>year_of_release</th>\n",
       "    </tr>\n",
       "  </thead>\n",
       "  <tbody>\n",
       "    <tr>\n",
       "      <th>0</th>\n",
       "      <td>2600</td>\n",
       "      <td>1980</td>\n",
       "    </tr>\n",
       "    <tr>\n",
       "      <th>1</th>\n",
       "      <td>3DO</td>\n",
       "      <td>1994</td>\n",
       "    </tr>\n",
       "    <tr>\n",
       "      <th>2</th>\n",
       "      <td>3DS</td>\n",
       "      <td>2011</td>\n",
       "    </tr>\n",
       "    <tr>\n",
       "      <th>3</th>\n",
       "      <td>DC</td>\n",
       "      <td>1998</td>\n",
       "    </tr>\n",
       "    <tr>\n",
       "      <th>4</th>\n",
       "      <td>DS</td>\n",
       "      <td>1985</td>\n",
       "    </tr>\n",
       "    <tr>\n",
       "      <th>5</th>\n",
       "      <td>GB</td>\n",
       "      <td>1988</td>\n",
       "    </tr>\n",
       "    <tr>\n",
       "      <th>6</th>\n",
       "      <td>GBA</td>\n",
       "      <td>2000</td>\n",
       "    </tr>\n",
       "    <tr>\n",
       "      <th>7</th>\n",
       "      <td>GC</td>\n",
       "      <td>2001</td>\n",
       "    </tr>\n",
       "    <tr>\n",
       "      <th>8</th>\n",
       "      <td>GEN</td>\n",
       "      <td>1990</td>\n",
       "    </tr>\n",
       "    <tr>\n",
       "      <th>9</th>\n",
       "      <td>GG</td>\n",
       "      <td>1992</td>\n",
       "    </tr>\n",
       "  </tbody>\n",
       "</table>\n",
       "</div>"
      ],
      "text/plain": [
       "  platform  year_of_release\n",
       "0     2600             1980\n",
       "1      3DO             1994\n",
       "2      3DS             2011\n",
       "3       DC             1998\n",
       "4       DS             1985\n",
       "5       GB             1988\n",
       "6      GBA             2000\n",
       "7       GC             2001\n",
       "8      GEN             1990\n",
       "9       GG             1992"
      ]
     },
     "execution_count": 41,
     "metadata": {},
     "output_type": "execute_result"
    }
   ],
   "source": [
    "year_of_release_new = year_of_release_new.reset_index(0)\n",
    "year_of_release_new.head(10)"
   ]
  },
  {
   "cell_type": "markdown",
   "id": "1441ecd1",
   "metadata": {},
   "source": [
    "Сделаем наглядную таблицу в которой будет видно сколько жила каждая платформа:"
   ]
  },
  {
   "cell_type": "code",
   "execution_count": 45,
   "id": "49994d88",
   "metadata": {},
   "outputs": [
    {
     "data": {
      "text/html": [
       "<div>\n",
       "<style scoped>\n",
       "    .dataframe tbody tr th:only-of-type {\n",
       "        vertical-align: middle;\n",
       "    }\n",
       "\n",
       "    .dataframe tbody tr th {\n",
       "        vertical-align: top;\n",
       "    }\n",
       "\n",
       "    .dataframe thead th {\n",
       "        text-align: right;\n",
       "    }\n",
       "</style>\n",
       "<table border=\"1\" class=\"dataframe\">\n",
       "  <thead>\n",
       "    <tr style=\"text-align: right;\">\n",
       "      <th></th>\n",
       "      <th>platform</th>\n",
       "      <th>year_of_release_x</th>\n",
       "      <th>year_of_release_y</th>\n",
       "    </tr>\n",
       "  </thead>\n",
       "  <tbody>\n",
       "    <tr>\n",
       "      <th>0</th>\n",
       "      <td>PC</td>\n",
       "      <td>26</td>\n",
       "      <td>1985</td>\n",
       "    </tr>\n",
       "    <tr>\n",
       "      <th>1</th>\n",
       "      <td>GB</td>\n",
       "      <td>13</td>\n",
       "      <td>1988</td>\n",
       "    </tr>\n",
       "    <tr>\n",
       "      <th>2</th>\n",
       "      <td>NES</td>\n",
       "      <td>12</td>\n",
       "      <td>1983</td>\n",
       "    </tr>\n",
       "    <tr>\n",
       "      <th>3</th>\n",
       "      <td>X360</td>\n",
       "      <td>12</td>\n",
       "      <td>2005</td>\n",
       "    </tr>\n",
       "    <tr>\n",
       "      <th>4</th>\n",
       "      <td>PSP</td>\n",
       "      <td>12</td>\n",
       "      <td>2004</td>\n",
       "    </tr>\n",
       "    <tr>\n",
       "      <th>5</th>\n",
       "      <td>PS2</td>\n",
       "      <td>12</td>\n",
       "      <td>2000</td>\n",
       "    </tr>\n",
       "    <tr>\n",
       "      <th>6</th>\n",
       "      <td>Wii</td>\n",
       "      <td>11</td>\n",
       "      <td>2006</td>\n",
       "    </tr>\n",
       "    <tr>\n",
       "      <th>7</th>\n",
       "      <td>DS</td>\n",
       "      <td>11</td>\n",
       "      <td>1985</td>\n",
       "    </tr>\n",
       "    <tr>\n",
       "      <th>8</th>\n",
       "      <td>PS3</td>\n",
       "      <td>11</td>\n",
       "      <td>2006</td>\n",
       "    </tr>\n",
       "    <tr>\n",
       "      <th>9</th>\n",
       "      <td>2600</td>\n",
       "      <td>10</td>\n",
       "      <td>1980</td>\n",
       "    </tr>\n",
       "  </tbody>\n",
       "</table>\n",
       "</div>"
      ],
      "text/plain": [
       "  platform  year_of_release_x  year_of_release_y\n",
       "0       PC                 26               1985\n",
       "1       GB                 13               1988\n",
       "2      NES                 12               1983\n",
       "3     X360                 12               2005\n",
       "4      PSP                 12               2004\n",
       "5      PS2                 12               2000\n",
       "6      Wii                 11               2006\n",
       "7       DS                 11               1985\n",
       "8      PS3                 11               2006\n",
       "9     2600                 10               1980"
      ]
     },
     "execution_count": 45,
     "metadata": {},
     "output_type": "execute_result"
    }
   ],
   "source": [
    "platform_table = pd.merge(platform_lifespan_final, year_of_release_new, on='platform')\n",
    "platform_table.head(10)"
   ]
  },
  {
   "cell_type": "code",
   "execution_count": 46,
   "id": "7e008b39",
   "metadata": {},
   "outputs": [
    {
     "data": {
      "text/html": [
       "<div>\n",
       "<style scoped>\n",
       "    .dataframe tbody tr th:only-of-type {\n",
       "        vertical-align: middle;\n",
       "    }\n",
       "\n",
       "    .dataframe tbody tr th {\n",
       "        vertical-align: top;\n",
       "    }\n",
       "\n",
       "    .dataframe thead th {\n",
       "        text-align: right;\n",
       "    }\n",
       "</style>\n",
       "<table border=\"1\" class=\"dataframe\">\n",
       "  <thead>\n",
       "    <tr style=\"text-align: right;\">\n",
       "      <th></th>\n",
       "      <th>platform</th>\n",
       "      <th>years_of_sales</th>\n",
       "      <th>year_of_release</th>\n",
       "    </tr>\n",
       "  </thead>\n",
       "  <tbody>\n",
       "    <tr>\n",
       "      <th>0</th>\n",
       "      <td>PC</td>\n",
       "      <td>26</td>\n",
       "      <td>1985</td>\n",
       "    </tr>\n",
       "    <tr>\n",
       "      <th>1</th>\n",
       "      <td>GB</td>\n",
       "      <td>13</td>\n",
       "      <td>1988</td>\n",
       "    </tr>\n",
       "    <tr>\n",
       "      <th>2</th>\n",
       "      <td>NES</td>\n",
       "      <td>12</td>\n",
       "      <td>1983</td>\n",
       "    </tr>\n",
       "    <tr>\n",
       "      <th>3</th>\n",
       "      <td>X360</td>\n",
       "      <td>12</td>\n",
       "      <td>2005</td>\n",
       "    </tr>\n",
       "    <tr>\n",
       "      <th>4</th>\n",
       "      <td>PSP</td>\n",
       "      <td>12</td>\n",
       "      <td>2004</td>\n",
       "    </tr>\n",
       "    <tr>\n",
       "      <th>5</th>\n",
       "      <td>PS2</td>\n",
       "      <td>12</td>\n",
       "      <td>2000</td>\n",
       "    </tr>\n",
       "    <tr>\n",
       "      <th>6</th>\n",
       "      <td>Wii</td>\n",
       "      <td>11</td>\n",
       "      <td>2006</td>\n",
       "    </tr>\n",
       "    <tr>\n",
       "      <th>7</th>\n",
       "      <td>DS</td>\n",
       "      <td>11</td>\n",
       "      <td>1985</td>\n",
       "    </tr>\n",
       "    <tr>\n",
       "      <th>8</th>\n",
       "      <td>PS3</td>\n",
       "      <td>11</td>\n",
       "      <td>2006</td>\n",
       "    </tr>\n",
       "    <tr>\n",
       "      <th>9</th>\n",
       "      <td>2600</td>\n",
       "      <td>10</td>\n",
       "      <td>1980</td>\n",
       "    </tr>\n",
       "  </tbody>\n",
       "</table>\n",
       "</div>"
      ],
      "text/plain": [
       "  platform  years_of_sales  year_of_release\n",
       "0       PC              26             1985\n",
       "1       GB              13             1988\n",
       "2      NES              12             1983\n",
       "3     X360              12             2005\n",
       "4      PSP              12             2004\n",
       "5      PS2              12             2000\n",
       "6      Wii              11             2006\n",
       "7       DS              11             1985\n",
       "8      PS3              11             2006\n",
       "9     2600              10             1980"
      ]
     },
     "execution_count": 46,
     "metadata": {},
     "output_type": "execute_result"
    }
   ],
   "source": [
    "platform_table.columns = ['platform', 'years_of_sales', 'year_of_release']\n",
    "platform_table.head(10)"
   ]
  },
  {
   "cell_type": "code",
   "execution_count": 47,
   "id": "cd5372a2",
   "metadata": {},
   "outputs": [
    {
     "data": {
      "text/plain": [
       "count    31.00\n",
       "mean      7.68\n",
       "std       5.08\n",
       "min       1.00\n",
       "25%       4.00\n",
       "50%       7.00\n",
       "75%      11.00\n",
       "max      26.00\n",
       "Name: years_of_sales, dtype: float64"
      ]
     },
     "execution_count": 47,
     "metadata": {},
     "output_type": "execute_result"
    }
   ],
   "source": [
    "platform_table['years_of_sales'].describe().round(2)"
   ]
  },
  {
   "cell_type": "markdown",
   "id": "89601be4",
   "metadata": {},
   "source": [
    "#### Вывод по продажам по платформам\n",
    "Характерный срок существования платформы - около 7 лет. Картину слегка размывает PC как представитель, поскольку, хардвер можно апгрейдить, а вот хардвер консолей - нет, поэтому он остаётся в тренде долгое время, хотя, по факту, это разные платформы под одним названием. \n",
    "Однако, здесь не учитываются данные по мобильным играм, скорее всего, этот рынок более динамичен - новые смартфоны, операционные системы и прочие составляющие мобильной индустрии порой выходят чаще, чем раз в год.\n",
    "\n"
   ]
  },
  {
   "cell_type": "markdown",
   "id": "28eef5a3",
   "metadata": {},
   "source": [
    "**Актуальность периода**\n",
    "\n",
    "Рынок гейминга (исходя из графиков, построенного на выборке) стремительно падает с 2009 года, поэтому для прогноза мы должны зафиксировать этот тренд, а исходя из актуальности данных в целом нужно взять период с 2013-2016 годы."
   ]
  },
  {
   "cell_type": "code",
   "execution_count": 48,
   "id": "3f809cdf",
   "metadata": {},
   "outputs": [
    {
     "data": {
      "text/html": [
       "<div>\n",
       "<style scoped>\n",
       "    .dataframe tbody tr th:only-of-type {\n",
       "        vertical-align: middle;\n",
       "    }\n",
       "\n",
       "    .dataframe tbody tr th {\n",
       "        vertical-align: top;\n",
       "    }\n",
       "\n",
       "    .dataframe thead th {\n",
       "        text-align: right;\n",
       "    }\n",
       "</style>\n",
       "<table border=\"1\" class=\"dataframe\">\n",
       "  <thead>\n",
       "    <tr style=\"text-align: right;\">\n",
       "      <th></th>\n",
       "      <th>name</th>\n",
       "      <th>platform</th>\n",
       "      <th>year_of_release</th>\n",
       "      <th>genre</th>\n",
       "      <th>na_sales</th>\n",
       "      <th>eu_sales</th>\n",
       "      <th>jp_sales</th>\n",
       "      <th>other_sales</th>\n",
       "      <th>critic_score</th>\n",
       "      <th>user_score</th>\n",
       "      <th>rating</th>\n",
       "      <th>total_sales</th>\n",
       "    </tr>\n",
       "  </thead>\n",
       "  <tbody>\n",
       "    <tr>\n",
       "      <th>16</th>\n",
       "      <td>Grand Theft Auto V</td>\n",
       "      <td>PS3</td>\n",
       "      <td>2013</td>\n",
       "      <td>Action</td>\n",
       "      <td>7.02</td>\n",
       "      <td>9.09</td>\n",
       "      <td>0.98</td>\n",
       "      <td>3.96</td>\n",
       "      <td>97.0</td>\n",
       "      <td>8.2</td>\n",
       "      <td>M</td>\n",
       "      <td>21.05</td>\n",
       "    </tr>\n",
       "    <tr>\n",
       "      <th>23</th>\n",
       "      <td>Grand Theft Auto V</td>\n",
       "      <td>X360</td>\n",
       "      <td>2013</td>\n",
       "      <td>Action</td>\n",
       "      <td>9.66</td>\n",
       "      <td>5.14</td>\n",
       "      <td>0.06</td>\n",
       "      <td>1.41</td>\n",
       "      <td>97.0</td>\n",
       "      <td>8.1</td>\n",
       "      <td>M</td>\n",
       "      <td>16.27</td>\n",
       "    </tr>\n",
       "    <tr>\n",
       "      <th>31</th>\n",
       "      <td>Call of Duty: Black Ops 3</td>\n",
       "      <td>PS4</td>\n",
       "      <td>2015</td>\n",
       "      <td>Shooter</td>\n",
       "      <td>6.03</td>\n",
       "      <td>5.86</td>\n",
       "      <td>0.36</td>\n",
       "      <td>2.38</td>\n",
       "      <td>0.0</td>\n",
       "      <td>0.0</td>\n",
       "      <td>No rating</td>\n",
       "      <td>14.63</td>\n",
       "    </tr>\n",
       "    <tr>\n",
       "      <th>33</th>\n",
       "      <td>Pokemon X/Pokemon Y</td>\n",
       "      <td>3DS</td>\n",
       "      <td>2013</td>\n",
       "      <td>Role-Playing</td>\n",
       "      <td>5.28</td>\n",
       "      <td>4.19</td>\n",
       "      <td>4.35</td>\n",
       "      <td>0.78</td>\n",
       "      <td>0.0</td>\n",
       "      <td>0.0</td>\n",
       "      <td>No rating</td>\n",
       "      <td>14.60</td>\n",
       "    </tr>\n",
       "    <tr>\n",
       "      <th>42</th>\n",
       "      <td>Grand Theft Auto V</td>\n",
       "      <td>PS4</td>\n",
       "      <td>2014</td>\n",
       "      <td>Action</td>\n",
       "      <td>3.96</td>\n",
       "      <td>6.31</td>\n",
       "      <td>0.38</td>\n",
       "      <td>1.97</td>\n",
       "      <td>97.0</td>\n",
       "      <td>8.3</td>\n",
       "      <td>M</td>\n",
       "      <td>12.62</td>\n",
       "    </tr>\n",
       "    <tr>\n",
       "      <th>47</th>\n",
       "      <td>Pokemon Omega Ruby/Pokemon Alpha Sapphire</td>\n",
       "      <td>3DS</td>\n",
       "      <td>2014</td>\n",
       "      <td>Role-Playing</td>\n",
       "      <td>4.35</td>\n",
       "      <td>3.49</td>\n",
       "      <td>3.10</td>\n",
       "      <td>0.74</td>\n",
       "      <td>0.0</td>\n",
       "      <td>0.0</td>\n",
       "      <td>No rating</td>\n",
       "      <td>11.68</td>\n",
       "    </tr>\n",
       "    <tr>\n",
       "      <th>60</th>\n",
       "      <td>Call of Duty: Ghosts</td>\n",
       "      <td>X360</td>\n",
       "      <td>2013</td>\n",
       "      <td>Shooter</td>\n",
       "      <td>6.73</td>\n",
       "      <td>2.56</td>\n",
       "      <td>0.04</td>\n",
       "      <td>0.91</td>\n",
       "      <td>73.0</td>\n",
       "      <td>2.6</td>\n",
       "      <td>M</td>\n",
       "      <td>10.24</td>\n",
       "    </tr>\n",
       "    <tr>\n",
       "      <th>69</th>\n",
       "      <td>Call of Duty: Ghosts</td>\n",
       "      <td>PS3</td>\n",
       "      <td>2013</td>\n",
       "      <td>Shooter</td>\n",
       "      <td>4.10</td>\n",
       "      <td>3.63</td>\n",
       "      <td>0.38</td>\n",
       "      <td>1.25</td>\n",
       "      <td>71.0</td>\n",
       "      <td>2.6</td>\n",
       "      <td>M</td>\n",
       "      <td>9.36</td>\n",
       "    </tr>\n",
       "    <tr>\n",
       "      <th>72</th>\n",
       "      <td>Minecraft</td>\n",
       "      <td>X360</td>\n",
       "      <td>2013</td>\n",
       "      <td>Misc</td>\n",
       "      <td>5.70</td>\n",
       "      <td>2.65</td>\n",
       "      <td>0.02</td>\n",
       "      <td>0.81</td>\n",
       "      <td>0.0</td>\n",
       "      <td>0.0</td>\n",
       "      <td>No rating</td>\n",
       "      <td>9.18</td>\n",
       "    </tr>\n",
       "    <tr>\n",
       "      <th>77</th>\n",
       "      <td>FIFA 16</td>\n",
       "      <td>PS4</td>\n",
       "      <td>2015</td>\n",
       "      <td>Sports</td>\n",
       "      <td>1.12</td>\n",
       "      <td>6.12</td>\n",
       "      <td>0.06</td>\n",
       "      <td>1.28</td>\n",
       "      <td>82.0</td>\n",
       "      <td>4.3</td>\n",
       "      <td>E</td>\n",
       "      <td>8.58</td>\n",
       "    </tr>\n",
       "  </tbody>\n",
       "</table>\n",
       "</div>"
      ],
      "text/plain": [
       "                                         name platform  year_of_release  \\\n",
       "16                         Grand Theft Auto V      PS3             2013   \n",
       "23                         Grand Theft Auto V     X360             2013   \n",
       "31                  Call of Duty: Black Ops 3      PS4             2015   \n",
       "33                        Pokemon X/Pokemon Y      3DS             2013   \n",
       "42                         Grand Theft Auto V      PS4             2014   \n",
       "47  Pokemon Omega Ruby/Pokemon Alpha Sapphire      3DS             2014   \n",
       "60                       Call of Duty: Ghosts     X360             2013   \n",
       "69                       Call of Duty: Ghosts      PS3             2013   \n",
       "72                                  Minecraft     X360             2013   \n",
       "77                                    FIFA 16      PS4             2015   \n",
       "\n",
       "           genre  na_sales  eu_sales  jp_sales  other_sales  critic_score  \\\n",
       "16        Action      7.02      9.09      0.98         3.96          97.0   \n",
       "23        Action      9.66      5.14      0.06         1.41          97.0   \n",
       "31       Shooter      6.03      5.86      0.36         2.38           0.0   \n",
       "33  Role-Playing      5.28      4.19      4.35         0.78           0.0   \n",
       "42        Action      3.96      6.31      0.38         1.97          97.0   \n",
       "47  Role-Playing      4.35      3.49      3.10         0.74           0.0   \n",
       "60       Shooter      6.73      2.56      0.04         0.91          73.0   \n",
       "69       Shooter      4.10      3.63      0.38         1.25          71.0   \n",
       "72          Misc      5.70      2.65      0.02         0.81           0.0   \n",
       "77        Sports      1.12      6.12      0.06         1.28          82.0   \n",
       "\n",
       "    user_score     rating  total_sales  \n",
       "16         8.2          M        21.05  \n",
       "23         8.1          M        16.27  \n",
       "31         0.0  No rating        14.63  \n",
       "33         0.0  No rating        14.60  \n",
       "42         8.3          M        12.62  \n",
       "47         0.0  No rating        11.68  \n",
       "60         2.6          M        10.24  \n",
       "69         2.6          M         9.36  \n",
       "72         0.0  No rating         9.18  \n",
       "77         4.3          E         8.58  "
      ]
     },
     "execution_count": 48,
     "metadata": {},
     "output_type": "execute_result"
    }
   ],
   "source": [
    "data_games_past_2013 = data_games.query('year_of_release > 2012')\n",
    "data_games_past_2013.head(10)"
   ]
  },
  {
   "cell_type": "markdown",
   "id": "79535310",
   "metadata": {},
   "source": [
    "Посмотрим какие плаформы уже живут менее 7.7 лет (мы не хотим умирающих платформ) в прогнозе с 2017 года, плюс из-за гибкости PC добавим и эту строку:"
   ]
  },
  {
   "cell_type": "code",
   "execution_count": 49,
   "id": "73e19eda",
   "metadata": {},
   "outputs": [
    {
     "data": {
      "text/html": [
       "<div>\n",
       "<style scoped>\n",
       "    .dataframe tbody tr th:only-of-type {\n",
       "        vertical-align: middle;\n",
       "    }\n",
       "\n",
       "    .dataframe tbody tr th {\n",
       "        vertical-align: top;\n",
       "    }\n",
       "\n",
       "    .dataframe thead th {\n",
       "        text-align: right;\n",
       "    }\n",
       "</style>\n",
       "<table border=\"1\" class=\"dataframe\">\n",
       "  <thead>\n",
       "    <tr style=\"text-align: right;\">\n",
       "      <th></th>\n",
       "      <th>platform</th>\n",
       "      <th>years_of_sales</th>\n",
       "      <th>year_of_release</th>\n",
       "    </tr>\n",
       "  </thead>\n",
       "  <tbody>\n",
       "    <tr>\n",
       "      <th>0</th>\n",
       "      <td>PC</td>\n",
       "      <td>26</td>\n",
       "      <td>1985</td>\n",
       "    </tr>\n",
       "    <tr>\n",
       "      <th>18</th>\n",
       "      <td>3DS</td>\n",
       "      <td>6</td>\n",
       "      <td>2011</td>\n",
       "    </tr>\n",
       "    <tr>\n",
       "      <th>19</th>\n",
       "      <td>PSV</td>\n",
       "      <td>6</td>\n",
       "      <td>2011</td>\n",
       "    </tr>\n",
       "    <tr>\n",
       "      <th>20</th>\n",
       "      <td>WiiU</td>\n",
       "      <td>5</td>\n",
       "      <td>2012</td>\n",
       "    </tr>\n",
       "    <tr>\n",
       "      <th>23</th>\n",
       "      <td>PS4</td>\n",
       "      <td>4</td>\n",
       "      <td>2013</td>\n",
       "    </tr>\n",
       "    <tr>\n",
       "      <th>24</th>\n",
       "      <td>XOne</td>\n",
       "      <td>4</td>\n",
       "      <td>2013</td>\n",
       "    </tr>\n",
       "  </tbody>\n",
       "</table>\n",
       "</div>"
      ],
      "text/plain": [
       "   platform  years_of_sales  year_of_release\n",
       "0        PC              26             1985\n",
       "18      3DS               6             2011\n",
       "19      PSV               6             2011\n",
       "20     WiiU               5             2012\n",
       "23      PS4               4             2013\n",
       "24     XOne               4             2013"
      ]
     },
     "execution_count": 49,
     "metadata": {},
     "output_type": "execute_result"
    }
   ],
   "source": [
    "uptodate_platforms = platform_table.query('year_of_release > 2009 or platform == \"PC\"')\n",
    "uptodate_platforms"
   ]
  },
  {
   "cell_type": "code",
   "execution_count": 50,
   "id": "a402ee1e",
   "metadata": {},
   "outputs": [
    {
     "data": {
      "text/html": [
       "<div>\n",
       "<style scoped>\n",
       "    .dataframe tbody tr th:only-of-type {\n",
       "        vertical-align: middle;\n",
       "    }\n",
       "\n",
       "    .dataframe tbody tr th {\n",
       "        vertical-align: top;\n",
       "    }\n",
       "\n",
       "    .dataframe thead th {\n",
       "        text-align: right;\n",
       "    }\n",
       "</style>\n",
       "<table border=\"1\" class=\"dataframe\">\n",
       "  <thead>\n",
       "    <tr style=\"text-align: right;\">\n",
       "      <th></th>\n",
       "      <th>platform</th>\n",
       "      <th>years_of_sales</th>\n",
       "      <th>year_of_release</th>\n",
       "    </tr>\n",
       "  </thead>\n",
       "  <tbody>\n",
       "    <tr>\n",
       "      <th>23</th>\n",
       "      <td>PS4</td>\n",
       "      <td>4</td>\n",
       "      <td>2013</td>\n",
       "    </tr>\n",
       "    <tr>\n",
       "      <th>24</th>\n",
       "      <td>XOne</td>\n",
       "      <td>4</td>\n",
       "      <td>2013</td>\n",
       "    </tr>\n",
       "    <tr>\n",
       "      <th>20</th>\n",
       "      <td>WiiU</td>\n",
       "      <td>5</td>\n",
       "      <td>2012</td>\n",
       "    </tr>\n",
       "    <tr>\n",
       "      <th>18</th>\n",
       "      <td>3DS</td>\n",
       "      <td>6</td>\n",
       "      <td>2011</td>\n",
       "    </tr>\n",
       "    <tr>\n",
       "      <th>19</th>\n",
       "      <td>PSV</td>\n",
       "      <td>6</td>\n",
       "      <td>2011</td>\n",
       "    </tr>\n",
       "    <tr>\n",
       "      <th>0</th>\n",
       "      <td>PC</td>\n",
       "      <td>26</td>\n",
       "      <td>1985</td>\n",
       "    </tr>\n",
       "  </tbody>\n",
       "</table>\n",
       "</div>"
      ],
      "text/plain": [
       "   platform  years_of_sales  year_of_release\n",
       "23      PS4               4             2013\n",
       "24     XOne               4             2013\n",
       "20     WiiU               5             2012\n",
       "18      3DS               6             2011\n",
       "19      PSV               6             2011\n",
       "0        PC              26             1985"
      ]
     },
     "execution_count": 50,
     "metadata": {},
     "output_type": "execute_result"
    }
   ],
   "source": [
    "uptodate_platforms = uptodate_platforms.sort_values('years_of_sales', ascending=True)\n",
    "uptodate_platforms"
   ]
  },
  {
   "cell_type": "markdown",
   "id": "ad560e00",
   "metadata": {},
   "source": [
    "Довольно рискованно доверять разработку игрового проекта под платформу, которой статистически осталось жить год или два. В итоге, самыми перспективными наиболее вероятно окажутся PlayStation 4 и Xbox One. Это также видно по графикам по прибыльности. Однако, для разработки видеоигр этого мало. Важно посмотреть данные за последние три года (раз мы берём PS4 и Xbox One, что были выпущены в 2013 году, а сейчас 2016) по обороту."
   ]
  },
  {
   "cell_type": "markdown",
   "id": "34c9799c",
   "metadata": {},
   "source": [
    "Посмотрим прибыльность, выберем все платформы, у которых были продажи с 2013 года включительно:"
   ]
  },
  {
   "cell_type": "code",
   "execution_count": 51,
   "id": "4b6be8eb",
   "metadata": {},
   "outputs": [
    {
     "data": {
      "text/html": [
       "<div>\n",
       "<style scoped>\n",
       "    .dataframe tbody tr th:only-of-type {\n",
       "        vertical-align: middle;\n",
       "    }\n",
       "\n",
       "    .dataframe tbody tr th {\n",
       "        vertical-align: top;\n",
       "    }\n",
       "\n",
       "    .dataframe thead th {\n",
       "        text-align: right;\n",
       "    }\n",
       "</style>\n",
       "<table border=\"1\" class=\"dataframe\">\n",
       "  <thead>\n",
       "    <tr style=\"text-align: right;\">\n",
       "      <th></th>\n",
       "      <th>platform</th>\n",
       "      <th>total_sales</th>\n",
       "    </tr>\n",
       "  </thead>\n",
       "  <tbody>\n",
       "    <tr>\n",
       "      <th>0</th>\n",
       "      <td>3DS</td>\n",
       "      <td>143.25</td>\n",
       "    </tr>\n",
       "    <tr>\n",
       "      <th>1</th>\n",
       "      <td>DS</td>\n",
       "      <td>1.54</td>\n",
       "    </tr>\n",
       "    <tr>\n",
       "      <th>2</th>\n",
       "      <td>PC</td>\n",
       "      <td>39.43</td>\n",
       "    </tr>\n",
       "    <tr>\n",
       "      <th>3</th>\n",
       "      <td>PS3</td>\n",
       "      <td>181.43</td>\n",
       "    </tr>\n",
       "    <tr>\n",
       "      <th>4</th>\n",
       "      <td>PS4</td>\n",
       "      <td>314.14</td>\n",
       "    </tr>\n",
       "    <tr>\n",
       "      <th>5</th>\n",
       "      <td>PSP</td>\n",
       "      <td>3.50</td>\n",
       "    </tr>\n",
       "    <tr>\n",
       "      <th>6</th>\n",
       "      <td>PSV</td>\n",
       "      <td>32.99</td>\n",
       "    </tr>\n",
       "    <tr>\n",
       "      <th>7</th>\n",
       "      <td>Wii</td>\n",
       "      <td>13.66</td>\n",
       "    </tr>\n",
       "    <tr>\n",
       "      <th>8</th>\n",
       "      <td>WiiU</td>\n",
       "      <td>64.63</td>\n",
       "    </tr>\n",
       "    <tr>\n",
       "      <th>9</th>\n",
       "      <td>X360</td>\n",
       "      <td>136.80</td>\n",
       "    </tr>\n",
       "    <tr>\n",
       "      <th>10</th>\n",
       "      <td>XOne</td>\n",
       "      <td>159.32</td>\n",
       "    </tr>\n",
       "  </tbody>\n",
       "</table>\n",
       "</div>"
      ],
      "text/plain": [
       "   platform  total_sales\n",
       "0       3DS       143.25\n",
       "1        DS         1.54\n",
       "2        PC        39.43\n",
       "3       PS3       181.43\n",
       "4       PS4       314.14\n",
       "5       PSP         3.50\n",
       "6       PSV        32.99\n",
       "7       Wii        13.66\n",
       "8      WiiU        64.63\n",
       "9      X360       136.80\n",
       "10     XOne       159.32"
      ]
     },
     "execution_count": 51,
     "metadata": {},
     "output_type": "execute_result"
    }
   ],
   "source": [
    "platform_income = platform_lifespan.query('year_of_release > 2012').groupby('platform').sum()\n",
    "platform_income =platform_income.drop(columns='year_of_release')\n",
    "platform_income.reset_index(0)"
   ]
  },
  {
   "cell_type": "code",
   "execution_count": 52,
   "id": "cfb9309e",
   "metadata": {},
   "outputs": [
    {
     "data": {
      "text/html": [
       "<div>\n",
       "<style scoped>\n",
       "    .dataframe tbody tr th:only-of-type {\n",
       "        vertical-align: middle;\n",
       "    }\n",
       "\n",
       "    .dataframe tbody tr th {\n",
       "        vertical-align: top;\n",
       "    }\n",
       "\n",
       "    .dataframe thead th {\n",
       "        text-align: right;\n",
       "    }\n",
       "</style>\n",
       "<table border=\"1\" class=\"dataframe\">\n",
       "  <thead>\n",
       "    <tr style=\"text-align: right;\">\n",
       "      <th></th>\n",
       "      <th>platform</th>\n",
       "      <th>total_sales</th>\n",
       "      <th>years_of_sales</th>\n",
       "      <th>year_of_release</th>\n",
       "    </tr>\n",
       "  </thead>\n",
       "  <tbody>\n",
       "    <tr>\n",
       "      <th>0</th>\n",
       "      <td>3DS</td>\n",
       "      <td>143.25</td>\n",
       "      <td>6</td>\n",
       "      <td>2011</td>\n",
       "    </tr>\n",
       "    <tr>\n",
       "      <th>1</th>\n",
       "      <td>DS</td>\n",
       "      <td>1.54</td>\n",
       "      <td>11</td>\n",
       "      <td>1985</td>\n",
       "    </tr>\n",
       "    <tr>\n",
       "      <th>2</th>\n",
       "      <td>PC</td>\n",
       "      <td>39.43</td>\n",
       "      <td>26</td>\n",
       "      <td>1985</td>\n",
       "    </tr>\n",
       "    <tr>\n",
       "      <th>3</th>\n",
       "      <td>PS3</td>\n",
       "      <td>181.43</td>\n",
       "      <td>11</td>\n",
       "      <td>2006</td>\n",
       "    </tr>\n",
       "    <tr>\n",
       "      <th>4</th>\n",
       "      <td>PS4</td>\n",
       "      <td>314.14</td>\n",
       "      <td>4</td>\n",
       "      <td>2013</td>\n",
       "    </tr>\n",
       "    <tr>\n",
       "      <th>5</th>\n",
       "      <td>PSP</td>\n",
       "      <td>3.50</td>\n",
       "      <td>12</td>\n",
       "      <td>2004</td>\n",
       "    </tr>\n",
       "    <tr>\n",
       "      <th>6</th>\n",
       "      <td>PSV</td>\n",
       "      <td>32.99</td>\n",
       "      <td>6</td>\n",
       "      <td>2011</td>\n",
       "    </tr>\n",
       "    <tr>\n",
       "      <th>7</th>\n",
       "      <td>Wii</td>\n",
       "      <td>13.66</td>\n",
       "      <td>11</td>\n",
       "      <td>2006</td>\n",
       "    </tr>\n",
       "    <tr>\n",
       "      <th>8</th>\n",
       "      <td>WiiU</td>\n",
       "      <td>64.63</td>\n",
       "      <td>5</td>\n",
       "      <td>2012</td>\n",
       "    </tr>\n",
       "    <tr>\n",
       "      <th>9</th>\n",
       "      <td>X360</td>\n",
       "      <td>136.80</td>\n",
       "      <td>12</td>\n",
       "      <td>2005</td>\n",
       "    </tr>\n",
       "    <tr>\n",
       "      <th>10</th>\n",
       "      <td>XOne</td>\n",
       "      <td>159.32</td>\n",
       "      <td>4</td>\n",
       "      <td>2013</td>\n",
       "    </tr>\n",
       "  </tbody>\n",
       "</table>\n",
       "</div>"
      ],
      "text/plain": [
       "   platform  total_sales  years_of_sales  year_of_release\n",
       "0       3DS       143.25               6             2011\n",
       "1        DS         1.54              11             1985\n",
       "2        PC        39.43              26             1985\n",
       "3       PS3       181.43              11             2006\n",
       "4       PS4       314.14               4             2013\n",
       "5       PSP         3.50              12             2004\n",
       "6       PSV        32.99               6             2011\n",
       "7       Wii        13.66              11             2006\n",
       "8      WiiU        64.63               5             2012\n",
       "9      X360       136.80              12             2005\n",
       "10     XOne       159.32               4             2013"
      ]
     },
     "execution_count": 52,
     "metadata": {},
     "output_type": "execute_result"
    }
   ],
   "source": [
    "platform_income2 = pd.merge(platform_income, platform_table, on='platform', how='left')\n",
    "platform_income2"
   ]
  },
  {
   "cell_type": "code",
   "execution_count": 53,
   "id": "f909c0e8",
   "metadata": {},
   "outputs": [
    {
     "data": {
      "text/html": [
       "<div>\n",
       "<style scoped>\n",
       "    .dataframe tbody tr th:only-of-type {\n",
       "        vertical-align: middle;\n",
       "    }\n",
       "\n",
       "    .dataframe tbody tr th {\n",
       "        vertical-align: top;\n",
       "    }\n",
       "\n",
       "    .dataframe thead th {\n",
       "        text-align: right;\n",
       "    }\n",
       "</style>\n",
       "<table border=\"1\" class=\"dataframe\">\n",
       "  <thead>\n",
       "    <tr style=\"text-align: right;\">\n",
       "      <th></th>\n",
       "      <th>platform</th>\n",
       "      <th>total_sales</th>\n",
       "      <th>years_of_sales</th>\n",
       "      <th>year_of_release</th>\n",
       "    </tr>\n",
       "  </thead>\n",
       "  <tbody>\n",
       "    <tr>\n",
       "      <th>0</th>\n",
       "      <td>PS4</td>\n",
       "      <td>314.14</td>\n",
       "      <td>4</td>\n",
       "      <td>2013</td>\n",
       "    </tr>\n",
       "    <tr>\n",
       "      <th>1</th>\n",
       "      <td>XOne</td>\n",
       "      <td>159.32</td>\n",
       "      <td>4</td>\n",
       "      <td>2013</td>\n",
       "    </tr>\n",
       "    <tr>\n",
       "      <th>2</th>\n",
       "      <td>WiiU</td>\n",
       "      <td>64.63</td>\n",
       "      <td>5</td>\n",
       "      <td>2012</td>\n",
       "    </tr>\n",
       "    <tr>\n",
       "      <th>3</th>\n",
       "      <td>3DS</td>\n",
       "      <td>143.25</td>\n",
       "      <td>6</td>\n",
       "      <td>2011</td>\n",
       "    </tr>\n",
       "    <tr>\n",
       "      <th>4</th>\n",
       "      <td>PSV</td>\n",
       "      <td>32.99</td>\n",
       "      <td>6</td>\n",
       "      <td>2011</td>\n",
       "    </tr>\n",
       "    <tr>\n",
       "      <th>5</th>\n",
       "      <td>PS3</td>\n",
       "      <td>181.43</td>\n",
       "      <td>11</td>\n",
       "      <td>2006</td>\n",
       "    </tr>\n",
       "    <tr>\n",
       "      <th>6</th>\n",
       "      <td>Wii</td>\n",
       "      <td>13.66</td>\n",
       "      <td>11</td>\n",
       "      <td>2006</td>\n",
       "    </tr>\n",
       "    <tr>\n",
       "      <th>7</th>\n",
       "      <td>X360</td>\n",
       "      <td>136.80</td>\n",
       "      <td>12</td>\n",
       "      <td>2005</td>\n",
       "    </tr>\n",
       "    <tr>\n",
       "      <th>8</th>\n",
       "      <td>PSP</td>\n",
       "      <td>3.50</td>\n",
       "      <td>12</td>\n",
       "      <td>2004</td>\n",
       "    </tr>\n",
       "    <tr>\n",
       "      <th>9</th>\n",
       "      <td>DS</td>\n",
       "      <td>1.54</td>\n",
       "      <td>11</td>\n",
       "      <td>1985</td>\n",
       "    </tr>\n",
       "    <tr>\n",
       "      <th>10</th>\n",
       "      <td>PC</td>\n",
       "      <td>39.43</td>\n",
       "      <td>26</td>\n",
       "      <td>1985</td>\n",
       "    </tr>\n",
       "  </tbody>\n",
       "</table>\n",
       "</div>"
      ],
      "text/plain": [
       "   platform  total_sales  years_of_sales  year_of_release\n",
       "0       PS4       314.14               4             2013\n",
       "1      XOne       159.32               4             2013\n",
       "2      WiiU        64.63               5             2012\n",
       "3       3DS       143.25               6             2011\n",
       "4       PSV        32.99               6             2011\n",
       "5       PS3       181.43              11             2006\n",
       "6       Wii        13.66              11             2006\n",
       "7      X360       136.80              12             2005\n",
       "8       PSP         3.50              12             2004\n",
       "9        DS         1.54              11             1985\n",
       "10       PC        39.43              26             1985"
      ]
     },
     "execution_count": 53,
     "metadata": {},
     "output_type": "execute_result"
    }
   ],
   "source": [
    "platform_income2 = platform_income2.sort_values(['year_of_release'], ascending=False)\n",
    "platform_income2 = platform_income2.reset_index(drop=True)\n",
    "platform_income2"
   ]
  },
  {
   "cell_type": "code",
   "execution_count": 54,
   "id": "f3840573",
   "metadata": {},
   "outputs": [
    {
     "data": {
      "text/html": [
       "<div>\n",
       "<style scoped>\n",
       "    .dataframe tbody tr th:only-of-type {\n",
       "        vertical-align: middle;\n",
       "    }\n",
       "\n",
       "    .dataframe tbody tr th {\n",
       "        vertical-align: top;\n",
       "    }\n",
       "\n",
       "    .dataframe thead th {\n",
       "        text-align: right;\n",
       "    }\n",
       "</style>\n",
       "<table border=\"1\" class=\"dataframe\">\n",
       "  <thead>\n",
       "    <tr style=\"text-align: right;\">\n",
       "      <th></th>\n",
       "      <th>platform</th>\n",
       "      <th>total_sales</th>\n",
       "      <th>years_of_sales</th>\n",
       "      <th>year_of_release</th>\n",
       "    </tr>\n",
       "  </thead>\n",
       "  <tbody>\n",
       "    <tr>\n",
       "      <th>0</th>\n",
       "      <td>PS4</td>\n",
       "      <td>314.14</td>\n",
       "      <td>4</td>\n",
       "      <td>2013</td>\n",
       "    </tr>\n",
       "    <tr>\n",
       "      <th>1</th>\n",
       "      <td>PS3</td>\n",
       "      <td>181.43</td>\n",
       "      <td>11</td>\n",
       "      <td>2006</td>\n",
       "    </tr>\n",
       "    <tr>\n",
       "      <th>2</th>\n",
       "      <td>XOne</td>\n",
       "      <td>159.32</td>\n",
       "      <td>4</td>\n",
       "      <td>2013</td>\n",
       "    </tr>\n",
       "    <tr>\n",
       "      <th>3</th>\n",
       "      <td>3DS</td>\n",
       "      <td>143.25</td>\n",
       "      <td>6</td>\n",
       "      <td>2011</td>\n",
       "    </tr>\n",
       "    <tr>\n",
       "      <th>4</th>\n",
       "      <td>X360</td>\n",
       "      <td>136.80</td>\n",
       "      <td>12</td>\n",
       "      <td>2005</td>\n",
       "    </tr>\n",
       "    <tr>\n",
       "      <th>5</th>\n",
       "      <td>WiiU</td>\n",
       "      <td>64.63</td>\n",
       "      <td>5</td>\n",
       "      <td>2012</td>\n",
       "    </tr>\n",
       "    <tr>\n",
       "      <th>6</th>\n",
       "      <td>PC</td>\n",
       "      <td>39.43</td>\n",
       "      <td>26</td>\n",
       "      <td>1985</td>\n",
       "    </tr>\n",
       "    <tr>\n",
       "      <th>7</th>\n",
       "      <td>PSV</td>\n",
       "      <td>32.99</td>\n",
       "      <td>6</td>\n",
       "      <td>2011</td>\n",
       "    </tr>\n",
       "    <tr>\n",
       "      <th>8</th>\n",
       "      <td>Wii</td>\n",
       "      <td>13.66</td>\n",
       "      <td>11</td>\n",
       "      <td>2006</td>\n",
       "    </tr>\n",
       "    <tr>\n",
       "      <th>9</th>\n",
       "      <td>PSP</td>\n",
       "      <td>3.50</td>\n",
       "      <td>12</td>\n",
       "      <td>2004</td>\n",
       "    </tr>\n",
       "    <tr>\n",
       "      <th>10</th>\n",
       "      <td>DS</td>\n",
       "      <td>1.54</td>\n",
       "      <td>11</td>\n",
       "      <td>1985</td>\n",
       "    </tr>\n",
       "  </tbody>\n",
       "</table>\n",
       "</div>"
      ],
      "text/plain": [
       "   platform  total_sales  years_of_sales  year_of_release\n",
       "0       PS4       314.14               4             2013\n",
       "1       PS3       181.43              11             2006\n",
       "2      XOne       159.32               4             2013\n",
       "3       3DS       143.25               6             2011\n",
       "4      X360       136.80              12             2005\n",
       "5      WiiU        64.63               5             2012\n",
       "6        PC        39.43              26             1985\n",
       "7       PSV        32.99               6             2011\n",
       "8       Wii        13.66              11             2006\n",
       "9       PSP         3.50              12             2004\n",
       "10       DS         1.54              11             1985"
      ]
     },
     "execution_count": 54,
     "metadata": {},
     "output_type": "execute_result"
    }
   ],
   "source": [
    "platform_income_final = platform_income2.sort_values(['total_sales'], ascending=False)\n",
    "platform_income_final = platform_income_final.reset_index(drop=True)\n",
    "platform_income_final"
   ]
  },
  {
   "cell_type": "markdown",
   "id": "0f4a3f47",
   "metadata": {},
   "source": [
    "#### Вывод по продажам\n",
    "Отвечая на поставленный вопрос: исходя из графика, и созданных выше таблиц, можно сделать вывод, что самые доходные за период с 2013 по 2016 годы включительно - это PS3, доходы которой разделяется PS4 из-за нового поколения консолей, то есть можно говрить о том, что игроки на этих консолях находятся в одной категории (если у человека есть PS4, то вероятнее всего ему нет необходимости иметь PS3, в отличии PC, так как бывают эксклюзивы для разных платформ), Xbox One, продажи которого также связаны со свеоим предшественником Xbox 360. Также можно отметить Nintendo 3DS, и Wii U как находящихся в топ-5 (если \"объединить\" значения PS3 и PS4, а также Xbox 360 и One).\n",
    "\n"
   ]
  },
  {
   "cell_type": "markdown",
   "id": "7b141642",
   "metadata": {},
   "source": [
    "#### Ящик с усами\n",
    "Построить график «ящик с усами» по глобальным продажам каждой игры и разбивкой по платформам.\n",
    "\n",
    "Для прогноза важен период с 2013 года. Посмотрим какие игры продавались за последние 4 года:"
   ]
  },
  {
   "cell_type": "markdown",
   "id": "54c4bed1",
   "metadata": {},
   "source": [
    "Попробуем составить сводную таблицу по всем играм и совместить их со всеми платформами после 2013 года:"
   ]
  },
  {
   "cell_type": "code",
   "execution_count": 55,
   "id": "cc650f80",
   "metadata": {},
   "outputs": [
    {
     "data": {
      "text/html": [
       "<div>\n",
       "<style scoped>\n",
       "    .dataframe tbody tr th:only-of-type {\n",
       "        vertical-align: middle;\n",
       "    }\n",
       "\n",
       "    .dataframe tbody tr th {\n",
       "        vertical-align: top;\n",
       "    }\n",
       "\n",
       "    .dataframe thead th {\n",
       "        text-align: right;\n",
       "    }\n",
       "</style>\n",
       "<table border=\"1\" class=\"dataframe\">\n",
       "  <thead>\n",
       "    <tr style=\"text-align: right;\">\n",
       "      <th>platform</th>\n",
       "      <th>3DS</th>\n",
       "      <th>DS</th>\n",
       "      <th>PC</th>\n",
       "      <th>PS3</th>\n",
       "      <th>PS4</th>\n",
       "      <th>PSP</th>\n",
       "      <th>PSV</th>\n",
       "      <th>Wii</th>\n",
       "      <th>WiiU</th>\n",
       "      <th>X360</th>\n",
       "      <th>XOne</th>\n",
       "    </tr>\n",
       "    <tr>\n",
       "      <th>name</th>\n",
       "      <th></th>\n",
       "      <th></th>\n",
       "      <th></th>\n",
       "      <th></th>\n",
       "      <th></th>\n",
       "      <th></th>\n",
       "      <th></th>\n",
       "      <th></th>\n",
       "      <th></th>\n",
       "      <th></th>\n",
       "      <th></th>\n",
       "    </tr>\n",
       "  </thead>\n",
       "  <tbody>\n",
       "    <tr>\n",
       "      <th>Beyblade Burst</th>\n",
       "      <td>0.03</td>\n",
       "      <td>0.00</td>\n",
       "      <td>0.0</td>\n",
       "      <td>0.0</td>\n",
       "      <td>0.00</td>\n",
       "      <td>0.00</td>\n",
       "      <td>0.00</td>\n",
       "      <td>0.00</td>\n",
       "      <td>0.0</td>\n",
       "      <td>0.00</td>\n",
       "      <td>0.00</td>\n",
       "    </tr>\n",
       "    <tr>\n",
       "      <th>Fire Emblem Fates</th>\n",
       "      <td>1.67</td>\n",
       "      <td>0.00</td>\n",
       "      <td>0.0</td>\n",
       "      <td>0.0</td>\n",
       "      <td>0.00</td>\n",
       "      <td>0.00</td>\n",
       "      <td>0.00</td>\n",
       "      <td>0.00</td>\n",
       "      <td>0.0</td>\n",
       "      <td>0.00</td>\n",
       "      <td>0.00</td>\n",
       "    </tr>\n",
       "    <tr>\n",
       "      <th>Frozen: Olaf's Quest</th>\n",
       "      <td>0.59</td>\n",
       "      <td>0.51</td>\n",
       "      <td>0.0</td>\n",
       "      <td>0.0</td>\n",
       "      <td>0.00</td>\n",
       "      <td>0.00</td>\n",
       "      <td>0.00</td>\n",
       "      <td>0.00</td>\n",
       "      <td>0.0</td>\n",
       "      <td>0.00</td>\n",
       "      <td>0.00</td>\n",
       "    </tr>\n",
       "    <tr>\n",
       "      <th>Haikyu!! Cross Team Match!</th>\n",
       "      <td>0.04</td>\n",
       "      <td>0.00</td>\n",
       "      <td>0.0</td>\n",
       "      <td>0.0</td>\n",
       "      <td>0.00</td>\n",
       "      <td>0.00</td>\n",
       "      <td>0.00</td>\n",
       "      <td>0.00</td>\n",
       "      <td>0.0</td>\n",
       "      <td>0.00</td>\n",
       "      <td>0.00</td>\n",
       "    </tr>\n",
       "    <tr>\n",
       "      <th>1/2 Summer +</th>\n",
       "      <td>0.00</td>\n",
       "      <td>0.00</td>\n",
       "      <td>0.0</td>\n",
       "      <td>0.0</td>\n",
       "      <td>0.00</td>\n",
       "      <td>0.01</td>\n",
       "      <td>0.00</td>\n",
       "      <td>0.00</td>\n",
       "      <td>0.0</td>\n",
       "      <td>0.00</td>\n",
       "      <td>0.00</td>\n",
       "    </tr>\n",
       "    <tr>\n",
       "      <th>...</th>\n",
       "      <td>...</td>\n",
       "      <td>...</td>\n",
       "      <td>...</td>\n",
       "      <td>...</td>\n",
       "      <td>...</td>\n",
       "      <td>...</td>\n",
       "      <td>...</td>\n",
       "      <td>...</td>\n",
       "      <td>...</td>\n",
       "      <td>...</td>\n",
       "      <td>...</td>\n",
       "    </tr>\n",
       "    <tr>\n",
       "      <th>Zoo Tycoon (2013)</th>\n",
       "      <td>0.00</td>\n",
       "      <td>0.00</td>\n",
       "      <td>0.0</td>\n",
       "      <td>0.0</td>\n",
       "      <td>0.00</td>\n",
       "      <td>0.00</td>\n",
       "      <td>0.00</td>\n",
       "      <td>0.00</td>\n",
       "      <td>0.0</td>\n",
       "      <td>0.09</td>\n",
       "      <td>0.36</td>\n",
       "    </tr>\n",
       "    <tr>\n",
       "      <th>Zumba Fitness: World Party</th>\n",
       "      <td>0.00</td>\n",
       "      <td>0.00</td>\n",
       "      <td>0.0</td>\n",
       "      <td>0.0</td>\n",
       "      <td>0.00</td>\n",
       "      <td>0.00</td>\n",
       "      <td>0.00</td>\n",
       "      <td>0.23</td>\n",
       "      <td>0.0</td>\n",
       "      <td>0.00</td>\n",
       "      <td>0.24</td>\n",
       "    </tr>\n",
       "    <tr>\n",
       "      <th>Zyuden Sentai Kyoryuger: Game de Gaburincho!!</th>\n",
       "      <td>0.05</td>\n",
       "      <td>0.00</td>\n",
       "      <td>0.0</td>\n",
       "      <td>0.0</td>\n",
       "      <td>0.00</td>\n",
       "      <td>0.00</td>\n",
       "      <td>0.00</td>\n",
       "      <td>0.00</td>\n",
       "      <td>0.0</td>\n",
       "      <td>0.00</td>\n",
       "      <td>0.00</td>\n",
       "    </tr>\n",
       "    <tr>\n",
       "      <th>htoL#NiQ: The Firefly Diary</th>\n",
       "      <td>0.00</td>\n",
       "      <td>0.00</td>\n",
       "      <td>0.0</td>\n",
       "      <td>0.0</td>\n",
       "      <td>0.00</td>\n",
       "      <td>0.00</td>\n",
       "      <td>0.01</td>\n",
       "      <td>0.00</td>\n",
       "      <td>0.0</td>\n",
       "      <td>0.00</td>\n",
       "      <td>0.00</td>\n",
       "    </tr>\n",
       "    <tr>\n",
       "      <th>inFAMOUS: Second Son</th>\n",
       "      <td>0.00</td>\n",
       "      <td>0.00</td>\n",
       "      <td>0.0</td>\n",
       "      <td>0.0</td>\n",
       "      <td>2.79</td>\n",
       "      <td>0.00</td>\n",
       "      <td>0.00</td>\n",
       "      <td>0.00</td>\n",
       "      <td>0.0</td>\n",
       "      <td>0.00</td>\n",
       "      <td>0.00</td>\n",
       "    </tr>\n",
       "  </tbody>\n",
       "</table>\n",
       "<p>1263 rows × 11 columns</p>\n",
       "</div>"
      ],
      "text/plain": [
       "platform                                        3DS    DS   PC  PS3   PS4  \\\n",
       "name                                                                        \n",
       " Beyblade Burst                                0.03  0.00  0.0  0.0  0.00   \n",
       " Fire Emblem Fates                             1.67  0.00  0.0  0.0  0.00   \n",
       " Frozen: Olaf's Quest                          0.59  0.51  0.0  0.0  0.00   \n",
       " Haikyu!! Cross Team Match!                    0.04  0.00  0.0  0.0  0.00   \n",
       "1/2 Summer +                                   0.00  0.00  0.0  0.0  0.00   \n",
       "...                                             ...   ...  ...  ...   ...   \n",
       "Zoo Tycoon (2013)                              0.00  0.00  0.0  0.0  0.00   \n",
       "Zumba Fitness: World Party                     0.00  0.00  0.0  0.0  0.00   \n",
       "Zyuden Sentai Kyoryuger: Game de Gaburincho!!  0.05  0.00  0.0  0.0  0.00   \n",
       "htoL#NiQ: The Firefly Diary                    0.00  0.00  0.0  0.0  0.00   \n",
       "inFAMOUS: Second Son                           0.00  0.00  0.0  0.0  2.79   \n",
       "\n",
       "platform                                        PSP   PSV   Wii  WiiU  X360  \\\n",
       "name                                                                          \n",
       " Beyblade Burst                                0.00  0.00  0.00   0.0  0.00   \n",
       " Fire Emblem Fates                             0.00  0.00  0.00   0.0  0.00   \n",
       " Frozen: Olaf's Quest                          0.00  0.00  0.00   0.0  0.00   \n",
       " Haikyu!! Cross Team Match!                    0.00  0.00  0.00   0.0  0.00   \n",
       "1/2 Summer +                                   0.01  0.00  0.00   0.0  0.00   \n",
       "...                                             ...   ...   ...   ...   ...   \n",
       "Zoo Tycoon (2013)                              0.00  0.00  0.00   0.0  0.09   \n",
       "Zumba Fitness: World Party                     0.00  0.00  0.23   0.0  0.00   \n",
       "Zyuden Sentai Kyoryuger: Game de Gaburincho!!  0.00  0.00  0.00   0.0  0.00   \n",
       "htoL#NiQ: The Firefly Diary                    0.00  0.01  0.00   0.0  0.00   \n",
       "inFAMOUS: Second Son                           0.00  0.00  0.00   0.0  0.00   \n",
       "\n",
       "platform                                       XOne  \n",
       "name                                                 \n",
       " Beyblade Burst                                0.00  \n",
       " Fire Emblem Fates                             0.00  \n",
       " Frozen: Olaf's Quest                          0.00  \n",
       " Haikyu!! Cross Team Match!                    0.00  \n",
       "1/2 Summer +                                   0.00  \n",
       "...                                             ...  \n",
       "Zoo Tycoon (2013)                              0.36  \n",
       "Zumba Fitness: World Party                     0.24  \n",
       "Zyuden Sentai Kyoryuger: Game de Gaburincho!!  0.00  \n",
       "htoL#NiQ: The Firefly Diary                    0.00  \n",
       "inFAMOUS: Second Son                           0.00  \n",
       "\n",
       "[1263 rows x 11 columns]"
      ]
     },
     "execution_count": 55,
     "metadata": {},
     "output_type": "execute_result"
    }
   ],
   "source": [
    "g_comparison = data_games_past_2013[['name', 'platform', 'total_sales', 'year_of_release']]\n",
    "g_comparison2 = g_comparison.pivot_table(index='name', columns='platform', values='total_sales', aggfunc=sum, fill_value=0)\n",
    "g_comparison2"
   ]
  },
  {
   "cell_type": "code",
   "execution_count": 56,
   "id": "5c8765fe",
   "metadata": {},
   "outputs": [
    {
     "data": {
      "text/html": [
       "<div>\n",
       "<style scoped>\n",
       "    .dataframe tbody tr th:only-of-type {\n",
       "        vertical-align: middle;\n",
       "    }\n",
       "\n",
       "    .dataframe tbody tr th {\n",
       "        vertical-align: top;\n",
       "    }\n",
       "\n",
       "    .dataframe thead th {\n",
       "        text-align: right;\n",
       "    }\n",
       "</style>\n",
       "<table border=\"1\" class=\"dataframe\">\n",
       "  <thead>\n",
       "    <tr style=\"text-align: right;\">\n",
       "      <th>platform</th>\n",
       "      <th>3DS</th>\n",
       "      <th>DS</th>\n",
       "      <th>PC</th>\n",
       "      <th>PS3</th>\n",
       "      <th>PS4</th>\n",
       "      <th>PSP</th>\n",
       "      <th>PSV</th>\n",
       "      <th>Wii</th>\n",
       "      <th>WiiU</th>\n",
       "      <th>X360</th>\n",
       "      <th>XOne</th>\n",
       "      <th>sum_total</th>\n",
       "    </tr>\n",
       "    <tr>\n",
       "      <th>name</th>\n",
       "      <th></th>\n",
       "      <th></th>\n",
       "      <th></th>\n",
       "      <th></th>\n",
       "      <th></th>\n",
       "      <th></th>\n",
       "      <th></th>\n",
       "      <th></th>\n",
       "      <th></th>\n",
       "      <th></th>\n",
       "      <th></th>\n",
       "      <th></th>\n",
       "    </tr>\n",
       "  </thead>\n",
       "  <tbody>\n",
       "    <tr>\n",
       "      <th>Beyblade Burst</th>\n",
       "      <td>0.03</td>\n",
       "      <td>0.00</td>\n",
       "      <td>0.0</td>\n",
       "      <td>0.0</td>\n",
       "      <td>0.00</td>\n",
       "      <td>0.00</td>\n",
       "      <td>0.00</td>\n",
       "      <td>0.00</td>\n",
       "      <td>0.0</td>\n",
       "      <td>0.00</td>\n",
       "      <td>0.00</td>\n",
       "      <td>0.03</td>\n",
       "    </tr>\n",
       "    <tr>\n",
       "      <th>Fire Emblem Fates</th>\n",
       "      <td>1.67</td>\n",
       "      <td>0.00</td>\n",
       "      <td>0.0</td>\n",
       "      <td>0.0</td>\n",
       "      <td>0.00</td>\n",
       "      <td>0.00</td>\n",
       "      <td>0.00</td>\n",
       "      <td>0.00</td>\n",
       "      <td>0.0</td>\n",
       "      <td>0.00</td>\n",
       "      <td>0.00</td>\n",
       "      <td>1.67</td>\n",
       "    </tr>\n",
       "    <tr>\n",
       "      <th>Frozen: Olaf's Quest</th>\n",
       "      <td>0.59</td>\n",
       "      <td>0.51</td>\n",
       "      <td>0.0</td>\n",
       "      <td>0.0</td>\n",
       "      <td>0.00</td>\n",
       "      <td>0.00</td>\n",
       "      <td>0.00</td>\n",
       "      <td>0.00</td>\n",
       "      <td>0.0</td>\n",
       "      <td>0.00</td>\n",
       "      <td>0.00</td>\n",
       "      <td>1.10</td>\n",
       "    </tr>\n",
       "    <tr>\n",
       "      <th>Haikyu!! Cross Team Match!</th>\n",
       "      <td>0.04</td>\n",
       "      <td>0.00</td>\n",
       "      <td>0.0</td>\n",
       "      <td>0.0</td>\n",
       "      <td>0.00</td>\n",
       "      <td>0.00</td>\n",
       "      <td>0.00</td>\n",
       "      <td>0.00</td>\n",
       "      <td>0.0</td>\n",
       "      <td>0.00</td>\n",
       "      <td>0.00</td>\n",
       "      <td>0.04</td>\n",
       "    </tr>\n",
       "    <tr>\n",
       "      <th>1/2 Summer +</th>\n",
       "      <td>0.00</td>\n",
       "      <td>0.00</td>\n",
       "      <td>0.0</td>\n",
       "      <td>0.0</td>\n",
       "      <td>0.00</td>\n",
       "      <td>0.01</td>\n",
       "      <td>0.00</td>\n",
       "      <td>0.00</td>\n",
       "      <td>0.0</td>\n",
       "      <td>0.00</td>\n",
       "      <td>0.00</td>\n",
       "      <td>0.01</td>\n",
       "    </tr>\n",
       "    <tr>\n",
       "      <th>...</th>\n",
       "      <td>...</td>\n",
       "      <td>...</td>\n",
       "      <td>...</td>\n",
       "      <td>...</td>\n",
       "      <td>...</td>\n",
       "      <td>...</td>\n",
       "      <td>...</td>\n",
       "      <td>...</td>\n",
       "      <td>...</td>\n",
       "      <td>...</td>\n",
       "      <td>...</td>\n",
       "      <td>...</td>\n",
       "    </tr>\n",
       "    <tr>\n",
       "      <th>Zoo Tycoon (2013)</th>\n",
       "      <td>0.00</td>\n",
       "      <td>0.00</td>\n",
       "      <td>0.0</td>\n",
       "      <td>0.0</td>\n",
       "      <td>0.00</td>\n",
       "      <td>0.00</td>\n",
       "      <td>0.00</td>\n",
       "      <td>0.00</td>\n",
       "      <td>0.0</td>\n",
       "      <td>0.09</td>\n",
       "      <td>0.36</td>\n",
       "      <td>0.45</td>\n",
       "    </tr>\n",
       "    <tr>\n",
       "      <th>Zumba Fitness: World Party</th>\n",
       "      <td>0.00</td>\n",
       "      <td>0.00</td>\n",
       "      <td>0.0</td>\n",
       "      <td>0.0</td>\n",
       "      <td>0.00</td>\n",
       "      <td>0.00</td>\n",
       "      <td>0.00</td>\n",
       "      <td>0.23</td>\n",
       "      <td>0.0</td>\n",
       "      <td>0.00</td>\n",
       "      <td>0.24</td>\n",
       "      <td>0.47</td>\n",
       "    </tr>\n",
       "    <tr>\n",
       "      <th>Zyuden Sentai Kyoryuger: Game de Gaburincho!!</th>\n",
       "      <td>0.05</td>\n",
       "      <td>0.00</td>\n",
       "      <td>0.0</td>\n",
       "      <td>0.0</td>\n",
       "      <td>0.00</td>\n",
       "      <td>0.00</td>\n",
       "      <td>0.00</td>\n",
       "      <td>0.00</td>\n",
       "      <td>0.0</td>\n",
       "      <td>0.00</td>\n",
       "      <td>0.00</td>\n",
       "      <td>0.05</td>\n",
       "    </tr>\n",
       "    <tr>\n",
       "      <th>htoL#NiQ: The Firefly Diary</th>\n",
       "      <td>0.00</td>\n",
       "      <td>0.00</td>\n",
       "      <td>0.0</td>\n",
       "      <td>0.0</td>\n",
       "      <td>0.00</td>\n",
       "      <td>0.00</td>\n",
       "      <td>0.01</td>\n",
       "      <td>0.00</td>\n",
       "      <td>0.0</td>\n",
       "      <td>0.00</td>\n",
       "      <td>0.00</td>\n",
       "      <td>0.01</td>\n",
       "    </tr>\n",
       "    <tr>\n",
       "      <th>inFAMOUS: Second Son</th>\n",
       "      <td>0.00</td>\n",
       "      <td>0.00</td>\n",
       "      <td>0.0</td>\n",
       "      <td>0.0</td>\n",
       "      <td>2.79</td>\n",
       "      <td>0.00</td>\n",
       "      <td>0.00</td>\n",
       "      <td>0.00</td>\n",
       "      <td>0.0</td>\n",
       "      <td>0.00</td>\n",
       "      <td>0.00</td>\n",
       "      <td>2.79</td>\n",
       "    </tr>\n",
       "  </tbody>\n",
       "</table>\n",
       "<p>1263 rows × 12 columns</p>\n",
       "</div>"
      ],
      "text/plain": [
       "platform                                        3DS    DS   PC  PS3   PS4  \\\n",
       "name                                                                        \n",
       " Beyblade Burst                                0.03  0.00  0.0  0.0  0.00   \n",
       " Fire Emblem Fates                             1.67  0.00  0.0  0.0  0.00   \n",
       " Frozen: Olaf's Quest                          0.59  0.51  0.0  0.0  0.00   \n",
       " Haikyu!! Cross Team Match!                    0.04  0.00  0.0  0.0  0.00   \n",
       "1/2 Summer +                                   0.00  0.00  0.0  0.0  0.00   \n",
       "...                                             ...   ...  ...  ...   ...   \n",
       "Zoo Tycoon (2013)                              0.00  0.00  0.0  0.0  0.00   \n",
       "Zumba Fitness: World Party                     0.00  0.00  0.0  0.0  0.00   \n",
       "Zyuden Sentai Kyoryuger: Game de Gaburincho!!  0.05  0.00  0.0  0.0  0.00   \n",
       "htoL#NiQ: The Firefly Diary                    0.00  0.00  0.0  0.0  0.00   \n",
       "inFAMOUS: Second Son                           0.00  0.00  0.0  0.0  2.79   \n",
       "\n",
       "platform                                        PSP   PSV   Wii  WiiU  X360  \\\n",
       "name                                                                          \n",
       " Beyblade Burst                                0.00  0.00  0.00   0.0  0.00   \n",
       " Fire Emblem Fates                             0.00  0.00  0.00   0.0  0.00   \n",
       " Frozen: Olaf's Quest                          0.00  0.00  0.00   0.0  0.00   \n",
       " Haikyu!! Cross Team Match!                    0.00  0.00  0.00   0.0  0.00   \n",
       "1/2 Summer +                                   0.01  0.00  0.00   0.0  0.00   \n",
       "...                                             ...   ...   ...   ...   ...   \n",
       "Zoo Tycoon (2013)                              0.00  0.00  0.00   0.0  0.09   \n",
       "Zumba Fitness: World Party                     0.00  0.00  0.23   0.0  0.00   \n",
       "Zyuden Sentai Kyoryuger: Game de Gaburincho!!  0.00  0.00  0.00   0.0  0.00   \n",
       "htoL#NiQ: The Firefly Diary                    0.00  0.01  0.00   0.0  0.00   \n",
       "inFAMOUS: Second Son                           0.00  0.00  0.00   0.0  0.00   \n",
       "\n",
       "platform                                       XOne  sum_total  \n",
       "name                                                            \n",
       " Beyblade Burst                                0.00       0.03  \n",
       " Fire Emblem Fates                             0.00       1.67  \n",
       " Frozen: Olaf's Quest                          0.00       1.10  \n",
       " Haikyu!! Cross Team Match!                    0.00       0.04  \n",
       "1/2 Summer +                                   0.00       0.01  \n",
       "...                                             ...        ...  \n",
       "Zoo Tycoon (2013)                              0.36       0.45  \n",
       "Zumba Fitness: World Party                     0.24       0.47  \n",
       "Zyuden Sentai Kyoryuger: Game de Gaburincho!!  0.00       0.05  \n",
       "htoL#NiQ: The Firefly Diary                    0.00       0.01  \n",
       "inFAMOUS: Second Son                           0.00       2.79  \n",
       "\n",
       "[1263 rows x 12 columns]"
      ]
     },
     "execution_count": 56,
     "metadata": {},
     "output_type": "execute_result"
    }
   ],
   "source": [
    "g_comparison2['sum_total'] = g_comparison2.sum(axis =1)\n",
    "g_comparison2"
   ]
  },
  {
   "cell_type": "markdown",
   "id": "65be3604",
   "metadata": {},
   "source": [
    "Совместить данные чтобы это ещё и визуально читалось не так проблематично. Построим boxplot отдельно платформы и их продажи:"
   ]
  },
  {
   "cell_type": "code",
   "execution_count": 58,
   "id": "616edfb3",
   "metadata": {},
   "outputs": [
    {
     "data": {
      "text/html": [
       "<div>\n",
       "<style scoped>\n",
       "    .dataframe tbody tr th:only-of-type {\n",
       "        vertical-align: middle;\n",
       "    }\n",
       "\n",
       "    .dataframe tbody tr th {\n",
       "        vertical-align: top;\n",
       "    }\n",
       "\n",
       "    .dataframe thead th {\n",
       "        text-align: right;\n",
       "    }\n",
       "</style>\n",
       "<table border=\"1\" class=\"dataframe\">\n",
       "  <thead>\n",
       "    <tr style=\"text-align: right;\">\n",
       "      <th></th>\n",
       "      <th>year_of_release</th>\n",
       "      <th>platform</th>\n",
       "      <th>total_sales</th>\n",
       "    </tr>\n",
       "  </thead>\n",
       "  <tbody>\n",
       "    <tr>\n",
       "      <th>12</th>\n",
       "      <td>2011</td>\n",
       "      <td>3DS</td>\n",
       "      <td>63.20</td>\n",
       "    </tr>\n",
       "    <tr>\n",
       "      <th>13</th>\n",
       "      <td>2012</td>\n",
       "      <td>3DS</td>\n",
       "      <td>51.36</td>\n",
       "    </tr>\n",
       "    <tr>\n",
       "      <th>14</th>\n",
       "      <td>2013</td>\n",
       "      <td>3DS</td>\n",
       "      <td>56.57</td>\n",
       "    </tr>\n",
       "    <tr>\n",
       "      <th>15</th>\n",
       "      <td>2014</td>\n",
       "      <td>3DS</td>\n",
       "      <td>43.76</td>\n",
       "    </tr>\n",
       "    <tr>\n",
       "      <th>16</th>\n",
       "      <td>2015</td>\n",
       "      <td>3DS</td>\n",
       "      <td>27.78</td>\n",
       "    </tr>\n",
       "    <tr>\n",
       "      <th>...</th>\n",
       "      <td>...</td>\n",
       "      <td>...</td>\n",
       "      <td>...</td>\n",
       "    </tr>\n",
       "    <tr>\n",
       "      <th>224</th>\n",
       "      <td>2016</td>\n",
       "      <td>X360</td>\n",
       "      <td>1.52</td>\n",
       "    </tr>\n",
       "    <tr>\n",
       "      <th>234</th>\n",
       "      <td>2013</td>\n",
       "      <td>XOne</td>\n",
       "      <td>18.96</td>\n",
       "    </tr>\n",
       "    <tr>\n",
       "      <th>235</th>\n",
       "      <td>2014</td>\n",
       "      <td>XOne</td>\n",
       "      <td>54.07</td>\n",
       "    </tr>\n",
       "    <tr>\n",
       "      <th>236</th>\n",
       "      <td>2015</td>\n",
       "      <td>XOne</td>\n",
       "      <td>60.14</td>\n",
       "    </tr>\n",
       "    <tr>\n",
       "      <th>237</th>\n",
       "      <td>2016</td>\n",
       "      <td>XOne</td>\n",
       "      <td>26.15</td>\n",
       "    </tr>\n",
       "  </tbody>\n",
       "</table>\n",
       "<p>68 rows × 3 columns</p>\n",
       "</div>"
      ],
      "text/plain": [
       "     year_of_release platform  total_sales\n",
       "12              2011      3DS        63.20\n",
       "13              2012      3DS        51.36\n",
       "14              2013      3DS        56.57\n",
       "15              2014      3DS        43.76\n",
       "16              2015      3DS        27.78\n",
       "..               ...      ...          ...\n",
       "224             2016     X360         1.52\n",
       "234             2013     XOne        18.96\n",
       "235             2014     XOne        54.07\n",
       "236             2015     XOne        60.14\n",
       "237             2016     XOne        26.15\n",
       "\n",
       "[68 rows x 3 columns]"
      ]
     },
     "execution_count": 58,
     "metadata": {},
     "output_type": "execute_result"
    }
   ],
   "source": [
    "top_platfroms = ['PC', 'PS3', 'PS4', 'X360', 'XOne', '3DS', 'WiiU']\n",
    "platform_lifespan_sales = platform_lifespan[platform_lifespan['platform'].isin(top_platfroms)]\n",
    "platform_lifespan_sales"
   ]
  },
  {
   "cell_type": "code",
   "execution_count": 64,
   "id": "5313f8d8",
   "metadata": {},
   "outputs": [
    {
     "data": {
      "image/png": "[encoded data removed]",
      "text/plain": [
       "<Figure size 720x432 with 1 Axes>"
      ]
     },
     "metadata": {},
     "output_type": "display_data"
    }
   ],
   "source": [
    "plt.figure(figsize=((10,6)))\n",
    "\n",
    "sb.boxplot(x=\"platform\", y=\"total_sales\", data=platform_lifespan_sales, order=top_platfroms);"
   ]
  },
  {
   "cell_type": "markdown",
   "id": "d70eabd6",
   "metadata": {},
   "source": [
    "Посмотрим какую долю топовые по продажам игроки рынка занимают внутри себя:"
   ]
  },
  {
   "cell_type": "code",
   "execution_count": 69,
   "id": "a4945e62",
   "metadata": {},
   "outputs": [],
   "source": [
    "platform_shares_sum = platform_lifespan_sales.groupby('platform').sum()\n",
    "platform_shares_sum = platform_shares_sum.drop(columns='year_of_release')\n",
    "platform_shares_sum = platform_shares_sum.reset_index(0)"
   ]
  },
  {
   "cell_type": "code",
   "execution_count": 70,
   "id": "3c439414",
   "metadata": {},
   "outputs": [
    {
     "data": {
      "text/html": [
       "<div>\n",
       "<style scoped>\n",
       "    .dataframe tbody tr th:only-of-type {\n",
       "        vertical-align: middle;\n",
       "    }\n",
       "\n",
       "    .dataframe tbody tr th {\n",
       "        vertical-align: top;\n",
       "    }\n",
       "\n",
       "    .dataframe thead th {\n",
       "        text-align: right;\n",
       "    }\n",
       "</style>\n",
       "<table border=\"1\" class=\"dataframe\">\n",
       "  <thead>\n",
       "    <tr style=\"text-align: right;\">\n",
       "      <th></th>\n",
       "      <th>platform</th>\n",
       "      <th>total_sales</th>\n",
       "    </tr>\n",
       "  </thead>\n",
       "  <tbody>\n",
       "    <tr>\n",
       "      <th>0</th>\n",
       "      <td>3DS</td>\n",
       "      <td>257.81</td>\n",
       "    </tr>\n",
       "    <tr>\n",
       "      <th>1</th>\n",
       "      <td>PC</td>\n",
       "      <td>255.76</td>\n",
       "    </tr>\n",
       "    <tr>\n",
       "      <th>2</th>\n",
       "      <td>PS3</td>\n",
       "      <td>931.34</td>\n",
       "    </tr>\n",
       "    <tr>\n",
       "      <th>3</th>\n",
       "      <td>PS4</td>\n",
       "      <td>314.14</td>\n",
       "    </tr>\n",
       "    <tr>\n",
       "      <th>4</th>\n",
       "      <td>WiiU</td>\n",
       "      <td>82.19</td>\n",
       "    </tr>\n",
       "    <tr>\n",
       "      <th>5</th>\n",
       "      <td>X360</td>\n",
       "      <td>961.24</td>\n",
       "    </tr>\n",
       "    <tr>\n",
       "      <th>6</th>\n",
       "      <td>XOne</td>\n",
       "      <td>159.32</td>\n",
       "    </tr>\n",
       "  </tbody>\n",
       "</table>\n",
       "</div>"
      ],
      "text/plain": [
       "  platform  total_sales\n",
       "0      3DS       257.81\n",
       "1       PC       255.76\n",
       "2      PS3       931.34\n",
       "3      PS4       314.14\n",
       "4     WiiU        82.19\n",
       "5     X360       961.24\n",
       "6     XOne       159.32"
      ]
     },
     "execution_count": 70,
     "metadata": {},
     "output_type": "execute_result"
    }
   ],
   "source": [
    "platform_shares_sum"
   ]
  },
  {
   "cell_type": "code",
   "execution_count": 72,
   "id": "84fc88f5",
   "metadata": {},
   "outputs": [
    {
     "data": {
      "text/plain": [
       "2961.8"
      ]
     },
     "execution_count": 72,
     "metadata": {},
     "output_type": "execute_result"
    }
   ],
   "source": [
    "total_sales_top_platforms_sum = platform_shares_sum['total_sales'].sum().round(2)\n",
    "total_sales_top_platforms_sum"
   ]
  },
  {
   "cell_type": "code",
   "execution_count": 74,
   "id": "7164f239",
   "metadata": {},
   "outputs": [
    {
     "data": {
      "text/html": [
       "<div>\n",
       "<style scoped>\n",
       "    .dataframe tbody tr th:only-of-type {\n",
       "        vertical-align: middle;\n",
       "    }\n",
       "\n",
       "    .dataframe tbody tr th {\n",
       "        vertical-align: top;\n",
       "    }\n",
       "\n",
       "    .dataframe thead th {\n",
       "        text-align: right;\n",
       "    }\n",
       "</style>\n",
       "<table border=\"1\" class=\"dataframe\">\n",
       "  <thead>\n",
       "    <tr style=\"text-align: right;\">\n",
       "      <th></th>\n",
       "      <th>platform</th>\n",
       "      <th>total_sales</th>\n",
       "      <th>platform_share</th>\n",
       "    </tr>\n",
       "  </thead>\n",
       "  <tbody>\n",
       "    <tr>\n",
       "      <th>5</th>\n",
       "      <td>X360</td>\n",
       "      <td>961.24</td>\n",
       "      <td>0.325</td>\n",
       "    </tr>\n",
       "    <tr>\n",
       "      <th>2</th>\n",
       "      <td>PS3</td>\n",
       "      <td>931.34</td>\n",
       "      <td>0.314</td>\n",
       "    </tr>\n",
       "    <tr>\n",
       "      <th>3</th>\n",
       "      <td>PS4</td>\n",
       "      <td>314.14</td>\n",
       "      <td>0.106</td>\n",
       "    </tr>\n",
       "    <tr>\n",
       "      <th>0</th>\n",
       "      <td>3DS</td>\n",
       "      <td>257.81</td>\n",
       "      <td>0.087</td>\n",
       "    </tr>\n",
       "    <tr>\n",
       "      <th>1</th>\n",
       "      <td>PC</td>\n",
       "      <td>255.76</td>\n",
       "      <td>0.086</td>\n",
       "    </tr>\n",
       "    <tr>\n",
       "      <th>6</th>\n",
       "      <td>XOne</td>\n",
       "      <td>159.32</td>\n",
       "      <td>0.054</td>\n",
       "    </tr>\n",
       "    <tr>\n",
       "      <th>4</th>\n",
       "      <td>WiiU</td>\n",
       "      <td>82.19</td>\n",
       "      <td>0.028</td>\n",
       "    </tr>\n",
       "  </tbody>\n",
       "</table>\n",
       "</div>"
      ],
      "text/plain": [
       "  platform  total_sales  platform_share\n",
       "5     X360       961.24           0.325\n",
       "2      PS3       931.34           0.314\n",
       "3      PS4       314.14           0.106\n",
       "0      3DS       257.81           0.087\n",
       "1       PC       255.76           0.086\n",
       "6     XOne       159.32           0.054\n",
       "4     WiiU        82.19           0.028"
      ]
     },
     "execution_count": 74,
     "metadata": {},
     "output_type": "execute_result"
    }
   ],
   "source": [
    "platform_shares_sum['platform_share'] = platform_shares_sum.apply(lambda x: x['total_sales'] / total_sales_top_platforms_sum, axis = 1).round(3)\n",
    "platform_shares_sum.sort_values('platform_share', ascending=False)"
   ]
  },
  {
   "cell_type": "markdown",
   "id": "3805f146",
   "metadata": {},
   "source": [
    "Посчитаем среднее:"
   ]
  },
  {
   "cell_type": "code",
   "execution_count": 75,
   "id": "42ef0a4f",
   "metadata": {},
   "outputs": [
    {
     "data": {
      "text/html": [
       "<div>\n",
       "<style scoped>\n",
       "    .dataframe tbody tr th:only-of-type {\n",
       "        vertical-align: middle;\n",
       "    }\n",
       "\n",
       "    .dataframe tbody tr th {\n",
       "        vertical-align: top;\n",
       "    }\n",
       "\n",
       "    .dataframe thead th {\n",
       "        text-align: right;\n",
       "    }\n",
       "</style>\n",
       "<table border=\"1\" class=\"dataframe\">\n",
       "  <thead>\n",
       "    <tr style=\"text-align: right;\">\n",
       "      <th></th>\n",
       "      <th>platform</th>\n",
       "      <th>total_avg_sales</th>\n",
       "    </tr>\n",
       "  </thead>\n",
       "  <tbody>\n",
       "    <tr>\n",
       "      <th>2</th>\n",
       "      <td>PS3</td>\n",
       "      <td>84.67</td>\n",
       "    </tr>\n",
       "    <tr>\n",
       "      <th>5</th>\n",
       "      <td>X360</td>\n",
       "      <td>80.10</td>\n",
       "    </tr>\n",
       "    <tr>\n",
       "      <th>3</th>\n",
       "      <td>PS4</td>\n",
       "      <td>78.54</td>\n",
       "    </tr>\n",
       "    <tr>\n",
       "      <th>0</th>\n",
       "      <td>3DS</td>\n",
       "      <td>42.97</td>\n",
       "    </tr>\n",
       "    <tr>\n",
       "      <th>6</th>\n",
       "      <td>XOne</td>\n",
       "      <td>39.83</td>\n",
       "    </tr>\n",
       "    <tr>\n",
       "      <th>4</th>\n",
       "      <td>WiiU</td>\n",
       "      <td>16.44</td>\n",
       "    </tr>\n",
       "    <tr>\n",
       "      <th>1</th>\n",
       "      <td>PC</td>\n",
       "      <td>9.84</td>\n",
       "    </tr>\n",
       "  </tbody>\n",
       "</table>\n",
       "</div>"
      ],
      "text/plain": [
       "  platform  total_avg_sales\n",
       "2      PS3            84.67\n",
       "5     X360            80.10\n",
       "3      PS4            78.54\n",
       "0      3DS            42.97\n",
       "6     XOne            39.83\n",
       "4     WiiU            16.44\n",
       "1       PC             9.84"
      ]
     },
     "execution_count": 75,
     "metadata": {},
     "output_type": "execute_result"
    }
   ],
   "source": [
    "platform_shares_mean = platform_lifespan_sales.groupby('platform').mean().drop(columns='year_of_release').reset_index().round(2)\n",
    "platform_shares_mean.columns = ['platform', 'total_avg_sales']\n",
    "platform_shares_mean.sort_values('total_avg_sales', ascending=False)"
   ]
  },
  {
   "cell_type": "markdown",
   "id": "5106eb36",
   "metadata": {},
   "source": [
    "### Вывод\n",
    "\n",
    "4 платформы - PS3 и PS4, Xbox 360 и Xbox One - показывают наибольший разброс, а вместе с Nintendo 3DS это 84% продаж топовых строчек. Продажи Wii U и Nintendo 3DS \"сложились\" в масштабе собратьев. Сделаем вывод, что разница в продажах действительно велика - PlayStation и Xbox составляют львиную долю продаж по сравнению с остальными платформами.\n"
   ]
  },
  {
   "cell_type": "markdown",
   "id": "2634e119",
   "metadata": {},
   "source": [
    "### Влияние отзывов на продажи\n",
    "\n",
    "Изучить как влияют на продажи внутри одной популярной платформы отзывы пользователей и критиков."
   ]
  },
  {
   "cell_type": "markdown",
   "id": "6dfeb0e8",
   "metadata": {},
   "source": [
    "Создадим таблицу в которой будут необходимые столбцы и сделаем выборку по платформам за последние 4 года на PlayStation 4:"
   ]
  },
  {
   "cell_type": "code",
   "execution_count": 93,
   "id": "997b8f24",
   "metadata": {},
   "outputs": [],
   "source": [
    "def build_scatter_matrix(platform_name):\n",
    "    df = data_games[['platform', 'total_sales', 'critic_score', 'user_score', 'year_of_release'\n",
    "                    ]].query('platform == ' + platform_name + ' & year_of_release > 2012 & critic_score != 0 & user_score != 0')\n",
    "    pd.plotting.scatter_matrix(df, figsize=(15,15));"
   ]
  },
  {
   "cell_type": "code",
   "execution_count": 94,
   "id": "862109e0",
   "metadata": {},
   "outputs": [
    {
     "data": {
      "image/png": "[encoded data removed]",
      "text/plain": [
       "<Figure size 1080x1080 with 16 Axes>"
      ]
     },
     "metadata": {},
     "output_type": "display_data"
    }
   ],
   "source": [
    "build_scatter_matrix('\"PS4\"')"
   ]
  },
  {
   "cell_type": "code",
   "execution_count": 103,
   "id": "81cda190",
   "metadata": {},
   "outputs": [
    {
     "data": {
      "image/png": "[encoded data removed]",
      "text/plain": [
       "<Figure size 432x288 with 2 Axes>"
      ]
     },
     "metadata": {},
     "output_type": "display_data"
    }
   ],
   "source": [
    "g_scatter_PS4 = data_games_past_2013[data_games_past_2013['platform'] == 'PS4']\n",
    "sb.heatmap(g_scatter_PS4[['total_sales', 'critic_score', 'user_score']\n",
    "                        ].corr(), annot=True, vmin=-1, vmax=1, cmap='BrBG');"
   ]
  },
  {
   "cell_type": "markdown",
   "id": "e69415fb",
   "metadata": {},
   "source": [
    "Построим графики ещё по XOne:"
   ]
  },
  {
   "cell_type": "code",
   "execution_count": 104,
   "id": "2cd0610e",
   "metadata": {},
   "outputs": [
    {
     "data": {
      "image/png": "[encoded data removed]",
      "text/plain": [
       "<Figure size 1080x1080 with 16 Axes>"
      ]
     },
     "metadata": {},
     "output_type": "display_data"
    }
   ],
   "source": [
    "build_scatter_matrix('\"XOne\"')"
   ]
  },
  {
   "cell_type": "markdown",
   "id": "fe1c1c69",
   "metadata": {},
   "source": [
    "и для PC:"
   ]
  },
  {
   "cell_type": "code",
   "execution_count": 105,
   "id": "bd6ee76d",
   "metadata": {},
   "outputs": [
    {
     "data": {
      "image/png": "[encoded data removed]",
      "text/plain": [
       "<Figure size 1080x1080 with 16 Axes>"
      ]
     },
     "metadata": {},
     "output_type": "display_data"
    }
   ],
   "source": [
    "build_scatter_matrix('\"PC\"')"
   ]
  },
  {
   "cell_type": "markdown",
   "id": "ecb3b8d7",
   "metadata": {},
   "source": [
    "### Вывод\n",
    "\n",
    "Отзывы на продажи не влияют, либо влияют очень слабо, судя по коэффициентам корреляции. Исходя из матрицы рассеяния, можно сделать интуитивно понятные выводы:\n",
    "\n",
    "* Обычные пользователи оценивают игры очень резко, можно сказать что они более требовательны, их низкие оценки доминируют над низкими оценками критиков, но также они не стесняются ставить слишком высокие баллы. Оценки критиков же сдержанные и рассредоточены по всему диапазону, да и уничтожать игры низкими оценками они не привыкли и по оценкам выглядят как беспристрастные судьи.\n",
    "* Игр с низкими продажами больше, чем игр с высокими.\n",
    "* Игры с более высокими оценками критиков продаются лучше.\n",
    "* В среднем в 2016 году игроки давали оценки выше - это можно связать с увеличением мощностей и оптимизацией различного рода процессов.\n",
    "* Критики давали оценки в 2015 году выше, чем в 2016 - разумеется, потому что чем больше игр выходит, тем больше выходит и игр более низкого качества.\n",
    "* Корреляции между продажами и оценкой критиков нет."
   ]
  },
  {
   "cell_type": "markdown",
   "id": "a60385d8",
   "metadata": {},
   "source": [
    "### Изучить общее распределение игр по жанрам"
   ]
  },
  {
   "cell_type": "markdown",
   "id": "c866c67d",
   "metadata": {},
   "source": [
    "По нужному периоду (2013 - 2016) выделим данные:"
   ]
  },
  {
   "cell_type": "code",
   "execution_count": 106,
   "id": "189c7179",
   "metadata": {},
   "outputs": [
    {
     "data": {
      "text/html": [
       "<div>\n",
       "<style scoped>\n",
       "    .dataframe tbody tr th:only-of-type {\n",
       "        vertical-align: middle;\n",
       "    }\n",
       "\n",
       "    .dataframe tbody tr th {\n",
       "        vertical-align: top;\n",
       "    }\n",
       "\n",
       "    .dataframe thead th {\n",
       "        text-align: right;\n",
       "    }\n",
       "</style>\n",
       "<table border=\"1\" class=\"dataframe\">\n",
       "  <thead>\n",
       "    <tr style=\"text-align: right;\">\n",
       "      <th></th>\n",
       "      <th>genre</th>\n",
       "      <th>total_sales</th>\n",
       "      <th>year_of_release</th>\n",
       "    </tr>\n",
       "  </thead>\n",
       "  <tbody>\n",
       "    <tr>\n",
       "      <th>0</th>\n",
       "      <td>Action</td>\n",
       "      <td>321.87</td>\n",
       "      <td>1543186</td>\n",
       "    </tr>\n",
       "    <tr>\n",
       "      <th>8</th>\n",
       "      <td>Shooter</td>\n",
       "      <td>232.98</td>\n",
       "      <td>376687</td>\n",
       "    </tr>\n",
       "    <tr>\n",
       "      <th>10</th>\n",
       "      <td>Sports</td>\n",
       "      <td>150.65</td>\n",
       "      <td>431098</td>\n",
       "    </tr>\n",
       "    <tr>\n",
       "      <th>7</th>\n",
       "      <td>Role-Playing</td>\n",
       "      <td>145.89</td>\n",
       "      <td>588203</td>\n",
       "    </tr>\n",
       "    <tr>\n",
       "      <th>3</th>\n",
       "      <td>Misc</td>\n",
       "      <td>62.82</td>\n",
       "      <td>312231</td>\n",
       "    </tr>\n",
       "    <tr>\n",
       "      <th>4</th>\n",
       "      <td>Platform</td>\n",
       "      <td>42.63</td>\n",
       "      <td>149043</td>\n",
       "    </tr>\n",
       "    <tr>\n",
       "      <th>6</th>\n",
       "      <td>Racing</td>\n",
       "      <td>39.89</td>\n",
       "      <td>171240</td>\n",
       "    </tr>\n",
       "    <tr>\n",
       "      <th>2</th>\n",
       "      <td>Fighting</td>\n",
       "      <td>35.31</td>\n",
       "      <td>161153</td>\n",
       "    </tr>\n",
       "    <tr>\n",
       "      <th>1</th>\n",
       "      <td>Adventure</td>\n",
       "      <td>23.64</td>\n",
       "      <td>493536</td>\n",
       "    </tr>\n",
       "    <tr>\n",
       "      <th>9</th>\n",
       "      <td>Simulation</td>\n",
       "      <td>21.76</td>\n",
       "      <td>124901</td>\n",
       "    </tr>\n",
       "    <tr>\n",
       "      <th>11</th>\n",
       "      <td>Strategy</td>\n",
       "      <td>10.08</td>\n",
       "      <td>112807</td>\n",
       "    </tr>\n",
       "    <tr>\n",
       "      <th>5</th>\n",
       "      <td>Puzzle</td>\n",
       "      <td>3.17</td>\n",
       "      <td>34243</td>\n",
       "    </tr>\n",
       "  </tbody>\n",
       "</table>\n",
       "</div>"
      ],
      "text/plain": [
       "           genre  total_sales  year_of_release\n",
       "0         Action       321.87          1543186\n",
       "8        Shooter       232.98           376687\n",
       "10        Sports       150.65           431098\n",
       "7   Role-Playing       145.89           588203\n",
       "3           Misc        62.82           312231\n",
       "4       Platform        42.63           149043\n",
       "6         Racing        39.89           171240\n",
       "2       Fighting        35.31           161153\n",
       "1      Adventure        23.64           493536\n",
       "9     Simulation        21.76           124901\n",
       "11      Strategy        10.08           112807\n",
       "5         Puzzle         3.17            34243"
      ]
     },
     "execution_count": 106,
     "metadata": {},
     "output_type": "execute_result"
    }
   ],
   "source": [
    "g_genres = data_games_past_2013[['genre','total_sales', 'year_of_release']]\n",
    "g_genres_data = g_genres.groupby('genre').sum().reset_index(0).sort_values('total_sales',ascending=False)\n",
    "g_genres_data"
   ]
  },
  {
   "cell_type": "markdown",
   "id": "79b58ca1",
   "metadata": {},
   "source": [
    "Построим график:"
   ]
  },
  {
   "cell_type": "code",
   "execution_count": 109,
   "id": "462a76b5",
   "metadata": {},
   "outputs": [
    {
     "data": {
      "image/png": "[encoded data removed]",
      "text/plain": [
       "<Figure size 1296x720 with 1 Axes>"
      ]
     },
     "metadata": {},
     "output_type": "display_data"
    }
   ],
   "source": [
    "plt.figure(figsize=((18,10)))\n",
    "sb.barplot(x=\"genre\", y=\"total_sales\", data=g_genres_data, palette='hls');"
   ]
  },
  {
   "cell_type": "markdown",
   "id": "a1f04867",
   "metadata": {},
   "source": [
    "Самые популярные жанры - экшн, шутеры, спортивные и RPG. Сделаем по ним выборку чтобы посмотреть не только продажи, но и другие показатели: "
   ]
  },
  {
   "cell_type": "code",
   "execution_count": 110,
   "id": "1b5624c3",
   "metadata": {},
   "outputs": [
    {
     "data": {
      "text/html": [
       "<div>\n",
       "<style scoped>\n",
       "    .dataframe tbody tr th:only-of-type {\n",
       "        vertical-align: middle;\n",
       "    }\n",
       "\n",
       "    .dataframe tbody tr th {\n",
       "        vertical-align: top;\n",
       "    }\n",
       "\n",
       "    .dataframe thead th {\n",
       "        text-align: right;\n",
       "    }\n",
       "</style>\n",
       "<table border=\"1\" class=\"dataframe\">\n",
       "  <thead>\n",
       "    <tr style=\"text-align: right;\">\n",
       "      <th></th>\n",
       "      <th>name</th>\n",
       "      <th>platform</th>\n",
       "      <th>genre</th>\n",
       "      <th>total_sales</th>\n",
       "      <th>critic_score</th>\n",
       "      <th>year_of_release</th>\n",
       "    </tr>\n",
       "  </thead>\n",
       "  <tbody>\n",
       "    <tr>\n",
       "      <th>16</th>\n",
       "      <td>Grand Theft Auto V</td>\n",
       "      <td>PS3</td>\n",
       "      <td>Action</td>\n",
       "      <td>21.05</td>\n",
       "      <td>97.0</td>\n",
       "      <td>2013</td>\n",
       "    </tr>\n",
       "    <tr>\n",
       "      <th>23</th>\n",
       "      <td>Grand Theft Auto V</td>\n",
       "      <td>X360</td>\n",
       "      <td>Action</td>\n",
       "      <td>16.27</td>\n",
       "      <td>97.0</td>\n",
       "      <td>2013</td>\n",
       "    </tr>\n",
       "    <tr>\n",
       "      <th>31</th>\n",
       "      <td>Call of Duty: Black Ops 3</td>\n",
       "      <td>PS4</td>\n",
       "      <td>Shooter</td>\n",
       "      <td>14.63</td>\n",
       "      <td>0.0</td>\n",
       "      <td>2015</td>\n",
       "    </tr>\n",
       "    <tr>\n",
       "      <th>33</th>\n",
       "      <td>Pokemon X/Pokemon Y</td>\n",
       "      <td>3DS</td>\n",
       "      <td>Role-Playing</td>\n",
       "      <td>14.60</td>\n",
       "      <td>0.0</td>\n",
       "      <td>2013</td>\n",
       "    </tr>\n",
       "    <tr>\n",
       "      <th>42</th>\n",
       "      <td>Grand Theft Auto V</td>\n",
       "      <td>PS4</td>\n",
       "      <td>Action</td>\n",
       "      <td>12.62</td>\n",
       "      <td>97.0</td>\n",
       "      <td>2014</td>\n",
       "    </tr>\n",
       "    <tr>\n",
       "      <th>...</th>\n",
       "      <td>...</td>\n",
       "      <td>...</td>\n",
       "      <td>...</td>\n",
       "      <td>...</td>\n",
       "      <td>...</td>\n",
       "      <td>...</td>\n",
       "    </tr>\n",
       "    <tr>\n",
       "      <th>16680</th>\n",
       "      <td>Kyoukai no Shirayuki</td>\n",
       "      <td>PSV</td>\n",
       "      <td>Action</td>\n",
       "      <td>0.01</td>\n",
       "      <td>0.0</td>\n",
       "      <td>2016</td>\n",
       "    </tr>\n",
       "    <tr>\n",
       "      <th>16691</th>\n",
       "      <td>Dynasty Warriors: Eiketsuden</td>\n",
       "      <td>PS3</td>\n",
       "      <td>Action</td>\n",
       "      <td>0.01</td>\n",
       "      <td>0.0</td>\n",
       "      <td>2016</td>\n",
       "    </tr>\n",
       "    <tr>\n",
       "      <th>16692</th>\n",
       "      <td>Metal Gear Solid V: Ground Zeroes</td>\n",
       "      <td>PC</td>\n",
       "      <td>Action</td>\n",
       "      <td>0.01</td>\n",
       "      <td>80.0</td>\n",
       "      <td>2014</td>\n",
       "    </tr>\n",
       "    <tr>\n",
       "      <th>16699</th>\n",
       "      <td>The Longest 5 Minutes</td>\n",
       "      <td>PSV</td>\n",
       "      <td>Action</td>\n",
       "      <td>0.01</td>\n",
       "      <td>0.0</td>\n",
       "      <td>2016</td>\n",
       "    </tr>\n",
       "    <tr>\n",
       "      <th>16710</th>\n",
       "      <td>Samurai Warriors: Sanada Maru</td>\n",
       "      <td>PS3</td>\n",
       "      <td>Action</td>\n",
       "      <td>0.01</td>\n",
       "      <td>0.0</td>\n",
       "      <td>2016</td>\n",
       "    </tr>\n",
       "  </tbody>\n",
       "</table>\n",
       "<p>1459 rows × 6 columns</p>\n",
       "</div>"
      ],
      "text/plain": [
       "                                    name platform         genre  total_sales  \\\n",
       "16                    Grand Theft Auto V      PS3        Action        21.05   \n",
       "23                    Grand Theft Auto V     X360        Action        16.27   \n",
       "31             Call of Duty: Black Ops 3      PS4       Shooter        14.63   \n",
       "33                   Pokemon X/Pokemon Y      3DS  Role-Playing        14.60   \n",
       "42                    Grand Theft Auto V      PS4        Action        12.62   \n",
       "...                                  ...      ...           ...          ...   \n",
       "16680               Kyoukai no Shirayuki      PSV        Action         0.01   \n",
       "16691       Dynasty Warriors: Eiketsuden      PS3        Action         0.01   \n",
       "16692  Metal Gear Solid V: Ground Zeroes       PC        Action         0.01   \n",
       "16699              The Longest 5 Minutes      PSV        Action         0.01   \n",
       "16710      Samurai Warriors: Sanada Maru      PS3        Action         0.01   \n",
       "\n",
       "       critic_score  year_of_release  \n",
       "16             97.0             2013  \n",
       "23             97.0             2013  \n",
       "31              0.0             2015  \n",
       "33              0.0             2013  \n",
       "42             97.0             2014  \n",
       "...             ...              ...  \n",
       "16680           0.0             2016  \n",
       "16691           0.0             2016  \n",
       "16692          80.0             2014  \n",
       "16699           0.0             2016  \n",
       "16710           0.0             2016  \n",
       "\n",
       "[1459 rows x 6 columns]"
      ]
     },
     "execution_count": 110,
     "metadata": {},
     "output_type": "execute_result"
    }
   ],
   "source": [
    "pop_genres = ['Action', 'Shooter', 'Sports', 'Role-Playing']\n",
    "pop_genres_table = data_games_past_2013[['name', 'platform', 'genre', 'total_sales', 'critic_score', 'year_of_release']]\n",
    "pop_genres_table2 = pop_genres_table[pop_genres_table['genre'].isin(pop_genres)]\n",
    "pop_genres_table2"
   ]
  },
  {
   "cell_type": "markdown",
   "id": "f141d239",
   "metadata": {},
   "source": [
    "Посмотрим популярнейшие жанры по платформам и тенденции значений:"
   ]
  },
  {
   "cell_type": "code",
   "execution_count": 119,
   "id": "43c4da5b",
   "metadata": {},
   "outputs": [
    {
     "data": {
      "image/png": "[encoded data removed]",
      "text/plain": [
       "<Figure size 1296x720 with 1 Axes>"
      ]
     },
     "metadata": {},
     "output_type": "display_data"
    }
   ],
   "source": [
    "plt.figure(figsize=((18,10)))\n",
    "sb.barplot(x=\"platform\", y=\"total_sales\", hue=\"genre\",  data=pop_genres_table2);"
   ]
  },
  {
   "cell_type": "markdown",
   "id": "3374c864",
   "metadata": {},
   "source": [
    "Создадим heatmap по популярным платформам, жанрам и выручке за 2013-2016 годы:"
   ]
  },
  {
   "cell_type": "code",
   "execution_count": 121,
   "id": "edbdef4a",
   "metadata": {},
   "outputs": [
    {
     "data": {
      "text/html": [
       "<div>\n",
       "<style scoped>\n",
       "    .dataframe tbody tr th:only-of-type {\n",
       "        vertical-align: middle;\n",
       "    }\n",
       "\n",
       "    .dataframe tbody tr th {\n",
       "        vertical-align: top;\n",
       "    }\n",
       "\n",
       "    .dataframe thead th {\n",
       "        text-align: right;\n",
       "    }\n",
       "</style>\n",
       "<table border=\"1\" class=\"dataframe\">\n",
       "  <thead>\n",
       "    <tr style=\"text-align: right;\">\n",
       "      <th>platform</th>\n",
       "      <th>3DS</th>\n",
       "      <th>DS</th>\n",
       "      <th>PC</th>\n",
       "      <th>PS3</th>\n",
       "      <th>PS4</th>\n",
       "      <th>PSP</th>\n",
       "      <th>PSV</th>\n",
       "      <th>Wii</th>\n",
       "      <th>WiiU</th>\n",
       "      <th>X360</th>\n",
       "      <th>XOne</th>\n",
       "    </tr>\n",
       "    <tr>\n",
       "      <th>genre</th>\n",
       "      <th></th>\n",
       "      <th></th>\n",
       "      <th></th>\n",
       "      <th></th>\n",
       "      <th></th>\n",
       "      <th></th>\n",
       "      <th></th>\n",
       "      <th></th>\n",
       "      <th></th>\n",
       "      <th></th>\n",
       "      <th></th>\n",
       "    </tr>\n",
       "  </thead>\n",
       "  <tbody>\n",
       "    <tr>\n",
       "      <th>Action</th>\n",
       "      <td>34.04</td>\n",
       "      <td>0.50</td>\n",
       "      <td>7.26</td>\n",
       "      <td>70.92</td>\n",
       "      <td>96.10</td>\n",
       "      <td>0.86</td>\n",
       "      <td>9.72</td>\n",
       "      <td>2.82</td>\n",
       "      <td>14.75</td>\n",
       "      <td>47.59</td>\n",
       "      <td>37.31</td>\n",
       "    </tr>\n",
       "    <tr>\n",
       "      <th>Role-Playing</th>\n",
       "      <td>67.37</td>\n",
       "      <td>0.00</td>\n",
       "      <td>4.87</td>\n",
       "      <td>16.49</td>\n",
       "      <td>28.99</td>\n",
       "      <td>1.03</td>\n",
       "      <td>10.23</td>\n",
       "      <td>0.00</td>\n",
       "      <td>1.93</td>\n",
       "      <td>4.43</td>\n",
       "      <td>10.55</td>\n",
       "    </tr>\n",
       "    <tr>\n",
       "      <th>Shooter</th>\n",
       "      <td>0.06</td>\n",
       "      <td>0.00</td>\n",
       "      <td>9.84</td>\n",
       "      <td>31.79</td>\n",
       "      <td>88.56</td>\n",
       "      <td>0.00</td>\n",
       "      <td>1.44</td>\n",
       "      <td>0.00</td>\n",
       "      <td>5.48</td>\n",
       "      <td>35.48</td>\n",
       "      <td>60.33</td>\n",
       "    </tr>\n",
       "    <tr>\n",
       "      <th>Sports</th>\n",
       "      <td>1.82</td>\n",
       "      <td>0.03</td>\n",
       "      <td>1.96</td>\n",
       "      <td>32.35</td>\n",
       "      <td>55.61</td>\n",
       "      <td>0.69</td>\n",
       "      <td>2.08</td>\n",
       "      <td>0.95</td>\n",
       "      <td>2.46</td>\n",
       "      <td>25.96</td>\n",
       "      <td>26.74</td>\n",
       "    </tr>\n",
       "  </tbody>\n",
       "</table>\n",
       "</div>"
      ],
      "text/plain": [
       "platform        3DS    DS    PC    PS3    PS4   PSP    PSV   Wii   WiiU  \\\n",
       "genre                                                                     \n",
       "Action        34.04  0.50  7.26  70.92  96.10  0.86   9.72  2.82  14.75   \n",
       "Role-Playing  67.37  0.00  4.87  16.49  28.99  1.03  10.23  0.00   1.93   \n",
       "Shooter        0.06  0.00  9.84  31.79  88.56  0.00   1.44  0.00   5.48   \n",
       "Sports         1.82  0.03  1.96  32.35  55.61  0.69   2.08  0.95   2.46   \n",
       "\n",
       "platform       X360   XOne  \n",
       "genre                       \n",
       "Action        47.59  37.31  \n",
       "Role-Playing   4.43  10.55  \n",
       "Shooter       35.48  60.33  \n",
       "Sports        25.96  26.74  "
      ]
     },
     "execution_count": 121,
     "metadata": {},
     "output_type": "execute_result"
    }
   ],
   "source": [
    "pop_platform_genre_sales = pop_genres_table2.pivot_table(\n",
    "                        index='genre', \n",
    "                        columns='platform', \n",
    "                        values='total_sales', \n",
    "                        aggfunc='sum').fillna(0)\n",
    "pop_platform_genre_sales"
   ]
  },
  {
   "cell_type": "code",
   "execution_count": 152,
   "id": "d777bea4",
   "metadata": {},
   "outputs": [
    {
     "data": {
      "image/png": "[encoded data removed]",
      "text/plain": [
       "<Figure size 1080x360 with 2 Axes>"
      ]
     },
     "metadata": {},
     "output_type": "display_data"
    }
   ],
   "source": [
    "plt.subplots(figsize=(15,5))\n",
    "sb.heatmap(pop_platform_genre_sales,cmap=\"Blues\", annot=True, square=True);"
   ]
  },
  {
   "cell_type": "markdown",
   "id": "a499584d",
   "metadata": {},
   "source": [
    "### Вывод\n",
    "\n",
    "Самая показательная часть с графиком по таблице с продажами отображает тенденции рынка - экшн, RPG, шутеры, спортивные игры. Построив категориальный график со средними значениями и наложенными доверительными интервалами, можно сказать, что наиболее сильный разброс у шутеров на PS4, и Xbox One, а в среднем шутеры зарабатывают больше на отдельных платформах, а на каких-то платформах отсутствуют вовсе.\n",
    "\n",
    "Изучив heatmap, легко увидеть лидеров:\n",
    "\n",
    "* Nintendo 3DS - это экшн и RPG;\n",
    "* PlayStation (3 и 4 поколения) - экшн, шутер и спортивные видеоигры;\n",
    "* Xbox (360 и One) - экшн, шутер и спортивные видеоигры."
   ]
  },
  {
   "cell_type": "markdown",
   "id": "54a11ade",
   "metadata": {},
   "source": [
    "# Этап 4"
   ]
  },
  {
   "cell_type": "markdown",
   "id": "8a0ee521",
   "metadata": {},
   "source": [
    "### Составьте портрет пользователя каждого региона\n",
    "\n",
    "Определите для пользователя каждого региона (NA, EU, JP):\n",
    "* Самые популярные платформы (топ-5). Опишите различия в долях продаж.\n",
    "* Самые популярные жанры (топ-5). Поясните разницу.\n",
    "* Влияет ли рейтинг ESRB на продажи в отдельном регионе?"
   ]
  },
  {
   "cell_type": "markdown",
   "id": "d626103f",
   "metadata": {},
   "source": [
    "Автоматизируем получение одинаковых данных по топ-5 мест:"
   ]
  },
  {
   "cell_type": "code",
   "execution_count": 163,
   "id": "bf40e943",
   "metadata": {},
   "outputs": [],
   "source": [
    "def get_top_5_sales(region_name):\n",
    "    sales_top_5 = data_games_past_2013[['platform', region_name, 'genre']]\n",
    "    sales_top_5_platform = sales_top_5.groupby('platform').sum().sort_values(region_name, ascending=False).reset_index()[:5]\n",
    "    sales_top_5_genre = sales_top_5.groupby('genre').sum().sort_values(region_name, ascending=False).reset_index()[:5]\n",
    "    figsize_graph = [10,6]\n",
    "    palette = \"Blues\"\n",
    "    plt.figure(figsize=figsize_graph)\n",
    "    sb.barplot(x=\"platform\", y=region_name, palette=palette, data=sales_top_5_platform);\n",
    "    plt.show()\n",
    "    plt.figure(figsize=figsize_graph)\n",
    "    sb.barplot(x=\"genre\", y=region_name, palette=palette, data=sales_top_5_genre);\n",
    "    plt.show()"
   ]
  },
  {
   "cell_type": "code",
   "execution_count": 165,
   "id": "cf0070f1",
   "metadata": {},
   "outputs": [
    {
     "data": {
      "image/png": "[encoded data removed]",
      "text/plain": [
       "<Figure size 720x432 with 1 Axes>"
      ]
     },
     "metadata": {},
     "output_type": "display_data"
    },
    {
     "data": {
      "image/png": "[encoded data removed]",
      "text/plain": [
       "<Figure size 720x432 with 1 Axes>"
      ]
     },
     "metadata": {},
     "output_type": "display_data"
    }
   ],
   "source": [
    "get_top_5_sales('na_sales')"
   ]
  },
  {
   "cell_type": "code",
   "execution_count": 166,
   "id": "b2d4bd0f",
   "metadata": {},
   "outputs": [
    {
     "data": {
      "image/png": "[encoded data removed]",
      "text/plain": [
       "<Figure size 720x432 with 1 Axes>"
      ]
     },
     "metadata": {},
     "output_type": "display_data"
    },
    {
     "data": {
      "image/png": "[encoded data removed]",
      "text/plain": [
       "<Figure size 720x432 with 1 Axes>"
      ]
     },
     "metadata": {},
     "output_type": "display_data"
    }
   ],
   "source": [
    "get_top_5_sales('eu_sales')"
   ]
  },
  {
   "cell_type": "code",
   "execution_count": 167,
   "id": "7480a77d",
   "metadata": {},
   "outputs": [
    {
     "data": {
      "image/png": "[encoded data removed]",
      "text/plain": [
       "<Figure size 720x432 with 1 Axes>"
      ]
     },
     "metadata": {},
     "output_type": "display_data"
    },
    {
     "data": {
      "image/png": "[encoded data removed]",
      "text/plain": [
       "<Figure size 720x432 with 1 Axes>"
      ]
     },
     "metadata": {},
     "output_type": "display_data"
    }
   ],
   "source": [
    "get_top_5_sales('jp_sales')"
   ]
  },
  {
   "cell_type": "markdown",
   "id": "103bf6ef",
   "metadata": {},
   "source": [
    "#### Описание разницы в лидерах по платформам и жанрам по регионам\n",
    "\n",
    "* Два абсолютных лидера по продажам - PlayStation и Xbox являются хорошо закрепившимися игроками в Североамериканском регионе, где пользователи редко когда хотят менять консоль, тогда как в Европе, абсолютным лидером являются PS4 (из семейства PlayStation) - более новая модель - покупатели предпочитают более свежую графику и готовы покупать игры под более новые консоли. Североамериканские и европейские пользователи предпочитают играть на стационарных консолях, а в Японии пользователи предпочитают персональные девайсы - в топе мобильные платформы для гейминга: Nintendo 3DS, PS Vita и Wii U.\n",
    "* Если в Северной Америке и Европе преподпчитают игры как бытовое времяпрепровождение и (экшн, шутеры, спортивные), то в Японии role-playing и экшн игры наиболее популярны - эти игры в основном ролевые."
   ]
  },
  {
   "cell_type": "markdown",
   "id": "a6ba6ae2",
   "metadata": {},
   "source": [
    "#### Влияние рейтинга ESRB на продажи в отдельных регионах"
   ]
  },
  {
   "cell_type": "markdown",
   "id": "889ce945",
   "metadata": {},
   "source": [
    "Оставим продажи и рейтинг, посчитаем корреляцию:"
   ]
  },
  {
   "cell_type": "code",
   "execution_count": 169,
   "id": "5e60317f",
   "metadata": {},
   "outputs": [],
   "source": [
    "na_esrb = data_games_past_2013[['na_sales', 'rating']].groupby('rating').sum()\n",
    "eu_esrb = data_games_past_2013[['eu_sales', 'rating']].groupby('rating').sum()\n",
    "jp_esrb = data_games_past_2013[['jp_sales', 'rating']].groupby('rating').sum()"
   ]
  },
  {
   "cell_type": "code",
   "execution_count": 170,
   "id": "d5d738b6",
   "metadata": {},
   "outputs": [
    {
     "data": {
      "text/html": [
       "<div>\n",
       "<style scoped>\n",
       "    .dataframe tbody tr th:only-of-type {\n",
       "        vertical-align: middle;\n",
       "    }\n",
       "\n",
       "    .dataframe tbody tr th {\n",
       "        vertical-align: top;\n",
       "    }\n",
       "\n",
       "    .dataframe thead th {\n",
       "        text-align: right;\n",
       "    }\n",
       "</style>\n",
       "<table border=\"1\" class=\"dataframe\">\n",
       "  <thead>\n",
       "    <tr style=\"text-align: right;\">\n",
       "      <th></th>\n",
       "      <th>na_sales</th>\n",
       "      <th>eu_sales</th>\n",
       "    </tr>\n",
       "    <tr>\n",
       "      <th>rating</th>\n",
       "      <th></th>\n",
       "      <th></th>\n",
       "    </tr>\n",
       "  </thead>\n",
       "  <tbody>\n",
       "    <tr>\n",
       "      <th>E</th>\n",
       "      <td>79.05</td>\n",
       "      <td>83.36</td>\n",
       "    </tr>\n",
       "    <tr>\n",
       "      <th>E10+</th>\n",
       "      <td>54.24</td>\n",
       "      <td>42.69</td>\n",
       "    </tr>\n",
       "    <tr>\n",
       "      <th>M</th>\n",
       "      <td>165.21</td>\n",
       "      <td>145.32</td>\n",
       "    </tr>\n",
       "    <tr>\n",
       "      <th>No rating</th>\n",
       "      <td>89.42</td>\n",
       "      <td>78.91</td>\n",
       "    </tr>\n",
       "    <tr>\n",
       "      <th>T</th>\n",
       "      <td>49.79</td>\n",
       "      <td>41.95</td>\n",
       "    </tr>\n",
       "  </tbody>\n",
       "</table>\n",
       "</div>"
      ],
      "text/plain": [
       "           na_sales  eu_sales\n",
       "rating                       \n",
       "E             79.05     83.36\n",
       "E10+          54.24     42.69\n",
       "M            165.21    145.32\n",
       "No rating     89.42     78.91\n",
       "T             49.79     41.95"
      ]
     },
     "execution_count": 170,
     "metadata": {},
     "output_type": "execute_result"
    }
   ],
   "source": [
    "esrb_table = pd.merge(na_esrb, eu_esrb, on='rating', how='left')\n",
    "esrb_table"
   ]
  },
  {
   "cell_type": "code",
   "execution_count": 171,
   "id": "99bf7d7b",
   "metadata": {},
   "outputs": [
    {
     "data": {
      "text/html": [
       "<div>\n",
       "<style scoped>\n",
       "    .dataframe tbody tr th:only-of-type {\n",
       "        vertical-align: middle;\n",
       "    }\n",
       "\n",
       "    .dataframe tbody tr th {\n",
       "        vertical-align: top;\n",
       "    }\n",
       "\n",
       "    .dataframe thead th {\n",
       "        text-align: right;\n",
       "    }\n",
       "</style>\n",
       "<table border=\"1\" class=\"dataframe\">\n",
       "  <thead>\n",
       "    <tr style=\"text-align: right;\">\n",
       "      <th></th>\n",
       "      <th>na_sales</th>\n",
       "      <th>eu_sales</th>\n",
       "      <th>jp_sales</th>\n",
       "    </tr>\n",
       "    <tr>\n",
       "      <th>rating</th>\n",
       "      <th></th>\n",
       "      <th></th>\n",
       "      <th></th>\n",
       "    </tr>\n",
       "  </thead>\n",
       "  <tbody>\n",
       "    <tr>\n",
       "      <th>E</th>\n",
       "      <td>79.05</td>\n",
       "      <td>83.36</td>\n",
       "      <td>15.14</td>\n",
       "    </tr>\n",
       "    <tr>\n",
       "      <th>E10+</th>\n",
       "      <td>54.24</td>\n",
       "      <td>42.69</td>\n",
       "      <td>5.89</td>\n",
       "    </tr>\n",
       "    <tr>\n",
       "      <th>M</th>\n",
       "      <td>165.21</td>\n",
       "      <td>145.32</td>\n",
       "      <td>14.11</td>\n",
       "    </tr>\n",
       "    <tr>\n",
       "      <th>No rating</th>\n",
       "      <td>89.42</td>\n",
       "      <td>78.91</td>\n",
       "      <td>85.05</td>\n",
       "    </tr>\n",
       "    <tr>\n",
       "      <th>T</th>\n",
       "      <td>49.79</td>\n",
       "      <td>41.95</td>\n",
       "      <td>20.59</td>\n",
       "    </tr>\n",
       "  </tbody>\n",
       "</table>\n",
       "</div>"
      ],
      "text/plain": [
       "           na_sales  eu_sales  jp_sales\n",
       "rating                                 \n",
       "E             79.05     83.36     15.14\n",
       "E10+          54.24     42.69      5.89\n",
       "M            165.21    145.32     14.11\n",
       "No rating     89.42     78.91     85.05\n",
       "T             49.79     41.95     20.59"
      ]
     },
     "execution_count": 171,
     "metadata": {},
     "output_type": "execute_result"
    }
   ],
   "source": [
    "esrb_table_final = pd.merge(esrb_table, jp_esrb, on='rating', how='left')\n",
    "esrb_table_final"
   ]
  },
  {
   "cell_type": "markdown",
   "id": "7530847b",
   "metadata": {},
   "source": [
    "Построим график:"
   ]
  },
  {
   "cell_type": "code",
   "execution_count": 179,
   "id": "74921341",
   "metadata": {},
   "outputs": [
    {
     "data": {
      "image/png": "[encoded data removed]",
      "text/plain": [
       "<Figure size 720x432 with 1 Axes>"
      ]
     },
     "metadata": {},
     "output_type": "display_data"
    }
   ],
   "source": [
    "esrb_table_final.plot.bar(rot =0, figsize=[10,6]);"
   ]
  },
  {
   "cell_type": "markdown",
   "id": "7e7375b5",
   "metadata": {},
   "source": [
    "### Вывод\n",
    "\n",
    "В США и Европе продажи распределены по рейтингам примерно одинаково - игры с рейтингом M (mature, 17+) пользуются основным спросом, это хорошо соотносится с распределением по жанрам - шутеры и экшн попадают в эту категорию. Если же посмотреть на японские продажи, то интересно, что основная доля приходится на игры без рейтинга. Это возможно, обусловлено тем, что ESRB входит в IARC, а в Японии это регулируется отдельным органом CERO - они пользуются отдельной системой рейтинга, которая не соотносится с системой рейтинга ESRB / IARC. Тем не менее, игры для тинейджеров у них более популярны. Скорее всего, RPG попадает в категорию игр с маркировкой \"Т\" (по версии ESRB). Вполне возможно, что игры, созданные для Японского рынка, слишком специфичны для этого рынка, поэтому большая часть не выходит на международной рынок и, соответственно, разработчики не считают целесообразным получать международный рейтинг."
   ]
  },
  {
   "cell_type": "markdown",
   "id": "f77ce4d0",
   "metadata": {},
   "source": [
    "# Этап 5"
   ]
  },
  {
   "cell_type": "markdown",
   "id": "f422c210",
   "metadata": {},
   "source": [
    "### Проверьте гипотезы"
   ]
  },
  {
   "cell_type": "markdown",
   "id": "d4acc5ea",
   "metadata": {},
   "source": [
    "* Средние пользовательские рейтинги платформ Xbox One и PC одинаковые;\n",
    "* Средние пользовательские рейтинги жанров Action (англ. «действие», экшен-игры) и Sports (англ. «спортивные соревнования») разные.\n",
    "\n",
    "Задайте самостоятельно пороговое значение alpha.\n",
    "\n",
    "Поясните:\n",
    "* Как вы сформулировали нулевую и альтернативную гипотезы;\n",
    "* Какой критерий применили для проверки гипотез и почему."
   ]
  },
  {
   "cell_type": "markdown",
   "id": "7a9d14d3",
   "metadata": {},
   "source": [
    "Формулирование гипотез и p-value:\n",
    "\n",
    "* Для проверки гипотез мы использовали p-value, то есть вероятность получить для данной вероятностной модели распределения значений случайной величины такое же или более экстремальное значение статистики, по сравнению с ранее наблюдаемым, при условии, что нулевая гипотеза верна.\n",
    "* Гипотезы формулируются так, чтобы в нулевой всегда использовать знак равенства, а альтернативная утверждает обратное."
   ]
  },
  {
   "cell_type": "markdown",
   "id": "55347e52",
   "metadata": {},
   "source": [
    "Сформулируем нулевую и альтернативную гипотезы, которые уже заданы в вопросах к заданию:\n",
    "<br>\n",
    "$H_0$: Средние пользовательские рейтинги платформ Xbox One и PC одинаковые.<br>\n",
    "$H_1$: Средние пользовательские рейтинги платформ Xbox One и PC отличаются .<br>"
   ]
  },
  {
   "cell_type": "code",
   "execution_count": 189,
   "id": "0a147098",
   "metadata": {},
   "outputs": [],
   "source": [
    "from scipy import stats as st"
   ]
  },
  {
   "cell_type": "code",
   "execution_count": 190,
   "id": "f19639bd",
   "metadata": {},
   "outputs": [],
   "source": [
    "def test_hypothesis(sample1, sample2, alpha):\n",
    "    results = st.ttest_ind(sample1, sample2, equal_var = False)\n",
    "    print('p-значение:', results.pvalue)\n",
    "    if (results.pvalue < alpha):\n",
    "        return \"Отвергаем нулевую гипотезу\"\n",
    "    else:\n",
    "        return \"Не получилось отвергнуть нулевую гипотезу\""
   ]
  },
  {
   "cell_type": "markdown",
   "id": "51ecdfb5",
   "metadata": {},
   "source": [
    "Тем лучше результаты, чем больше выборка. Постараемся получить максимально возможные списки:"
   ]
  },
  {
   "cell_type": "code",
   "execution_count": 182,
   "id": "00da481b",
   "metadata": {},
   "outputs": [
    {
     "data": {
      "text/plain": [
       "count    247.00\n",
       "mean       4.81\n",
       "std        3.11\n",
       "min        0.00\n",
       "25%        0.00\n",
       "50%        6.00\n",
       "75%        7.20\n",
       "max        9.20\n",
       "Name: user_score, dtype: float64"
      ]
     },
     "execution_count": 182,
     "metadata": {},
     "output_type": "execute_result"
    }
   ],
   "source": [
    "sample_xbox = data_games_past_2013.query('platform == \"XOne\"')['user_score']\n",
    "sample_xbox.describe().round(2)"
   ]
  },
  {
   "cell_type": "markdown",
   "id": "3cc1676c",
   "metadata": {},
   "source": [
    "PC:"
   ]
  },
  {
   "cell_type": "code",
   "execution_count": 183,
   "id": "028e8dd9",
   "metadata": {},
   "outputs": [
    {
     "data": {
      "text/plain": [
       "count    189.00\n",
       "mean       5.14\n",
       "std        2.88\n",
       "min        0.00\n",
       "25%        3.50\n",
       "50%        6.00\n",
       "75%        7.40\n",
       "max        9.30\n",
       "Name: user_score, dtype: float64"
      ]
     },
     "execution_count": 183,
     "metadata": {},
     "output_type": "execute_result"
    }
   ],
   "source": [
    "sample_pc = data_games_past_2013.query('platform == \"PC\"')['user_score']\n",
    "sample_pc.describe().round(2)"
   ]
  },
  {
   "cell_type": "code",
   "execution_count": 187,
   "id": "3c71f033",
   "metadata": {},
   "outputs": [],
   "source": [
    "import random"
   ]
  },
  {
   "cell_type": "code",
   "execution_count": 192,
   "id": "a106c85b",
   "metadata": {},
   "outputs": [
    {
     "name": "stdout",
     "output_type": "stream",
     "text": [
      "p-значение: 0.22277649218188034\n"
     ]
    },
    {
     "data": {
      "text/plain": [
       "'Не получилось отвергнуть нулевую гипотезу'"
      ]
     },
     "execution_count": 192,
     "metadata": {},
     "output_type": "execute_result"
    }
   ],
   "source": [
    "sample_xbox_rnd = random.sample(list(sample_xbox), len(list(sample_pc)))\n",
    "test_hypothesis(sample_pc, sample_xbox_rnd, 0.05)"
   ]
  },
  {
   "cell_type": "markdown",
   "id": "94c4fd3c",
   "metadata": {},
   "source": [
    "Кажется, игроманы на PC привыкли и к Windows, и к Xbox One - оценки на обеих платформах примерно равны. P-value достаточно велико, чтобы не тестировать его на более низких значениях."
   ]
  },
  {
   "cell_type": "markdown",
   "id": "be751937",
   "metadata": {},
   "source": [
    "Сформулируем нулевую и альтернативную гипотезы, которые уже заданы в вопросах к заданию:\n",
    "<br>\n",
    "$H_0$: Средние пользовательские рейтинги жанров Action и Sports одинаковы.<br>\n",
    "$H_1$: Средние пользовательские рейтинги жанров Action и Sports разные.<br>"
   ]
  },
  {
   "cell_type": "markdown",
   "id": "4deac435",
   "metadata": {},
   "source": [
    "Action:"
   ]
  },
  {
   "cell_type": "code",
   "execution_count": 205,
   "id": "4b8172e8",
   "metadata": {},
   "outputs": [
    {
     "data": {
      "text/plain": [
       "count    389.00\n",
       "mean       6.84\n",
       "std        1.33\n",
       "min        2.00\n",
       "25%        6.30\n",
       "50%        7.10\n",
       "75%        7.80\n",
       "max        9.10\n",
       "Name: user_score, dtype: float64"
      ]
     },
     "execution_count": 205,
     "metadata": {},
     "output_type": "execute_result"
    }
   ],
   "source": [
    "sample_action = data_games_past_2013.query('genre == \"Action\"& user_score != 0')['user_score']\n",
    "sample_action.describe().round(2)"
   ]
  },
  {
   "cell_type": "markdown",
   "id": "3a2bcd09",
   "metadata": {},
   "source": [
    "Sports:"
   ]
  },
  {
   "cell_type": "code",
   "execution_count": 206,
   "id": "3f8096eb",
   "metadata": {},
   "outputs": [
    {
     "data": {
      "text/plain": [
       "count    160.00\n",
       "mean       5.24\n",
       "std        1.78\n",
       "min        0.20\n",
       "25%        4.10\n",
       "50%        5.50\n",
       "75%        6.50\n",
       "max        8.80\n",
       "Name: user_score, dtype: float64"
      ]
     },
     "execution_count": 206,
     "metadata": {},
     "output_type": "execute_result"
    }
   ],
   "source": [
    "sample_sports = data_games_past_2013.query('genre == \"Sports\" & user_score != 0')['user_score']\n",
    "sample_sports.describe().round(2)"
   ]
  },
  {
   "cell_type": "code",
   "execution_count": 207,
   "id": "704b8bfc",
   "metadata": {},
   "outputs": [],
   "source": [
    "sample_action_rnd = random.sample(list(sample_action), len(list(sample_sports)))"
   ]
  },
  {
   "cell_type": "code",
   "execution_count": 208,
   "id": "0716a8b1",
   "metadata": {},
   "outputs": [
    {
     "name": "stdout",
     "output_type": "stream",
     "text": [
      "p-значение: 4.805884493906963e-19\n"
     ]
    },
    {
     "data": {
      "text/plain": [
       "'Отвергаем нулевую гипотезу'"
      ]
     },
     "execution_count": 208,
     "metadata": {},
     "output_type": "execute_result"
    }
   ],
   "source": [
    "test_hypothesis(sample_sports, sample_action_rnd, 0.05)"
   ]
  },
  {
   "cell_type": "markdown",
   "id": "ffdff84a",
   "metadata": {},
   "source": [
    "### Вывод\n",
    "\n",
    "Выводы по гипотезам:\n",
    "\n",
    "* Оценки пользователей на PC и Xbox One примерно равны.\n",
    "* Пользователи по разному оценивают жанры Action и Sports. В частности, жанр Sports оценивается игроками ниже, чем Action.\n"
   ]
  },
  {
   "cell_type": "markdown",
   "id": "dbdb9493",
   "metadata": {},
   "source": [
    "# Этап 6"
   ]
  },
  {
   "cell_type": "markdown",
   "id": "6c5aa7a6",
   "metadata": {},
   "source": [
    "### Общий вывод"
   ]
  },
  {
   "cell_type": "markdown",
   "id": "f4d508bc",
   "metadata": {},
   "source": [
    "Цель проекта: выработать методологию для прогнозирования на следующий год (X + 1) находясь в годе X, имея на руках исторические данные за широкий горизонт. \n",
    "1. Требутеся выделить актуальный период, как минимум от 3 (если данные за год X неполные) до 4 лет;\n",
    "2. Выделить топовые игры, посчитать их долю, построить графики и посмотреть что именно происходило в продажах игр за эти годы на каждом рынке.\n",
    "3. Важно выделить жанр, рынок и платформу, учесть особенности при создании игры.\n",
    "4. Учесть, что несмотря на то, что оценка критиков, которым можно дать \"попробовать\" разрабатываемые игры в бете могут не отражать мнение игроков. \n",
    "5. Оценки не влияют на продажи.\n",
    "\n",
    "Все эти данные помогут создать прогноз на ближайший финансовый (фискальный) год."
   ]
  }
 ],
 "metadata": {
  "kernelspec": {
   "display_name": "Python 3 (ipykernel)",
   "language": "python",
   "name": "python3"
  },
  "language_info": {
   "codemirror_mode": {
    "name": "ipython",
    "version": 3
   },
   "file_extension": ".py",
   "mimetype": "text/x-python",
   "name": "python",
   "nbconvert_exporter": "python",
   "pygments_lexer": "ipython3",
   "version": "3.9.7"
  }
 },
 "nbformat": 4,
 "nbformat_minor": 5
}
