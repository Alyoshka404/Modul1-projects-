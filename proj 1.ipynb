{
 "cells": [
  {
   "cell_type": "markdown",
   "id": "c788bc52",
   "metadata": {},
   "source": [
    "# Получение данных \n",
    "\n",
    "**Изучим полученные данные**"
   ]
  },
  {
   "cell_type": "markdown",
   "id": "21b703ce",
   "metadata": {},
   "source": [
    "Импортируем библиотеку Pandas и получим сведения из таблицы данных (первые 10 строк)"
   ]
  },
  {
   "cell_type": "code",
   "execution_count": 118,
   "id": "b748e399",
   "metadata": {},
   "outputs": [
    {
     "data": {
      "text/html": [
       "<div>\n",
       "<style scoped>\n",
       "    .dataframe tbody tr th:only-of-type {\n",
       "        vertical-align: middle;\n",
       "    }\n",
       "\n",
       "    .dataframe tbody tr th {\n",
       "        vertical-align: top;\n",
       "    }\n",
       "\n",
       "    .dataframe thead th {\n",
       "        text-align: right;\n",
       "    }\n",
       "</style>\n",
       "<table border=\"1\" class=\"dataframe\">\n",
       "  <thead>\n",
       "    <tr style=\"text-align: right;\">\n",
       "      <th></th>\n",
       "      <th>userID</th>\n",
       "      <th>Track</th>\n",
       "      <th>artist</th>\n",
       "      <th>genre</th>\n",
       "      <th>City</th>\n",
       "      <th>time</th>\n",
       "      <th>Day</th>\n",
       "    </tr>\n",
       "  </thead>\n",
       "  <tbody>\n",
       "    <tr>\n",
       "      <th>0</th>\n",
       "      <td>FFB692EC</td>\n",
       "      <td>Kamigata To Boots</td>\n",
       "      <td>The Mass Missile</td>\n",
       "      <td>rock</td>\n",
       "      <td>Saint-Petersburg</td>\n",
       "      <td>20:28:33</td>\n",
       "      <td>Wednesday</td>\n",
       "    </tr>\n",
       "    <tr>\n",
       "      <th>1</th>\n",
       "      <td>55204538</td>\n",
       "      <td>Delayed Because of Accident</td>\n",
       "      <td>Andreas Rönnberg</td>\n",
       "      <td>rock</td>\n",
       "      <td>Moscow</td>\n",
       "      <td>14:07:09</td>\n",
       "      <td>Friday</td>\n",
       "    </tr>\n",
       "    <tr>\n",
       "      <th>2</th>\n",
       "      <td>20EC38</td>\n",
       "      <td>Funiculì funiculà</td>\n",
       "      <td>Mario Lanza</td>\n",
       "      <td>pop</td>\n",
       "      <td>Saint-Petersburg</td>\n",
       "      <td>20:58:07</td>\n",
       "      <td>Wednesday</td>\n",
       "    </tr>\n",
       "    <tr>\n",
       "      <th>3</th>\n",
       "      <td>A3DD03C9</td>\n",
       "      <td>Dragons in the Sunset</td>\n",
       "      <td>Fire + Ice</td>\n",
       "      <td>folk</td>\n",
       "      <td>Saint-Petersburg</td>\n",
       "      <td>08:37:09</td>\n",
       "      <td>Monday</td>\n",
       "    </tr>\n",
       "    <tr>\n",
       "      <th>4</th>\n",
       "      <td>E2DC1FAE</td>\n",
       "      <td>Soul People</td>\n",
       "      <td>Space Echo</td>\n",
       "      <td>dance</td>\n",
       "      <td>Moscow</td>\n",
       "      <td>08:34:34</td>\n",
       "      <td>Monday</td>\n",
       "    </tr>\n",
       "    <tr>\n",
       "      <th>5</th>\n",
       "      <td>842029A1</td>\n",
       "      <td>Преданная</td>\n",
       "      <td>IMPERVTOR</td>\n",
       "      <td>rusrap</td>\n",
       "      <td>Saint-Petersburg</td>\n",
       "      <td>13:09:41</td>\n",
       "      <td>Friday</td>\n",
       "    </tr>\n",
       "    <tr>\n",
       "      <th>6</th>\n",
       "      <td>4CB90AA5</td>\n",
       "      <td>True</td>\n",
       "      <td>Roman Messer</td>\n",
       "      <td>dance</td>\n",
       "      <td>Moscow</td>\n",
       "      <td>13:00:07</td>\n",
       "      <td>Wednesday</td>\n",
       "    </tr>\n",
       "    <tr>\n",
       "      <th>7</th>\n",
       "      <td>F03E1C1F</td>\n",
       "      <td>Feeling This Way</td>\n",
       "      <td>Polina Griffith</td>\n",
       "      <td>dance</td>\n",
       "      <td>Moscow</td>\n",
       "      <td>20:47:49</td>\n",
       "      <td>Wednesday</td>\n",
       "    </tr>\n",
       "    <tr>\n",
       "      <th>8</th>\n",
       "      <td>8FA1D3BE</td>\n",
       "      <td>И вновь продолжается бой</td>\n",
       "      <td>NaN</td>\n",
       "      <td>ruspop</td>\n",
       "      <td>Moscow</td>\n",
       "      <td>09:17:40</td>\n",
       "      <td>Friday</td>\n",
       "    </tr>\n",
       "    <tr>\n",
       "      <th>9</th>\n",
       "      <td>E772D5C0</td>\n",
       "      <td>Pessimist</td>\n",
       "      <td>NaN</td>\n",
       "      <td>dance</td>\n",
       "      <td>Saint-Petersburg</td>\n",
       "      <td>21:20:49</td>\n",
       "      <td>Wednesday</td>\n",
       "    </tr>\n",
       "  </tbody>\n",
       "</table>\n",
       "</div>"
      ],
      "text/plain": [
       "     userID                        Track            artist   genre  \\\n",
       "0  FFB692EC            Kamigata To Boots  The Mass Missile    rock   \n",
       "1  55204538  Delayed Because of Accident  Andreas Rönnberg    rock   \n",
       "2    20EC38            Funiculì funiculà       Mario Lanza     pop   \n",
       "3  A3DD03C9        Dragons in the Sunset        Fire + Ice    folk   \n",
       "4  E2DC1FAE                  Soul People        Space Echo   dance   \n",
       "5  842029A1                    Преданная         IMPERVTOR  rusrap   \n",
       "6  4CB90AA5                         True      Roman Messer   dance   \n",
       "7  F03E1C1F             Feeling This Way   Polina Griffith   dance   \n",
       "8  8FA1D3BE     И вновь продолжается бой               NaN  ruspop   \n",
       "9  E772D5C0                    Pessimist               NaN   dance   \n",
       "\n",
       "             City        time        Day  \n",
       "0  Saint-Petersburg  20:28:33  Wednesday  \n",
       "1            Moscow  14:07:09     Friday  \n",
       "2  Saint-Petersburg  20:58:07  Wednesday  \n",
       "3  Saint-Petersburg  08:37:09     Monday  \n",
       "4            Moscow  08:34:34     Monday  \n",
       "5  Saint-Petersburg  13:09:41     Friday  \n",
       "6            Moscow  13:00:07  Wednesday  \n",
       "7            Moscow  20:47:49  Wednesday  \n",
       "8            Moscow  09:17:40     Friday  \n",
       "9  Saint-Petersburg  21:20:49  Wednesday  "
      ]
     },
     "execution_count": 118,
     "metadata": {},
     "output_type": "execute_result"
    }
   ],
   "source": [
    "import pandas as pd\n",
    "\n",
    "data = pd.read_csv('music_project.csv', index_col=0)\n",
    "data.head(10)"
   ]
  },
  {
   "cell_type": "markdown",
   "id": "9a65d63f",
   "metadata": {},
   "source": [
    "\n",
    "**Получим общую информацию данных таблицы**"
   ]
  },
  {
   "cell_type": "code",
   "execution_count": 28,
   "id": "cfecd2bd",
   "metadata": {},
   "outputs": [
    {
     "name": "stdout",
     "output_type": "stream",
     "text": [
      "<class 'pandas.core.frame.DataFrame'>\n",
      "Int64Index: 65079 entries, 0 to 65078\n",
      "Data columns (total 7 columns):\n",
      " #   Column    Non-Null Count  Dtype \n",
      "---  ------    --------------  ----- \n",
      " 0     userID  65079 non-null  object\n",
      " 1   Track     63848 non-null  object\n",
      " 2   artist    57876 non-null  object\n",
      " 3   genre     63881 non-null  object\n",
      " 4     City    65079 non-null  object\n",
      " 5   time      65079 non-null  object\n",
      " 6   Day       65079 non-null  object\n",
      "dtypes: object(7)\n",
      "memory usage: 4.0+ MB\n"
     ]
    }
   ],
   "source": [
    "data.info()"
   ]
  },
  {
   "cell_type": "markdown",
   "id": "784538af",
   "metadata": {},
   "source": [
    "\n",
    "**Изучим эту информацию**\n",
    "\n",
    "Всего в таблице 7 столбцов с типами данных - **object**\n",
    "\n",
    "* userID — идентификатор пользователя;\n",
    "* Track — название трека;\n",
    "* artist — имя исполнителя;\n",
    "* genre — название жанра;\n",
    "* City — город, в котором происходило прослушивание;\n",
    "* time — время, в которое пользователь слушал трек;\n",
    "* Day — день недели.\n",
    "\n",
    "Также в некоторых столбца есть различия в количестве значений. Следовательно они содержат **пропущенные значения** (чаще всего это **None** или **NaN**)."
   ]
  },
  {
   "cell_type": "markdown",
   "id": "54056644",
   "metadata": {},
   "source": [
    "**Выводы**\n",
    "\n",
    "В полученных данных мы имеем две проблемы, которые нужно решать: пропуски и некачественные названия столбцов. \n",
    "Также по полученным данным из столбца **genre** мы сможем определить самые популярные жанры прослушиваемой музыки."
   ]
  },
  {
   "cell_type": "markdown",
   "id": "a7b8d5f8",
   "metadata": {},
   "source": [
    "\n",
    "# Предобработка данных"
   ]
  },
  {
   "cell_type": "markdown",
   "id": "6a70b005",
   "metadata": {},
   "source": [
    "Для начала мы должны проверить пропущенные значения **NaN**, а после избавиться от них. Также проверить таблицу на наличие дубликатов."
   ]
  },
  {
   "cell_type": "markdown",
   "id": "e379d290",
   "metadata": {},
   "source": [
    "Перед тем как приступать к решению этих проблем, мы должны отредактировать название столбцов таблицы, чтобы привести их к правильному виду, руководствуясь следующими правилами:\n",
    "\n",
    "* отсутствие пробелов;\n",
    "* состоят из одного слова (использовать символы нижнего подчеркивания);\n",
    "* написаны на одном языке и в одном регистре (нижнем);\n",
    "* сообщают, какого рода информация содержится в каждом столбце."
   ]
  },
  {
   "cell_type": "code",
   "execution_count": 8,
   "id": "83e9ac92",
   "metadata": {},
   "outputs": [
    {
     "data": {
      "text/plain": [
       "Index(['Unnamed: 0', '  userID', 'Track', 'artist', 'genre', '  City  ',\n",
       "       'time', 'Day'],\n",
       "      dtype='object')"
      ]
     },
     "execution_count": 8,
     "metadata": {},
     "output_type": "execute_result"
    }
   ],
   "source": [
    "data.columns"
   ]
  },
  {
   "cell_type": "markdown",
   "id": "4336ac3e",
   "metadata": {},
   "source": [
    "Используем метод **set_axis()** для изменения названий столбцов, где\n",
    "аргументы - список новых названий столбцов,\n",
    "axis со значением columns для изменений в столбцах,\n",
    "inplace со значением True для изменения структуры данных"
   ]
  },
  {
   "cell_type": "code",
   "execution_count": 35,
   "id": "167d6a74",
   "metadata": {},
   "outputs": [
    {
     "data": {
      "text/plain": [
       "Index(['user_id', 'track_name', 'artist_name', 'genre_name', 'city', 'time',\n",
       "       'weekday'],\n",
       "      dtype='object')"
      ]
     },
     "execution_count": 35,
     "metadata": {},
     "output_type": "execute_result"
    }
   ],
   "source": [
    "data.set_axis(['user_id', 'track_name', 'artist_name', 'genre_name', 'city', 'time', 'weekday'], axis='columns', inplace=True)\n",
    "data.columns"
   ]
  },
  {
   "cell_type": "markdown",
   "id": "d8a6ad79",
   "metadata": {},
   "source": [
    "Используем методы **isnull()** или **isna()** для определения пропущенных значений; в сочетании с методом **sum()** — подсчёт пропущенных значений."
   ]
  },
  {
   "cell_type": "code",
   "execution_count": 36,
   "id": "e7c9938c",
   "metadata": {},
   "outputs": [
    {
     "data": {
      "text/plain": [
       "user_id           0\n",
       "track_name     1231\n",
       "artist_name    7203\n",
       "genre_name     1198\n",
       "city              0\n",
       "time              0\n",
       "weekday           0\n",
       "dtype: int64"
      ]
     },
     "execution_count": 36,
     "metadata": {},
     "output_type": "execute_result"
    }
   ],
   "source": [
    "data.isna().sum()"
   ]
  },
  {
   "cell_type": "markdown",
   "id": "5447ca2a",
   "metadata": {},
   "source": [
    "\n",
    "Столбцы с названием трека, исполнителем и жанром песни содержат пропуски. Такие пустые значения сообщают нам, что по некоторым произведениям доступна не вся информация. Причины такой проблемы могут быть различные, поэтому необходимо разобрать каждый отдельный случай и понять в чём причина пропусков."
   ]
  },
  {
   "cell_type": "markdown",
   "id": "64e7248d",
   "metadata": {},
   "source": [
    "Для начала мы можем заменить пропуски в этих столбцах на любое значение, например **'unknown'**, после чего проверим, содержит ли таблица пропуски. "
   ]
  },
  {
   "cell_type": "markdown",
   "id": "cf2732b3",
   "metadata": {},
   "source": [
    "Используем метод **fillna()** для заполнения пропущенных значений. Аргументом является значение, которое будет присвоено вместо пропуска."
   ]
  },
  {
   "cell_type": "code",
   "execution_count": 40,
   "id": "ce8d0e99",
   "metadata": {},
   "outputs": [
    {
     "data": {
      "text/plain": [
       "user_id           0\n",
       "track_name        0\n",
       "artist_name       0\n",
       "genre_name     1198\n",
       "city              0\n",
       "time              0\n",
       "weekday           0\n",
       "dtype: int64"
      ]
     },
     "execution_count": 40,
     "metadata": {},
     "output_type": "execute_result"
    }
   ],
   "source": [
    "data['track_name'] = data['track_name'].fillna('unknown')\n",
    "data['artist_name'] = data['artist_name'].fillna('unknown')\n",
    "\n",
    "data.isna().sum()"
   ]
  },
  {
   "cell_type": "markdown",
   "id": "6dc38a24",
   "metadata": {},
   "source": [
    "Разберёмся со столбцом жанра песни. Удалим все пропущенные значения в этом столбце. Для этого используем метод **dropna()**.\n"
   ]
  },
  {
   "cell_type": "markdown",
   "id": "03716eed",
   "metadata": {},
   "source": [
    "аргумент **subset** — названия столбцов, где нужно искать пропуски"
   ]
  },
  {
   "cell_type": "code",
   "execution_count": 41,
   "id": "67296654",
   "metadata": {},
   "outputs": [
    {
     "data": {
      "text/plain": [
       "user_id        0\n",
       "track_name     0\n",
       "artist_name    0\n",
       "genre_name     0\n",
       "city           0\n",
       "time           0\n",
       "weekday        0\n",
       "dtype: int64"
      ]
     },
     "execution_count": 41,
     "metadata": {},
     "output_type": "execute_result"
    }
   ],
   "source": [
    "data.dropna(subset=['genre_name'], inplace=True)\n",
    "\n",
    "data.isna().sum()"
   ]
  },
  {
   "cell_type": "markdown",
   "id": "9e518b4e",
   "metadata": {},
   "source": [
    "Разбираемся с наличием дубликатов в данных."
   ]
  },
  {
   "cell_type": "code",
   "execution_count": 44,
   "id": "c6e28414",
   "metadata": {},
   "outputs": [
    {
     "data": {
      "text/plain": [
       "3756"
      ]
     },
     "execution_count": 44,
     "metadata": {},
     "output_type": "execute_result"
    }
   ],
   "source": [
    "data.duplicated().sum()"
   ]
  },
  {
   "cell_type": "markdown",
   "id": "4467322b",
   "metadata": {},
   "source": [
    "Метод **drop_duplicates()** для удаления дубликатов. Вместе с повторяющимися строками удаляет их индексы. Поэтому вызывается с методом **reset_index()**"
   ]
  },
  {
   "cell_type": "code",
   "execution_count": 46,
   "id": "3b6c57d8",
   "metadata": {},
   "outputs": [
    {
     "data": {
      "text/plain": [
       "0"
      ]
     },
     "execution_count": 46,
     "metadata": {},
     "output_type": "execute_result"
    }
   ],
   "source": [
    "data = data.drop_duplicates().reset_index(drop=True)\n",
    "\n",
    "data.duplicated().sum()"
   ]
  },
  {
   "cell_type": "markdown",
   "id": "5d58b8c4",
   "metadata": {},
   "source": [
    "\n",
    "\n",
    "Дубликаты могли появиться вследствие сбоя в записи данных. Стоит обратить внимание и разобраться с причинами появления такого «информационного мусора».\n",
    "\n",
    "Необходимо определить список неявных дубликатов в столбце **genre_name**, когда один и тот же жанр может быть записан разными словами.\n",
    "\n",
    "Используем метод **unique()** для просмотра всех уникальных значений в столбце"
   ]
  },
  {
   "cell_type": "code",
   "execution_count": 48,
   "id": "a57bd537",
   "metadata": {},
   "outputs": [],
   "source": [
    "genres_list = data['genre_name'].unique()"
   ]
  },
  {
   "cell_type": "markdown",
   "id": "812778de",
   "metadata": {},
   "source": [
    "Создаём функцию для поиска таких неявных дубликатов"
   ]
  },
  {
   "cell_type": "code",
   "execution_count": 49,
   "id": "249f91f1",
   "metadata": {},
   "outputs": [],
   "source": [
    "def f_genres(name):\n",
    "    counter = 0\n",
    "    for i in genres_list:\n",
    "        if i == name:\n",
    "            counter += 1\n",
    "    return counter"
   ]
  },
  {
   "cell_type": "code",
   "execution_count": 51,
   "id": "10d64a64",
   "metadata": {},
   "outputs": [
    {
     "data": {
      "text/plain": [
       "1"
      ]
     },
     "execution_count": 51,
     "metadata": {},
     "output_type": "execute_result"
    }
   ],
   "source": [
    "f_genres('rock')"
   ]
  },
  {
   "cell_type": "markdown",
   "id": "d3d6d9dc",
   "metadata": {},
   "source": [
    "Создадим функцию для исправления неправильного написания жанра в таблице"
   ]
  },
  {
   "cell_type": "code",
   "execution_count": 59,
   "id": "a742f1e1",
   "metadata": {},
   "outputs": [],
   "source": [
    "def func_genre(data, genre_bad, genre_good):\n",
    "    data['genre_name'] = data['genre_name'].replace(genre_bad, genre_good)\n",
    "    n = data[data['genre_name']==genre_bad]['genre_name'].count()\n",
    "    return n"
   ]
  },
  {
   "cell_type": "markdown",
   "id": "120c7951",
   "metadata": {},
   "source": [
    "Проверим наличие неправильного написания жанра *hiphop* и проверим нашу функцию"
   ]
  },
  {
   "cell_type": "code",
   "execution_count": 61,
   "id": "56ac450d",
   "metadata": {},
   "outputs": [
    {
     "data": {
      "text/plain": [
       "1"
      ]
     },
     "execution_count": 61,
     "metadata": {},
     "output_type": "execute_result"
    }
   ],
   "source": [
    "f_genres('hip')"
   ]
  },
  {
   "cell_type": "code",
   "execution_count": 65,
   "id": "686b5fef",
   "metadata": {},
   "outputs": [
    {
     "data": {
      "text/plain": [
       "0"
      ]
     },
     "execution_count": 65,
     "metadata": {},
     "output_type": "execute_result"
    }
   ],
   "source": [
    "func_genre(data, 'hip', 'hiphop')"
   ]
  },
  {
   "cell_type": "markdown",
   "id": "4a0c69c3",
   "metadata": {},
   "source": [
    "Получаем общую информацию о данных. Убеждаемся, что чистка выполнена успешно."
   ]
  },
  {
   "cell_type": "code",
   "execution_count": 66,
   "id": "81f49124",
   "metadata": {},
   "outputs": [
    {
     "name": "stdout",
     "output_type": "stream",
     "text": [
      "<class 'pandas.core.frame.DataFrame'>\n",
      "RangeIndex: 60125 entries, 0 to 60124\n",
      "Data columns (total 7 columns):\n",
      " #   Column       Non-Null Count  Dtype \n",
      "---  ------       --------------  ----- \n",
      " 0   user_id      60125 non-null  object\n",
      " 1   track_name   60125 non-null  object\n",
      " 2   artist_name  60125 non-null  object\n",
      " 3   genre_name   60125 non-null  object\n",
      " 4   city         60125 non-null  object\n",
      " 5   time         60125 non-null  object\n",
      " 6   weekday      60125 non-null  object\n",
      "dtypes: object(7)\n",
      "memory usage: 3.2+ MB\n"
     ]
    }
   ],
   "source": [
    "data.info()"
   ]
  },
  {
   "cell_type": "markdown",
   "id": "9861ce30",
   "metadata": {},
   "source": [
    "## Вывод\n",
    "\n",
    "После предобработки данных выяснилось, что мы избавились от пропусков в данных таблицы, а также избавились от дубликатов. Наши действия позволят вести дальнейший анализ точнее. Имена столбцов теперь корректны и удобны для дальнейшей работы.\n"
   ]
  },
  {
   "cell_type": "markdown",
   "id": "fdf7fb5e",
   "metadata": {},
   "source": [
    "# Анализ данных\n"
   ]
  },
  {
   "cell_type": "markdown",
   "id": "193e7fd7",
   "metadata": {},
   "source": [
    "\n",
    "Пришло время проверить одну из гипоте, что в разных городах пользователи слушают музыку по-разному. Проверяем это предположение по данным о трёх днях недели — понедельнике, среде и пятнице."
   ]
  },
  {
   "cell_type": "markdown",
   "id": "5433e007",
   "metadata": {},
   "source": [
    "Для проверки необходимо сгруппировать данные по городу и подсчитать композиции. Для этого применяем метод **count()**. Для группировки используем метод **groupby()**"
   ]
  },
  {
   "cell_type": "code",
   "execution_count": 69,
   "id": "dd88efec",
   "metadata": {},
   "outputs": [
    {
     "data": {
      "text/plain": [
       "city\n",
       "Moscow              41892\n",
       "Saint-Petersburg    18233\n",
       "Name: genre_name, dtype: int64"
      ]
     },
     "execution_count": 69,
     "metadata": {},
     "output_type": "execute_result"
    }
   ],
   "source": [
    "data.groupby('city')['genre_name'].count()"
   ]
  },
  {
   "cell_type": "markdown",
   "id": "1540ca60",
   "metadata": {},
   "source": [
    "В Москве прослушиваний больше, чем в Питере. Это может говорить нам, что в целом больше пользователей в Москве, поэтому величины сопоставимы.\n",
    "\n",
    "Сгруппируем данные по дню недели и подсчитаем прослушанные в понедельник, среду и пятницу композиции, для которых известен жанр.\n"
   ]
  },
  {
   "cell_type": "code",
   "execution_count": 70,
   "id": "932c8129",
   "metadata": {},
   "outputs": [
    {
     "data": {
      "text/plain": [
       "weekday\n",
       "Friday       21482\n",
       "Monday       20866\n",
       "Wednesday    17777\n",
       "Name: genre_name, dtype: int64"
      ]
     },
     "execution_count": 70,
     "metadata": {},
     "output_type": "execute_result"
    }
   ],
   "source": [
    "data.groupby('weekday')['genre_name'].count()"
   ]
  },
  {
   "cell_type": "markdown",
   "id": "dc9f84c3",
   "metadata": {},
   "source": [
    "можно сделать вывод, что в среду пользователи меньше слушают музыку, например, по причине большей нагруженности на работе."
   ]
  },
  {
   "cell_type": "markdown",
   "id": "c3049d9e",
   "metadata": {},
   "source": [
    "Создадим функцию для определения количества прослушиваний в конкретный день недели в выбранном городе."
   ]
  },
  {
   "cell_type": "code",
   "execution_count": 85,
   "id": "5933c2fb",
   "metadata": {},
   "outputs": [],
   "source": [
    "def f_city_day(data, city, day):\n",
    "    g_list = data[(data['city'] == city) & (data['weekday'] == day)]\n",
    "    n = g_list['genre_name'].count()\n",
    "    return n"
   ]
  },
  {
   "cell_type": "code",
   "execution_count": 86,
   "id": "eb9043d6",
   "metadata": {},
   "outputs": [],
   "source": [
    "# для Москвы\n",
    "result11 = f_city_day(data,'Moscow','Monday')\n",
    "result12 = f_city_day(data,'Moscow','Wednesday')\n",
    "result13 = f_city_day(data,'Moscow','Friday')\n",
    "# для Питера\n",
    "result21 = f_city_day(data,'Saint-Petersburg','Monday')\n",
    "result22 = f_city_day(data,'Saint-Petersburg','Wednesday')\n",
    "result23 = f_city_day(data,'Saint-Petersburg','Friday')"
   ]
  },
  {
   "cell_type": "markdown",
   "id": "52d0d8c0",
   "metadata": {},
   "source": [
    "Сведём полученную информацию в одну таблицу."
   ]
  },
  {
   "cell_type": "code",
   "execution_count": 87,
   "id": "84af3c4d",
   "metadata": {},
   "outputs": [
    {
     "data": {
      "text/html": [
       "<div>\n",
       "<style scoped>\n",
       "    .dataframe tbody tr th:only-of-type {\n",
       "        vertical-align: middle;\n",
       "    }\n",
       "\n",
       "    .dataframe tbody tr th {\n",
       "        vertical-align: top;\n",
       "    }\n",
       "\n",
       "    .dataframe thead th {\n",
       "        text-align: right;\n",
       "    }\n",
       "</style>\n",
       "<table border=\"1\" class=\"dataframe\">\n",
       "  <thead>\n",
       "    <tr style=\"text-align: right;\">\n",
       "      <th></th>\n",
       "      <th>city</th>\n",
       "      <th>monday</th>\n",
       "      <th>wednesday</th>\n",
       "      <th>friday</th>\n",
       "    </tr>\n",
       "  </thead>\n",
       "  <tbody>\n",
       "    <tr>\n",
       "      <th>0</th>\n",
       "      <td>Moscow</td>\n",
       "      <td>15347</td>\n",
       "      <td>10865</td>\n",
       "      <td>15680</td>\n",
       "    </tr>\n",
       "    <tr>\n",
       "      <th>1</th>\n",
       "      <td>Saint-Petersburg</td>\n",
       "      <td>5519</td>\n",
       "      <td>6912</td>\n",
       "      <td>5802</td>\n",
       "    </tr>\n",
       "  </tbody>\n",
       "</table>\n",
       "</div>"
      ],
      "text/plain": [
       "               city  monday  wednesday  friday\n",
       "0            Moscow   15347      10865   15680\n",
       "1  Saint-Petersburg    5519       6912    5802"
      ]
     },
     "execution_count": 87,
     "metadata": {},
     "output_type": "execute_result"
    }
   ],
   "source": [
    "tcolumns = ['city', 'monday', 'wednesday', 'friday']\n",
    "trows = ['Moscow',result11,result12,result13],['Saint-Petersburg',result21,result22,result23]\n",
    "table = pd.DataFrame(data=trows, columns=tcolumns)\n",
    "table"
   ]
  },
  {
   "cell_type": "markdown",
   "id": "f565074e",
   "metadata": {},
   "source": [
    "## Вывод\n",
    "\n",
    "Действительно в этих городах музыку слушают по-разному. В Москве больше всего прослушиваний в пятницу и чуть меньше в понедельник, а в среду же идёт большой спад по числу прослушиваний, когда в Питере наоборот, в среду достигается пик прослушиваний, а в понедельник и пятницу число прослушиваний почти одинаково меньше.\n",
    "\n",
    "\n"
   ]
  },
  {
   "cell_type": "markdown",
   "id": "e7c92191",
   "metadata": {},
   "source": [
    "## Какие жанры преобладают в разных городах\n",
    "\n",
    "\n",
    "Определим какие жанры преобладают в разных городах в понедельник утром и в пятницу вечером. Есть предположение, что в понедельник утром пользователи слушают больше бодрящей музыки (например, жанра поп), а вечером пятницы — больше танцевальных (например, электронику)."
   ]
  },
  {
   "cell_type": "markdown",
   "id": "f4361dfa",
   "metadata": {},
   "source": [
    "Получим таблицы данных по Москве moscow_general и по Санкт-Петербургу spb_general."
   ]
  },
  {
   "cell_type": "code",
   "execution_count": 88,
   "id": "b4fc05b3",
   "metadata": {},
   "outputs": [],
   "source": [
    "moscow_general = data[data['city'] =='Moscow']\n",
    "spb_general = data[data['city'] =='Saint-Petersburg']"
   ]
  },
  {
   "cell_type": "markdown",
   "id": "df38c2a1",
   "metadata": {},
   "source": [
    "Создаём функцию **genre_weekday()**, которая возвращает список жанров по запрошенному дню недели и времени суток с такого-то Метод **sort_values(by = 'название столбца')** для сортировки таблицы по указанному столбцу."
   ]
  },
  {
   "cell_type": "code",
   "execution_count": 101,
   "id": "28967c1c",
   "metadata": {},
   "outputs": [],
   "source": [
    "def genre_weekday(data, day, time1, time2):\n",
    "    g_list = data[ (data['weekday'] == day) & (data['time'] > time1) & (data['time'] < time2) ]\n",
    "    g_list_sorted = g_list.groupby(['genre_name']).count().sort_values(by='artist_name',ascending=False)['artist_name'].head(10)\n",
    "    return g_list_sorted"
   ]
  },
  {
   "cell_type": "markdown",
   "id": "4d8b9854",
   "metadata": {},
   "source": [
    "Cравниваем полученные результаты по таблице для Москвы и Санкт-Петербурга в понедельник утром (с 7 до 11) и в пятницу вечером (с 17 до 23)."
   ]
  },
  {
   "cell_type": "code",
   "execution_count": 106,
   "id": "59df0385",
   "metadata": {},
   "outputs": [
    {
     "data": {
      "text/plain": [
       "genre_name\n",
       "pop            781\n",
       "dance          549\n",
       "electronic     480\n",
       "rock           474\n",
       "hiphop         286\n",
       "ruspop         186\n",
       "world          181\n",
       "rusrap         175\n",
       "alternative    164\n",
       "classical      157\n",
       "Name: artist_name, dtype: int64"
      ]
     },
     "execution_count": 106,
     "metadata": {},
     "output_type": "execute_result"
    }
   ],
   "source": [
    "genre_weekday(moscow_general, 'Monday', '07:00:00', '11:00:00')\n"
   ]
  },
  {
   "cell_type": "code",
   "execution_count": 107,
   "id": "2c218eb6",
   "metadata": {},
   "outputs": [
    {
     "data": {
      "text/plain": [
       "genre_name\n",
       "pop            218\n",
       "dance          182\n",
       "rock           162\n",
       "electronic     147\n",
       "hiphop          80\n",
       "ruspop          64\n",
       "alternative     58\n",
       "rusrap          55\n",
       "jazz            44\n",
       "classical       40\n",
       "Name: artist_name, dtype: int64"
      ]
     },
     "execution_count": 107,
     "metadata": {},
     "output_type": "execute_result"
    }
   ],
   "source": [
    "genre_weekday(spb_general, 'Monday', '07:00:00', '11:00:00')"
   ]
  },
  {
   "cell_type": "code",
   "execution_count": 108,
   "id": "43e1415d",
   "metadata": {},
   "outputs": [
    {
     "data": {
      "text/plain": [
       "genre_name\n",
       "pop            713\n",
       "rock           517\n",
       "dance          495\n",
       "electronic     482\n",
       "hiphop         273\n",
       "world          208\n",
       "ruspop         170\n",
       "alternative    163\n",
       "classical      163\n",
       "rusrap         142\n",
       "Name: artist_name, dtype: int64"
      ]
     },
     "execution_count": 108,
     "metadata": {},
     "output_type": "execute_result"
    }
   ],
   "source": [
    "genre_weekday(moscow_general, 'Friday', '17:00:00', '23:00:00')"
   ]
  },
  {
   "cell_type": "code",
   "execution_count": 109,
   "id": "6870db76",
   "metadata": {},
   "outputs": [
    {
     "data": {
      "text/plain": [
       "genre_name\n",
       "pop            256\n",
       "rock           216\n",
       "electronic     216\n",
       "dance          210\n",
       "hiphop          97\n",
       "alternative     63\n",
       "jazz            61\n",
       "classical       60\n",
       "rusrap          59\n",
       "world           54\n",
       "Name: artist_name, dtype: int64"
      ]
     },
     "execution_count": 109,
     "metadata": {},
     "output_type": "execute_result"
    }
   ],
   "source": [
    "genre_weekday(spb_general, 'Friday', '17:00:00', '23:00:00')"
   ]
  },
  {
   "cell_type": "markdown",
   "id": "f14b61a2",
   "metadata": {},
   "source": [
    "Популярные жанры в понедельник утром в Питере и Москве оказались похожи: везде, как и предполагалось, популярен **pop**. Несмотря на это, концовка топ-10 для двух городов различается: в Питере в топ-10 входит **jazz** и **rusrap**, а в Москве жанр **world**.\n",
    "\n",
    "В конце недели ситуация не меняется. Поп-музыка всё так же на первом месте. Опять разница заметна только в концовке топ-10, где в Питере пятничным вечером тоже присутствует жанр **world**."
   ]
  },
  {
   "cell_type": "markdown",
   "id": "b0f29950",
   "metadata": {},
   "source": [
    "## Вывод"
   ]
  },
  {
   "cell_type": "markdown",
   "id": "596071d9",
   "metadata": {},
   "source": [
    "Жанр **pop** безусловный лидер, а топ-5 в целом не различается в обеих столицах. При этом видно, что концовка списка более «живая»: для каждого города выделяются более характерные жанры, которые действительно меняют свои позиции в зависимости от дня недели и времени."
   ]
  },
  {
   "cell_type": "markdown",
   "id": "489603e4",
   "metadata": {},
   "source": [
    "## Проверка последней гипотезы"
   ]
  },
  {
   "cell_type": "markdown",
   "id": "c9ccfd4f",
   "metadata": {},
   "source": [
    "Гипотеза: Питер богат своей рэп-культурой, поэтому это направление там слушают чаще, а Москва — город контрастов, но основная масса пользователей слушает попсу.\n",
    "\n",
    "Сгруппируем таблицу moscow_general по жанру, сосчитаем численность композиций каждого жанра методом **count()**, отсортируем в порядке убывания и сохраним результат в таблице moscow_genres.\n",
    "\n",
    "Просмотрим первые 10 строк этой новой таблицы."
   ]
  },
  {
   "cell_type": "code",
   "execution_count": 113,
   "id": "65015890",
   "metadata": {},
   "outputs": [
    {
     "data": {
      "text/plain": [
       "genre_name\n",
       "pop            5892\n",
       "dance          4435\n",
       "rock           3965\n",
       "electronic     3786\n",
       "hiphop         2096\n",
       "classical      1616\n",
       "world          1432\n",
       "alternative    1379\n",
       "ruspop         1372\n",
       "rusrap         1161\n",
       "Name: artist_name, dtype: int64"
      ]
     },
     "execution_count": 113,
     "metadata": {},
     "output_type": "execute_result"
    }
   ],
   "source": [
    "moscow_genres = moscow_general.groupby(['genre_name']).count()['artist_name'].sort_values(ascending=False)\n",
    "moscow_genres.head(10)"
   ]
  },
  {
   "cell_type": "markdown",
   "id": "3c97e498",
   "metadata": {},
   "source": [
    "Сгруппируем таблицу spb_general по жанру, сосчитаем численность композиций каждого жанра методом count(), отсортируем в порядке убывания и сохраним результат в таблице spb_genres.\n",
    "\n",
    "Просматриваем первые 10 строк этой таблицы. Теперь можно сравнивать два города."
   ]
  },
  {
   "cell_type": "code",
   "execution_count": 114,
   "id": "98788824",
   "metadata": {},
   "outputs": [
    {
     "data": {
      "text/plain": [
       "genre_name\n",
       "pop            2430\n",
       "dance          1932\n",
       "rock           1879\n",
       "electronic     1736\n",
       "hiphop          960\n",
       "alternative     649\n",
       "classical       646\n",
       "rusrap          564\n",
       "ruspop          538\n",
       "world           515\n",
       "Name: artist_name, dtype: int64"
      ]
     },
     "execution_count": 114,
     "metadata": {},
     "output_type": "execute_result"
    }
   ],
   "source": [
    "spb_genres = spb_general.groupby(['genre_name']).count()['artist_name'].sort_values(ascending=False)\n",
    "spb_genres.head(10)"
   ]
  },
  {
   "cell_type": "markdown",
   "id": "d0417dd2",
   "metadata": {},
   "source": [
    "## Вывод"
   ]
  },
  {
   "cell_type": "markdown",
   "id": "75fa64fb",
   "metadata": {},
   "source": [
    "В Москве абсолютно популярным жанром является **pop**, но также и в Санкт-Петербурге этот жанр является лидирующим в списках. \n",
    "А рэп, вопреки предположению, занимает в обоих городах низкие позиции."
   ]
  },
  {
   "cell_type": "markdown",
   "id": "ddf36f2e",
   "metadata": {},
   "source": [
    "# Результаты исследования"
   ]
  },
  {
   "cell_type": "markdown",
   "id": "405bb548",
   "metadata": {},
   "source": [
    "### Рабочие гипотезы:\n",
    "\n",
    "1. музыку в двух городах — Москве и Санкт-Петербурге — слушают в разном режиме;\n",
    "\n",
    "2. списки десяти самых популярных жанров утром в понедельник и вечером в пятницу имеют характерные отличия;\n",
    "\n",
    "3. население двух городов предпочитает разные музыкальные жанры.\n",
    "\n",
    "### Общие результаты\n",
    "\n",
    "Москва и Петербург сходятся во вкусах: везде преобладает популярная музыка. При этом зависимости предпочтений от дня недели в каждом отдельном городе нет — люди постоянно слушают то, что им нравится. Но между городами в разрезе дней неделей наблюдается зеркальность относительно среды: Москва больше слушает в понедельник и пятницу, а Петербург наоборот - больше в среду, но меньше в понедельник и пятницу.\n",
    "\n",
    "В результате первая гипотеза подтверждена, вторая гипотеза подтверждена и третья не подтверждена."
   ]
  },
  {
   "cell_type": "code",
   "execution_count": 115,
   "id": "785522d5",
   "metadata": {},
   "outputs": [
    {
     "data": {
      "text/html": [
       "<div>\n",
       "<style scoped>\n",
       "    .dataframe tbody tr th:only-of-type {\n",
       "        vertical-align: middle;\n",
       "    }\n",
       "\n",
       "    .dataframe tbody tr th {\n",
       "        vertical-align: top;\n",
       "    }\n",
       "\n",
       "    .dataframe thead th {\n",
       "        text-align: right;\n",
       "    }\n",
       "</style>\n",
       "<table border=\"1\" class=\"dataframe\">\n",
       "  <thead>\n",
       "    <tr style=\"text-align: right;\">\n",
       "      <th></th>\n",
       "      <th>user_id</th>\n",
       "      <th>track_name</th>\n",
       "      <th>artist_name</th>\n",
       "      <th>genre_name</th>\n",
       "      <th>city</th>\n",
       "      <th>time</th>\n",
       "      <th>weekday</th>\n",
       "    </tr>\n",
       "  </thead>\n",
       "  <tbody>\n",
       "    <tr>\n",
       "      <th>0</th>\n",
       "      <td>FFB692EC</td>\n",
       "      <td>Kamigata To Boots</td>\n",
       "      <td>unknown</td>\n",
       "      <td>rock</td>\n",
       "      <td>Saint-Petersburg</td>\n",
       "      <td>20:28:33</td>\n",
       "      <td>Wednesday</td>\n",
       "    </tr>\n",
       "    <tr>\n",
       "      <th>1</th>\n",
       "      <td>55204538</td>\n",
       "      <td>Delayed Because of Accident</td>\n",
       "      <td>unknown</td>\n",
       "      <td>rock</td>\n",
       "      <td>Moscow</td>\n",
       "      <td>14:07:09</td>\n",
       "      <td>Friday</td>\n",
       "    </tr>\n",
       "    <tr>\n",
       "      <th>2</th>\n",
       "      <td>20EC38</td>\n",
       "      <td>Funiculì funiculà</td>\n",
       "      <td>unknown</td>\n",
       "      <td>pop</td>\n",
       "      <td>Saint-Petersburg</td>\n",
       "      <td>20:58:07</td>\n",
       "      <td>Wednesday</td>\n",
       "    </tr>\n",
       "    <tr>\n",
       "      <th>3</th>\n",
       "      <td>A3DD03C9</td>\n",
       "      <td>Dragons in the Sunset</td>\n",
       "      <td>unknown</td>\n",
       "      <td>folk</td>\n",
       "      <td>Saint-Petersburg</td>\n",
       "      <td>08:37:09</td>\n",
       "      <td>Monday</td>\n",
       "    </tr>\n",
       "    <tr>\n",
       "      <th>4</th>\n",
       "      <td>E2DC1FAE</td>\n",
       "      <td>Soul People</td>\n",
       "      <td>unknown</td>\n",
       "      <td>dance</td>\n",
       "      <td>Moscow</td>\n",
       "      <td>08:34:34</td>\n",
       "      <td>Monday</td>\n",
       "    </tr>\n",
       "    <tr>\n",
       "      <th>5</th>\n",
       "      <td>842029A1</td>\n",
       "      <td>Преданная</td>\n",
       "      <td>unknown</td>\n",
       "      <td>rusrap</td>\n",
       "      <td>Saint-Petersburg</td>\n",
       "      <td>13:09:41</td>\n",
       "      <td>Friday</td>\n",
       "    </tr>\n",
       "    <tr>\n",
       "      <th>6</th>\n",
       "      <td>4CB90AA5</td>\n",
       "      <td>True</td>\n",
       "      <td>unknown</td>\n",
       "      <td>dance</td>\n",
       "      <td>Moscow</td>\n",
       "      <td>13:00:07</td>\n",
       "      <td>Wednesday</td>\n",
       "    </tr>\n",
       "    <tr>\n",
       "      <th>7</th>\n",
       "      <td>F03E1C1F</td>\n",
       "      <td>Feeling This Way</td>\n",
       "      <td>unknown</td>\n",
       "      <td>dance</td>\n",
       "      <td>Moscow</td>\n",
       "      <td>20:47:49</td>\n",
       "      <td>Wednesday</td>\n",
       "    </tr>\n",
       "    <tr>\n",
       "      <th>8</th>\n",
       "      <td>8FA1D3BE</td>\n",
       "      <td>И вновь продолжается бой</td>\n",
       "      <td>unknown</td>\n",
       "      <td>ruspop</td>\n",
       "      <td>Moscow</td>\n",
       "      <td>09:17:40</td>\n",
       "      <td>Friday</td>\n",
       "    </tr>\n",
       "    <tr>\n",
       "      <th>9</th>\n",
       "      <td>E772D5C0</td>\n",
       "      <td>Pessimist</td>\n",
       "      <td>unknown</td>\n",
       "      <td>dance</td>\n",
       "      <td>Saint-Petersburg</td>\n",
       "      <td>21:20:49</td>\n",
       "      <td>Wednesday</td>\n",
       "    </tr>\n",
       "  </tbody>\n",
       "</table>\n",
       "</div>"
      ],
      "text/plain": [
       "    user_id                   track_name artist_name genre_name  \\\n",
       "0  FFB692EC            Kamigata To Boots     unknown       rock   \n",
       "1  55204538  Delayed Because of Accident     unknown       rock   \n",
       "2    20EC38            Funiculì funiculà     unknown        pop   \n",
       "3  A3DD03C9        Dragons in the Sunset     unknown       folk   \n",
       "4  E2DC1FAE                  Soul People     unknown      dance   \n",
       "5  842029A1                    Преданная     unknown     rusrap   \n",
       "6  4CB90AA5                         True     unknown      dance   \n",
       "7  F03E1C1F             Feeling This Way     unknown      dance   \n",
       "8  8FA1D3BE     И вновь продолжается бой     unknown     ruspop   \n",
       "9  E772D5C0                    Pessimist     unknown      dance   \n",
       "\n",
       "               city      time    weekday  \n",
       "0  Saint-Petersburg  20:28:33  Wednesday  \n",
       "1            Moscow  14:07:09     Friday  \n",
       "2  Saint-Petersburg  20:58:07  Wednesday  \n",
       "3  Saint-Petersburg  08:37:09     Monday  \n",
       "4            Moscow  08:34:34     Monday  \n",
       "5  Saint-Petersburg  13:09:41     Friday  \n",
       "6            Moscow  13:00:07  Wednesday  \n",
       "7            Moscow  20:47:49  Wednesday  \n",
       "8            Moscow  09:17:40     Friday  \n",
       "9  Saint-Petersburg  21:20:49  Wednesday  "
      ]
     },
     "execution_count": 115,
     "metadata": {},
     "output_type": "execute_result"
    }
   ],
   "source": [
    "data.head(10)"
   ]
  },
  {
   "cell_type": "markdown",
   "id": "c1b5e8da",
   "metadata": {},
   "source": [
    "В колонке **'artist_name'** есть незаполненные значения *unknown*."
   ]
  },
  {
   "cell_type": "code",
   "execution_count": 116,
   "id": "6ad0ac01",
   "metadata": {},
   "outputs": [
    {
     "name": "stdout",
     "output_type": "stream",
     "text": [
      "<class 'pandas.core.frame.DataFrame'>\n",
      "RangeIndex: 60125 entries, 0 to 60124\n",
      "Data columns (total 7 columns):\n",
      " #   Column       Non-Null Count  Dtype \n",
      "---  ------       --------------  ----- \n",
      " 0   user_id      60125 non-null  object\n",
      " 1   track_name   60125 non-null  object\n",
      " 2   artist_name  60125 non-null  object\n",
      " 3   genre_name   60125 non-null  object\n",
      " 4   city         60125 non-null  object\n",
      " 5   time         60125 non-null  object\n",
      " 6   weekday      60125 non-null  object\n",
      "dtypes: object(7)\n",
      "memory usage: 3.2+ MB\n"
     ]
    }
   ],
   "source": [
    "data.info()"
   ]
  },
  {
   "cell_type": "code",
   "execution_count": 117,
   "id": "9dcd70c4",
   "metadata": {},
   "outputs": [
    {
     "data": {
      "text/plain": [
       "(60125, 7)"
      ]
     },
     "execution_count": 117,
     "metadata": {},
     "output_type": "execute_result"
    }
   ],
   "source": [
    "data.shape"
   ]
  }
 ],
 "metadata": {
  "kernelspec": {
   "display_name": "Python 3 (ipykernel)",
   "language": "python",
   "name": "python3"
  },
  "language_info": {
   "codemirror_mode": {
    "name": "ipython",
    "version": 3
   },
   "file_extension": ".py",
   "mimetype": "text/x-python",
   "name": "python",
   "nbconvert_exporter": "python",
   "pygments_lexer": "ipython3",
   "version": "3.9.7"
  }
 },
 "nbformat": 4,
 "nbformat_minor": 5
}
